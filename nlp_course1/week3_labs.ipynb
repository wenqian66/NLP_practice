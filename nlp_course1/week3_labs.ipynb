{
 "cells": [
  {
   "cell_type": "code",
   "execution_count": 73,
   "id": "a685981e-9a50-4c44-ab4c-5ae1a926ec67",
   "metadata": {},
   "outputs": [],
   "source": [
    "import numpy as np  \n",
    "import pandas as pd \n",
    "import pickle # Python object serialization library. Not secure\n",
    "from sklearn.decomposition import PCA\n",
    "import math                                # Library for math functions\n",
    "import random\n",
    "import matplotlib.lines as mlines\n",
    "import matplotlib.transforms as mtransforms\n",
    "\n",
    "word_embeddings = pickle.load( open( \"word_embeddings_subset.p\", \"rb\" ) )\n",
    "len(word_embeddings) # there should be 243 words that will be used in this assignment\n",
    "import matplotlib.pyplot as plt # Import matplotlib\n",
    "%matplotlib inline"
   ]
  },
  {
   "cell_type": "code",
   "execution_count": null,
   "id": "bbcb1e0f-135a-4dfb-8291-ca592200a072",
   "metadata": {},
   "outputs": [],
   "source": [
    "#Linear algebra"
   ]
  },
  {
   "cell_type": "code",
   "execution_count": 2,
   "id": "8323981f-9b5b-4227-a0e1-4356c4cb7343",
   "metadata": {},
   "outputs": [],
   "source": [
    "alist = [1, 2, 3, 4, 5]   # Define a python list. It looks like an np array\n",
    "narray = np.array([1, 2, 3, 4])"
   ]
  },
  {
   "cell_type": "code",
   "execution_count": 3,
   "id": "40855689-a94e-49b5-8e62-c722d623c404",
   "metadata": {},
   "outputs": [
    {
     "name": "stdout",
     "output_type": "stream",
     "text": [
      "[1, 2, 3, 4, 5]\n",
      "[1 2 3 4]\n",
      "<class 'list'>\n",
      "<class 'numpy.ndarray'>\n"
     ]
    }
   ],
   "source": [
    "print(alist)\n",
    "print(narray)\n",
    "\n",
    "print(type(alist))\n",
    "print(type(narray))"
   ]
  },
  {
   "cell_type": "code",
   "execution_count": null,
   "id": "bb6f4c77-5967-447f-bb6c-fe2f53aab5d2",
   "metadata": {},
   "outputs": [],
   "source": [
    "#Algebraic operators on NumPy arrays vs. Python lists¶"
   ]
  },
  {
   "cell_type": "code",
   "execution_count": 4,
   "id": "34b8b972-dc33-4b4d-9ec3-2a75ac5eaf70",
   "metadata": {},
   "outputs": [
    {
     "name": "stdout",
     "output_type": "stream",
     "text": [
      "[2 4 6 8]\n",
      "[1, 2, 3, 4, 5, 1, 2, 3, 4, 5]\n"
     ]
    }
   ],
   "source": [
    "print(narray + narray)\n",
    "print(alist + alist)"
   ]
  },
  {
   "cell_type": "code",
   "execution_count": 5,
   "id": "6a312f88-8e97-4158-a2e9-d3e611f1516d",
   "metadata": {},
   "outputs": [
    {
     "name": "stdout",
     "output_type": "stream",
     "text": [
      "[ 3  6  9 12]\n",
      "[1, 2, 3, 4, 5, 1, 2, 3, 4, 5, 1, 2, 3, 4, 5]\n"
     ]
    }
   ],
   "source": [
    "print(narray * 3)\n",
    "print(alist * 3)"
   ]
  },
  {
   "cell_type": "code",
   "execution_count": null,
   "id": "4cd138bb-bd35-4807-849b-985ee37b36c4",
   "metadata": {},
   "outputs": [],
   "source": [
    "#Matrix or Array of Arrays"
   ]
  },
  {
   "cell_type": "code",
   "execution_count": 6,
   "id": "9599273b-5d97-4c70-b2a5-d387eef9c7c6",
   "metadata": {},
   "outputs": [
    {
     "name": "stdout",
     "output_type": "stream",
     "text": [
      "[[1 2 3 4]\n",
      " [1 2 3 4]\n",
      " [1 2 3 4]]\n",
      "[[1 2 3 4 5]\n",
      " [1 2 3 4 5]\n",
      " [1 2 3 4 5]]\n",
      "[[1 2 3 4]\n",
      " [1 1 1 1]\n",
      " [1 2 3 4]]\n"
     ]
    }
   ],
   "source": [
    "npmatrix1 = np.array([narray, narray, narray]) # Matrix initialized with NumPy arrays\n",
    "npmatrix2 = np.array([alist, alist, alist]) # Matrix initialized with lists\n",
    "npmatrix3 = np.array([narray, [1, 1, 1, 1], narray]) # Matrix initialized with both types\n",
    "\n",
    "print(npmatrix1)\n",
    "print(npmatrix2)\n",
    "print(npmatrix3)"
   ]
  },
  {
   "cell_type": "code",
   "execution_count": null,
   "id": "d6994132-f580-478d-bf2b-a2ae1db2dc76",
   "metadata": {},
   "outputs": [],
   "source": [
    "# when defining a matrix, be sure that all the rows contain the same number of elements"
   ]
  },
  {
   "cell_type": "code",
   "execution_count": 7,
   "id": "bbfd100c-705a-47a7-bdc4-31cedf45398e",
   "metadata": {},
   "outputs": [
    {
     "name": "stdout",
     "output_type": "stream",
     "text": [
      "[[1 2]\n",
      " [3 4]]\n",
      "[[2 4]\n",
      " [6 8]]\n"
     ]
    }
   ],
   "source": [
    "# Example 1:\n",
    "\n",
    "okmatrix = np.array([[1, 2], [3, 4]]) # Define a 2x2 matrix\n",
    "print(okmatrix) # Print okmatrix\n",
    "print(okmatrix * 2) # Print a scaled version of okmatrix"
   ]
  },
  {
   "cell_type": "code",
   "execution_count": 8,
   "id": "bd5ab08b-0689-45a7-8c6e-aa0e3d31ac91",
   "metadata": {},
   "outputs": [
    {
     "ename": "ValueError",
     "evalue": "setting an array element with a sequence. The requested array has an inhomogeneous shape after 1 dimensions. The detected shape was (3,) + inhomogeneous part.",
     "output_type": "error",
     "traceback": [
      "\u001b[0;31m---------------------------------------------------------------------------\u001b[0m",
      "\u001b[0;31mValueError\u001b[0m                                Traceback (most recent call last)",
      "Cell \u001b[0;32mIn[8], line 3\u001b[0m\n\u001b[1;32m      1\u001b[0m \u001b[38;5;66;03m# Example 2:\u001b[39;00m\n\u001b[0;32m----> 3\u001b[0m badmatrix \u001b[38;5;241m=\u001b[39m np\u001b[38;5;241m.\u001b[39marray([[\u001b[38;5;241m1\u001b[39m, \u001b[38;5;241m2\u001b[39m], [\u001b[38;5;241m3\u001b[39m, \u001b[38;5;241m4\u001b[39m], [\u001b[38;5;241m5\u001b[39m, \u001b[38;5;241m6\u001b[39m, \u001b[38;5;241m7\u001b[39m]]) \u001b[38;5;66;03m# Define a matrix. Note the third row contains 3 elements\u001b[39;00m\n\u001b[1;32m      4\u001b[0m \u001b[38;5;28mprint\u001b[39m(badmatrix) \u001b[38;5;66;03m# Print the malformed matrix\u001b[39;00m\n\u001b[1;32m      5\u001b[0m \u001b[38;5;28mprint\u001b[39m(badmatrix \u001b[38;5;241m*\u001b[39m \u001b[38;5;241m2\u001b[39m)\n",
      "\u001b[0;31mValueError\u001b[0m: setting an array element with a sequence. The requested array has an inhomogeneous shape after 1 dimensions. The detected shape was (3,) + inhomogeneous part."
     ]
    }
   ],
   "source": [
    "# Example 2:\n",
    "\n",
    "badmatrix = np.array([[1, 2], [3, 4], [5, 6, 7]]) # Define a matrix. Note the third row contains 3 elements\n",
    "print(badmatrix) # Print the malformed matrix\n",
    "print(badmatrix * 2) # It is supposed to scale the whole matrix"
   ]
  },
  {
   "cell_type": "code",
   "execution_count": 9,
   "id": "26fc1d10-d987-41a6-8603-0ab6f9d7cf9a",
   "metadata": {},
   "outputs": [
    {
     "name": "stdout",
     "output_type": "stream",
     "text": [
      "[[3 5]\n",
      " [7 9]]\n"
     ]
    }
   ],
   "source": [
    "# Scale by 2 and translate 1 unit the matrix\n",
    "result = okmatrix * 2 + 1 # For each element in the matrix, multiply by 2 and add 1\n",
    "print(result)"
   ]
  },
  {
   "cell_type": "code",
   "execution_count": 10,
   "id": "035cd82e-5c28-4b79-a4ed-e36e521b8219",
   "metadata": {},
   "outputs": [
    {
     "name": "stdout",
     "output_type": "stream",
     "text": [
      "[[2 4]\n",
      " [6 8]]\n",
      "[[0 0]\n",
      " [0 0]]\n"
     ]
    }
   ],
   "source": [
    "# Add two compatible matrices\n",
    "result1 = okmatrix + okmatrix\n",
    "print(result1)\n",
    "\n",
    "# Subtract two compatible matrices. This is called the difference vector\n",
    "result2 = okmatrix - okmatrix\n",
    "print(result2)"
   ]
  },
  {
   "cell_type": "code",
   "execution_count": 11,
   "id": "48c590b9-3fd7-4e50-b6ff-c81d9b9fe744",
   "metadata": {},
   "outputs": [
    {
     "name": "stdout",
     "output_type": "stream",
     "text": [
      "[[ 1  4]\n",
      " [ 9 16]]\n"
     ]
    }
   ],
   "source": [
    "result = okmatrix * okmatrix # Multiply each element by itself\n",
    "print(result)"
   ]
  },
  {
   "cell_type": "code",
   "execution_count": 12,
   "id": "5e339572-bdd9-4add-82ff-ec8aff872a0e",
   "metadata": {},
   "outputs": [
    {
     "name": "stdout",
     "output_type": "stream",
     "text": [
      "Original matrix 3 x 2\n",
      "[[1 2]\n",
      " [3 4]\n",
      " [5 6]]\n",
      "Transposed matrix 2 x 3\n",
      "[[1 3 5]\n",
      " [2 4 6]]\n"
     ]
    }
   ],
   "source": [
    "#Transpose a matrix\n",
    "matrix3x2 = np.array([[1, 2], [3, 4], [5, 6]]) # Define a 3x2 matrix\n",
    "print('Original matrix 3 x 2')\n",
    "print(matrix3x2)\n",
    "print('Transposed matrix 2 x 3')\n",
    "print(matrix3x2.T)"
   ]
  },
  {
   "cell_type": "code",
   "execution_count": 15,
   "id": "bd99a8ec-032e-4eb1-9b97-da0e8dad8aeb",
   "metadata": {},
   "outputs": [
    {
     "name": "stdout",
     "output_type": "stream",
     "text": [
      "Original array\n",
      "[1 2 3 4]\n",
      "Transposed array\n",
      "[1 2 3 4]\n"
     ]
    }
   ],
   "source": [
    "#does not affect 1D arrays.\n",
    "nparray = np.array([1, 2, 3, 4]) # Define an array\n",
    "print('Original array')\n",
    "print(nparray)\n",
    "print('Transposed array')\n",
    "print(nparray.T)"
   ]
  },
  {
   "cell_type": "code",
   "execution_count": 14,
   "id": "fa7d2215-b5a2-4794-afdb-c59eb3323ff1",
   "metadata": {},
   "outputs": [
    {
     "name": "stdout",
     "output_type": "stream",
     "text": [
      "Original array\n",
      "[[1 2 3 4]]\n",
      "Transposed array\n",
      "[[1]\n",
      " [2]\n",
      " [3]\n",
      " [4]]\n"
     ]
    }
   ],
   "source": [
    "nparray = np.array([[1, 2, 3, 4]]) # Define a 1 x 4 matrix. Note the 2 level of square brackets\n",
    "print('Original array')\n",
    "print(nparray)\n",
    "print('Transposed array')\n",
    "print(nparray.T)"
   ]
  },
  {
   "cell_type": "code",
   "execution_count": 16,
   "id": "174d4773-3263-4188-8d7e-457bd415072e",
   "metadata": {},
   "outputs": [
    {
     "name": "stdout",
     "output_type": "stream",
     "text": [
      "5.477225575051661\n",
      "5.477225575051661\n"
     ]
    }
   ],
   "source": [
    "#Get the norm of a nparray or matrix\n",
    "nparray1 = np.array([1, 2, 3, 4]) # Define an array\n",
    "norm1 = np.linalg.norm(nparray1)\n",
    "\n",
    "nparray2 = np.array([[1, 2], [3, 4]]) # Define a 2 x 2 matrix. Note the 2 level of square brackets\n",
    "norm2 = np.linalg.norm(nparray2) \n",
    "\n",
    "print(norm1)\n",
    "print(norm2)"
   ]
  },
  {
   "cell_type": "code",
   "execution_count": 17,
   "id": "7eca17ce-03be-4ad3-8372-0de7c3a1e100",
   "metadata": {},
   "outputs": [
    {
     "name": "stdout",
     "output_type": "stream",
     "text": [
      "[3.74165739 3.74165739]\n",
      "[1.41421356 2.82842712 4.24264069]\n"
     ]
    }
   ],
   "source": [
    "nparray2 = np.array([[1, 1], [2, 2], [3, 3]]) # Define a 3 x 2 matrix. \n",
    "\n",
    "normByCols = np.linalg.norm(nparray2, axis=0) # Get the norm for each column. Returns 2 elements\n",
    "normByRows = np.linalg.norm(nparray2, axis=1) # get the norm for each row. Returns 3 elements\n",
    "\n",
    "print(normByCols)\n",
    "print(normByRows)\n"
   ]
  },
  {
   "cell_type": "code",
   "execution_count": 19,
   "id": "e62bc869-9a20-4964-af1d-d35eb29e974b",
   "metadata": {},
   "outputs": [
    {
     "name": "stdout",
     "output_type": "stream",
     "text": [
      "38\n"
     ]
    }
   ],
   "source": [
    "#dot product between arrays:\n",
    "nparray1 = np.array([0, 1, 2, 3]) # Define an array\n",
    "nparray2 = np.array([4, 5, 6, 7]) # Define an array\n",
    "\n",
    "flavor1 = np.dot(nparray1, nparray2) # Recommended way\n",
    "print(flavor1)\n"
   ]
  },
  {
   "cell_type": "code",
   "execution_count": 20,
   "id": "bcd49dd0-385b-409b-b0c7-792926eebc60",
   "metadata": {},
   "outputs": [
    {
     "name": "stdout",
     "output_type": "stream",
     "text": [
      "11 = 11\n"
     ]
    }
   ],
   "source": [
    "norm1 = np.dot(np.array([1, 2]), np.array([3, 4])) # Dot product on nparrays\n",
    "norm2 = np.dot([1, 2], [3, 4]) # Dot product on python lists\n",
    "\n",
    "print(norm1, '=', norm2 )"
   ]
  },
  {
   "cell_type": "code",
   "execution_count": 21,
   "id": "e4b0a848-cff5-4650-b0a8-9928fee9abe4",
   "metadata": {},
   "outputs": [
    {
     "name": "stdout",
     "output_type": "stream",
     "text": [
      "Sum by columns: \n",
      "[ 6 -6]\n",
      "Sum by rows:\n",
      "[0 0 0]\n"
     ]
    }
   ],
   "source": [
    "#Sums by rows or columns\n",
    "nparray2 = np.array([[1, -1], [2, -2], [3, -3]]) # Define a 3 x 2 matrix. \n",
    "\n",
    "sumByCols = np.sum(nparray2, axis=0) # Get the sum for each column. Returns 2 elements\n",
    "sumByRows = np.sum(nparray2, axis=1) # get the sum for each row. Returns 3 elements\n",
    "\n",
    "print('Sum by columns: ')\n",
    "print(sumByCols)\n",
    "print('Sum by rows:')\n",
    "print(sumByRows)"
   ]
  },
  {
   "cell_type": "code",
   "execution_count": 23,
   "id": "a0f223bf-7ac3-4415-aa3b-db1775a47542",
   "metadata": {},
   "outputs": [],
   "source": [
    "#mean by rows or columns\n",
    "##$$ mean(\\vec a) = \\frac {{\\sum_{i=1}^{n} a_i }}{n}$$"
   ]
  },
  {
   "cell_type": "code",
   "execution_count": 24,
   "id": "b1e23bba-ad9b-4ba3-8205-53c65561e887",
   "metadata": {},
   "outputs": [
    {
     "name": "stdout",
     "output_type": "stream",
     "text": [
      "Matrix mean: \n",
      "0.0\n",
      "Mean by columns: \n",
      "[ 2. -2.]\n",
      "Mean by rows:\n",
      "[0. 0. 0.]\n"
     ]
    }
   ],
   "source": [
    "nparray2 = np.array([[1, -1], [2, -2], [3, -3]]) # Define a 3 x 2 matrix. Chosen to be a matrix with 0 mean\n",
    "\n",
    "mean = np.mean(nparray2) # Get the mean for the whole matrix\n",
    "meanByCols = np.mean(nparray2, axis=0) # Get the mean for each column. Returns 2 elements\n",
    "meanByRows = np.mean(nparray2, axis=1) # get the mean for each row. Returns 3 elements\n",
    "\n",
    "print('Matrix mean: ')\n",
    "print(mean)\n",
    "print('Mean by columns: ')\n",
    "print(meanByCols)\n",
    "print('Mean by rows:')\n",
    "print(meanByRows)"
   ]
  },
  {
   "cell_type": "code",
   "execution_count": 25,
   "id": "425376f9-13cc-4188-8aa6-943d17549884",
   "metadata": {},
   "outputs": [
    {
     "name": "stdout",
     "output_type": "stream",
     "text": [
      "Original matrix\n",
      "[[1 1]\n",
      " [2 2]\n",
      " [3 3]]\n",
      "Centered by columns matrix\n",
      "[[-1. -1.]\n",
      " [ 0.  0.]\n",
      " [ 1.  1.]]\n",
      "New mean by column\n",
      "[0. 0.]\n"
     ]
    }
   ],
   "source": [
    "#Center the columns of a matrix\n",
    "nparray2 = np.array([[1, 1], [2, 2], [3, 3]]) # Define a 3 x 2 matrix. \n",
    "\n",
    "nparrayCentered = nparray2 - np.mean(nparray2, axis=0) # Remove the mean for each column\n",
    "\n",
    "print('Original matrix')\n",
    "print(nparray2)\n",
    "print('Centered by columns matrix')\n",
    "print(nparrayCentered)\n",
    "\n",
    "print('New mean by column')\n",
    "print(nparrayCentered.mean(axis=0))"
   ]
  },
  {
   "cell_type": "code",
   "execution_count": null,
   "id": "6b67b996-2113-4f23-8b8c-aeb5956004c7",
   "metadata": {},
   "outputs": [],
   "source": [
    "# does not apply for row centering"
   ]
  },
  {
   "cell_type": "code",
   "execution_count": 26,
   "id": "04b5b449-1cb6-4432-8df0-d5d10eb72a91",
   "metadata": {},
   "outputs": [
    {
     "name": "stdout",
     "output_type": "stream",
     "text": [
      "Original matrix\n",
      "[[1 3]\n",
      " [2 4]\n",
      " [3 5]]\n",
      "Centered by rows matrix\n",
      "[[-1.  1.]\n",
      " [-1.  1.]\n",
      " [-1.  1.]]\n",
      "New mean by rows\n",
      "[0. 0. 0.]\n"
     ]
    }
   ],
   "source": [
    "nparray2 = np.array([[1, 3], [2, 4], [3, 5]]) # Define a 3 x 2 matrix. \n",
    "\n",
    "nparrayCentered = nparray2.T - np.mean(nparray2, axis=1) # Remove the mean for each row\n",
    "nparrayCentered = nparrayCentered.T # Transpose back the result\n",
    "\n",
    "print('Original matrix')\n",
    "print(nparray2)\n",
    "print('Centered by rows matrix')\n",
    "print(nparrayCentered)\n",
    "\n",
    "print('New mean by rows')\n",
    "print(nparrayCentered.mean(axis=1))"
   ]
  },
  {
   "cell_type": "code",
   "execution_count": 27,
   "id": "6298b90f-8b07-4a77-97b8-2e26d3997540",
   "metadata": {},
   "outputs": [
    {
     "name": "stdout",
     "output_type": "stream",
     "text": [
      "3.0  ==  3.0\n"
     ]
    }
   ],
   "source": [
    "nparray2 = np.array([[1, 3], [2, 4], [3, 5]]) # Define a 3 x 2 matrix. \n",
    "\n",
    "mean1 = np.mean(nparray2) # Static way\n",
    "mean2 = nparray2.mean()   # Dynamic way\n",
    "\n",
    "print(mean1, ' == ', mean2)"
   ]
  },
  {
   "cell_type": "code",
   "execution_count": null,
   "id": "e8fc5c74-8608-46fa-8a1d-fe3fdd287d93",
   "metadata": {},
   "outputs": [],
   "source": [
    "#####word embeddings"
   ]
  },
  {
   "cell_type": "code",
   "execution_count": 33,
   "id": "490b1ae9-9dad-4a9c-8425-94e2fefe9c43",
   "metadata": {},
   "outputs": [
    {
     "data": {
      "text/plain": [
       "(300,)"
      ]
     },
     "execution_count": 33,
     "metadata": {},
     "output_type": "execute_result"
    }
   ],
   "source": [
    "word_embeddings['country'].shape"
   ]
  },
  {
   "cell_type": "code",
   "execution_count": 36,
   "id": "f4d1f4ba-1cbc-41e7-950c-c2feca796ec5",
   "metadata": {},
   "outputs": [
    {
     "name": "stdout",
     "output_type": "stream",
     "text": [
      "<class 'numpy.ndarray'>\n",
      "[ 0.13378906  0.14355469  0.09472656 -0.04736328 -0.02355957 -0.00854492\n",
      " -0.18652344  0.04589844 -0.08154297]\n"
     ]
    }
   ],
   "source": [
    "countryVector = word_embeddings['country'] # one dimensional \n",
    "print(type(countryVector)) # Print the type of the vector. Note it is a numpy array\n",
    "print(countryVector[1:10])"
   ]
  },
  {
   "cell_type": "code",
   "execution_count": 42,
   "id": "1a0e1d19-b671-43ee-a1d5-22a68aed1ba4",
   "metadata": {},
   "outputs": [],
   "source": [
    "#Get the vector for a given word:\n",
    "#word_embeddings is a dict\n",
    "def vec(w):\n",
    "    return word_embeddings[w]"
   ]
  },
  {
   "cell_type": "code",
   "execution_count": null,
   "id": "16082eea-5d82-4e46-9cc5-b12e3e9f6ab2",
   "metadata": {},
   "outputs": [],
   "source": [
    "# some words using a pair of attributes."
   ]
  },
  {
   "cell_type": "code",
   "execution_count": 40,
   "id": "52056c94-6258-49c4-b40e-b1e85b70b70f",
   "metadata": {},
   "outputs": [
    {
     "data": {
      "image/png": "[encoded data removed]",
      "text/plain": [
       "<Figure size 1000x1000 with 1 Axes>"
      ]
     },
     "metadata": {},
     "output_type": "display_data"
    }
   ],
   "source": [
    "#word embeddings\n",
    "words = ['oil', 'gas', 'happy', 'sad', 'city', 'town', 'village', 'country', 'continent', 'petroleum', 'joyful']\n",
    "\n",
    "bag2d = np.array([vec(word) for word in words]) # Convert each word to its vector representation\n",
    "\n",
    "fig, ax = plt.subplots(figsize = (10, 10)) # Create custom size image\n",
    "\n",
    "col1 = 3 # Select the column for the x axis\n",
    "col2 = 2 # Select the column for the y axis\n",
    "\n",
    "# Print an arrow for each word\n",
    "for word in bag2d:\n",
    "    ax.arrow(0, 0, word[col1], word[col2], head_width=0.005, head_length=0.005, fc='r', ec='r', width = 1e-5)\n",
    "\n",
    "    \n",
    "ax.scatter(bag2d[:, col1], bag2d[:, col2]); # Plot a dot for each word\n",
    "\n",
    "# Add the word label over each dot in the scatter plot\n",
    "for i in range(0, len(words)):\n",
    "    ax.annotate(words[i], (bag2d[i, col1], bag2d[i, col2]))\n",
    "\n",
    "\n",
    "plt.show()"
   ]
  },
  {
   "cell_type": "code",
   "execution_count": 44,
   "id": "b8780b98-5e66-46eb-bf6d-c02b83ad7ca0",
   "metadata": {},
   "outputs": [
    {
     "data": {
      "image/png": "[encoded data removed]",
      "text/plain": [
       "<Figure size 1000x1000 with 1 Axes>"
      ]
     },
     "metadata": {},
     "output_type": "display_data"
    }
   ],
   "source": [
    "#Word distance\n",
    "words = ['sad', 'happy', 'town', 'village']\n",
    "\n",
    "bag2d = np.array([vec(word) for word in words]) # Convert each word to its vector representation\n",
    "\n",
    "fig, ax = plt.subplots(figsize = (10, 10)) # Create custom size image\n",
    "\n",
    "col1 = 3 # Select the column for the x axe\n",
    "col2 = 2 # Select the column for the y axe\n",
    "\n",
    "# Print an arrow for each word\n",
    "for word in bag2d:\n",
    "    ax.arrow(0, 0, word[col1], word[col2], head_width=0.0005, head_length=0.0005, fc='r', ec='r', width = 1e-5)\n",
    "    \n",
    "# print the vector difference between village and town\n",
    "village = vec('village')\n",
    "town = vec('town')\n",
    "diff = town - village\n",
    "ax.arrow(village[col1], village[col2], diff[col1], diff[col2], fc='b', ec='b', width = 1e-5)\n",
    "\n",
    "# print the vector difference between village and town\n",
    "sad = vec('sad')\n",
    "happy = vec('happy')\n",
    "diff = happy - sad\n",
    "ax.arrow(sad[col1], sad[col2], diff[col1], diff[col2], fc='b', ec='b', width = 1e-5)\n",
    "\n",
    "\n",
    "ax.scatter(bag2d[:, col1], bag2d[:, col2]); # Plot a dot for each word\n",
    "\n",
    "# Add the word label over each dot in the scatter plot\n",
    "for i in range(0, len(words)):\n",
    "    ax.annotate(words[i], (bag2d[i, col1], bag2d[i, col2]))\n",
    "\n",
    "plt.show()"
   ]
  },
  {
   "cell_type": "code",
   "execution_count": 45,
   "id": "004cb25e-8ee8-4f2d-b6bd-21bdffa5c150",
   "metadata": {},
   "outputs": [
    {
     "name": "stdout",
     "output_type": "stream",
     "text": [
      "2.3858097\n",
      "2.9004838\n"
     ]
    }
   ],
   "source": [
    "#Linear algebra on word embeddings\n",
    "print(np.linalg.norm(vec('town'))) # Print the norm of the word town\n",
    "print(np.linalg.norm(vec('sad'))) # Print the norm of the word sad"
   ]
  },
  {
   "cell_type": "code",
   "execution_count": 46,
   "id": "2020bc4c-4c3c-40e3-b4cd-525028f579b8",
   "metadata": {},
   "outputs": [
    {
     "name": "stdout",
     "output_type": "stream",
     "text": [
      "[-0.02905273 -0.2475586   0.53952026  0.20581055 -0.14862823]\n"
     ]
    }
   ],
   "source": [
    "#Predicting capitals\n",
    "capital = vec('France') - vec('Paris')\n",
    "country = vec('Madrid') + capital\n",
    "\n",
    "#move from the city of Madrid in the direction of the concept of Capital, \n",
    "#and obtain something close to the corresponding country to which Madrid is the Capital.\n",
    "\n",
    "print(country[0:5]) # Print the first 5 values of the vector"
   ]
  },
  {
   "cell_type": "code",
   "execution_count": 48,
   "id": "7e3e9752-06a8-4c79-b3b1-44c8d0988df3",
   "metadata": {},
   "outputs": [
    {
     "name": "stdout",
     "output_type": "stream",
     "text": [
      "[-0.06054688 -0.06494141  0.37643433  0.08129883 -0.13007355 -0.00952148\n",
      " -0.03417969 -0.00708008  0.09790039 -0.01867676]\n"
     ]
    }
   ],
   "source": [
    "diff = country - vec('Spain')\n",
    "print(diff[0:10])\n",
    "#not exactly same"
   ]
  },
  {
   "cell_type": "code",
   "execution_count": 50,
   "id": "605cbed8-718f-473b-a058-492814e26578",
   "metadata": {},
   "outputs": [],
   "source": [
    "# Create a dataframe out of the dictionary embedding. This facilitate the algebraic operations\n",
    "keys = word_embeddings.keys()\n",
    "data = []\n",
    "for key in keys:\n",
    "    data.append(word_embeddings[key])\n",
    "\n",
    "embedding = pd.DataFrame(data=data, index=keys)\n",
    "\n",
    "# Define a function to find the closest word to a vector:\n",
    "def find_closest_word(v, k = 1):\n",
    "    # Calculate the vector difference from each word to the input vector\n",
    "    diff = embedding.values - v \n",
    "    # Get the squared L2 norm of each difference vector.\n",
    "    # It means the squared euclidean distance from each word to the input vector\n",
    "    delta = np.sum(diff * diff, axis=1)\n",
    "    # Find the index of the minimun distance in the array\n",
    "    i = np.argmin(delta)\n",
    "    # Return the row name for this item\n",
    "    return embedding.iloc[i].name"
   ]
  },
  {
   "cell_type": "code",
   "execution_count": 58,
   "id": "a820eda3-0634-4f6f-b645-bb3a1a976680",
   "metadata": {},
   "outputs": [
    {
     "data": {
      "text/html": [
       "<div>\n",
       "<style scoped>\n",
       "    .dataframe tbody tr th:only-of-type {\n",
       "        vertical-align: middle;\n",
       "    }\n",
       "\n",
       "    .dataframe tbody tr th {\n",
       "        vertical-align: top;\n",
       "    }\n",
       "\n",
       "    .dataframe thead th {\n",
       "        text-align: right;\n",
       "    }\n",
       "</style>\n",
       "<table border=\"1\" class=\"dataframe\">\n",
       "  <thead>\n",
       "    <tr style=\"text-align: right;\">\n",
       "      <th></th>\n",
       "      <th>0</th>\n",
       "      <th>1</th>\n",
       "      <th>2</th>\n",
       "      <th>3</th>\n",
       "      <th>4</th>\n",
       "      <th>5</th>\n",
       "      <th>6</th>\n",
       "      <th>7</th>\n",
       "      <th>8</th>\n",
       "      <th>9</th>\n",
       "      <th>...</th>\n",
       "      <th>290</th>\n",
       "      <th>291</th>\n",
       "      <th>292</th>\n",
       "      <th>293</th>\n",
       "      <th>294</th>\n",
       "      <th>295</th>\n",
       "      <th>296</th>\n",
       "      <th>297</th>\n",
       "      <th>298</th>\n",
       "      <th>299</th>\n",
       "    </tr>\n",
       "  </thead>\n",
       "  <tbody>\n",
       "    <tr>\n",
       "      <th>country</th>\n",
       "      <td>-0.080078</td>\n",
       "      <td>0.133789</td>\n",
       "      <td>0.143555</td>\n",
       "      <td>0.094727</td>\n",
       "      <td>-0.047363</td>\n",
       "      <td>-0.023560</td>\n",
       "      <td>-0.008545</td>\n",
       "      <td>-0.186523</td>\n",
       "      <td>0.045898</td>\n",
       "      <td>-0.081543</td>\n",
       "      <td>...</td>\n",
       "      <td>-0.145508</td>\n",
       "      <td>0.067383</td>\n",
       "      <td>-0.244141</td>\n",
       "      <td>-0.077148</td>\n",
       "      <td>0.047607</td>\n",
       "      <td>-0.075195</td>\n",
       "      <td>-0.149414</td>\n",
       "      <td>-0.044189</td>\n",
       "      <td>0.097168</td>\n",
       "      <td>0.067383</td>\n",
       "    </tr>\n",
       "    <tr>\n",
       "      <th>city</th>\n",
       "      <td>-0.010071</td>\n",
       "      <td>0.057373</td>\n",
       "      <td>0.183594</td>\n",
       "      <td>-0.040039</td>\n",
       "      <td>-0.029785</td>\n",
       "      <td>-0.079102</td>\n",
       "      <td>0.071777</td>\n",
       "      <td>0.013306</td>\n",
       "      <td>-0.143555</td>\n",
       "      <td>0.011292</td>\n",
       "      <td>...</td>\n",
       "      <td>0.024292</td>\n",
       "      <td>-0.168945</td>\n",
       "      <td>-0.062988</td>\n",
       "      <td>0.117188</td>\n",
       "      <td>-0.020508</td>\n",
       "      <td>0.030273</td>\n",
       "      <td>-0.247070</td>\n",
       "      <td>-0.122559</td>\n",
       "      <td>0.076172</td>\n",
       "      <td>-0.234375</td>\n",
       "    </tr>\n",
       "    <tr>\n",
       "      <th>China</th>\n",
       "      <td>-0.073242</td>\n",
       "      <td>0.135742</td>\n",
       "      <td>0.108887</td>\n",
       "      <td>0.083008</td>\n",
       "      <td>-0.127930</td>\n",
       "      <td>-0.227539</td>\n",
       "      <td>0.151367</td>\n",
       "      <td>-0.045654</td>\n",
       "      <td>-0.065430</td>\n",
       "      <td>0.034424</td>\n",
       "      <td>...</td>\n",
       "      <td>0.140625</td>\n",
       "      <td>0.087402</td>\n",
       "      <td>0.152344</td>\n",
       "      <td>0.079590</td>\n",
       "      <td>0.006348</td>\n",
       "      <td>-0.037842</td>\n",
       "      <td>-0.183594</td>\n",
       "      <td>0.137695</td>\n",
       "      <td>0.093750</td>\n",
       "      <td>-0.079590</td>\n",
       "    </tr>\n",
       "    <tr>\n",
       "      <th>Iraq</th>\n",
       "      <td>0.191406</td>\n",
       "      <td>0.125000</td>\n",
       "      <td>-0.065430</td>\n",
       "      <td>0.060059</td>\n",
       "      <td>-0.285156</td>\n",
       "      <td>-0.102539</td>\n",
       "      <td>0.117188</td>\n",
       "      <td>-0.351562</td>\n",
       "      <td>-0.095215</td>\n",
       "      <td>0.200195</td>\n",
       "      <td>...</td>\n",
       "      <td>-0.100586</td>\n",
       "      <td>-0.077148</td>\n",
       "      <td>-0.123047</td>\n",
       "      <td>0.193359</td>\n",
       "      <td>-0.153320</td>\n",
       "      <td>0.089355</td>\n",
       "      <td>-0.173828</td>\n",
       "      <td>-0.054688</td>\n",
       "      <td>0.302734</td>\n",
       "      <td>0.105957</td>\n",
       "    </tr>\n",
       "    <tr>\n",
       "      <th>oil</th>\n",
       "      <td>-0.139648</td>\n",
       "      <td>0.062256</td>\n",
       "      <td>-0.279297</td>\n",
       "      <td>0.063965</td>\n",
       "      <td>0.044434</td>\n",
       "      <td>-0.154297</td>\n",
       "      <td>-0.184570</td>\n",
       "      <td>-0.498047</td>\n",
       "      <td>0.047363</td>\n",
       "      <td>0.110840</td>\n",
       "      <td>...</td>\n",
       "      <td>-0.195312</td>\n",
       "      <td>-0.345703</td>\n",
       "      <td>0.217773</td>\n",
       "      <td>-0.091797</td>\n",
       "      <td>0.051025</td>\n",
       "      <td>0.061279</td>\n",
       "      <td>0.194336</td>\n",
       "      <td>0.204102</td>\n",
       "      <td>0.235352</td>\n",
       "      <td>-0.051025</td>\n",
       "    </tr>\n",
       "    <tr>\n",
       "      <th>town</th>\n",
       "      <td>0.123535</td>\n",
       "      <td>0.159180</td>\n",
       "      <td>0.030029</td>\n",
       "      <td>-0.161133</td>\n",
       "      <td>0.015625</td>\n",
       "      <td>0.111816</td>\n",
       "      <td>0.039795</td>\n",
       "      <td>-0.196289</td>\n",
       "      <td>-0.039307</td>\n",
       "      <td>0.067871</td>\n",
       "      <td>...</td>\n",
       "      <td>-0.007935</td>\n",
       "      <td>-0.091797</td>\n",
       "      <td>-0.265625</td>\n",
       "      <td>0.029297</td>\n",
       "      <td>0.089844</td>\n",
       "      <td>-0.049805</td>\n",
       "      <td>-0.202148</td>\n",
       "      <td>-0.079590</td>\n",
       "      <td>0.068848</td>\n",
       "      <td>-0.164062</td>\n",
       "    </tr>\n",
       "    <tr>\n",
       "      <th>Canada</th>\n",
       "      <td>-0.136719</td>\n",
       "      <td>-0.154297</td>\n",
       "      <td>0.269531</td>\n",
       "      <td>0.273438</td>\n",
       "      <td>0.086914</td>\n",
       "      <td>-0.076172</td>\n",
       "      <td>-0.018677</td>\n",
       "      <td>0.006256</td>\n",
       "      <td>0.077637</td>\n",
       "      <td>-0.211914</td>\n",
       "      <td>...</td>\n",
       "      <td>0.105469</td>\n",
       "      <td>0.030762</td>\n",
       "      <td>-0.039307</td>\n",
       "      <td>0.183594</td>\n",
       "      <td>-0.117676</td>\n",
       "      <td>0.191406</td>\n",
       "      <td>0.074219</td>\n",
       "      <td>0.020996</td>\n",
       "      <td>0.285156</td>\n",
       "      <td>-0.257812</td>\n",
       "    </tr>\n",
       "    <tr>\n",
       "      <th>London</th>\n",
       "      <td>-0.267578</td>\n",
       "      <td>0.092773</td>\n",
       "      <td>-0.238281</td>\n",
       "      <td>0.115234</td>\n",
       "      <td>-0.006836</td>\n",
       "      <td>0.221680</td>\n",
       "      <td>-0.251953</td>\n",
       "      <td>-0.055420</td>\n",
       "      <td>0.020020</td>\n",
       "      <td>0.149414</td>\n",
       "      <td>...</td>\n",
       "      <td>-0.008667</td>\n",
       "      <td>-0.008484</td>\n",
       "      <td>-0.053223</td>\n",
       "      <td>0.197266</td>\n",
       "      <td>-0.296875</td>\n",
       "      <td>0.064453</td>\n",
       "      <td>0.091797</td>\n",
       "      <td>0.058350</td>\n",
       "      <td>0.022583</td>\n",
       "      <td>-0.101074</td>\n",
       "    </tr>\n",
       "    <tr>\n",
       "      <th>England</th>\n",
       "      <td>-0.198242</td>\n",
       "      <td>0.115234</td>\n",
       "      <td>0.062500</td>\n",
       "      <td>-0.058350</td>\n",
       "      <td>0.226562</td>\n",
       "      <td>0.045898</td>\n",
       "      <td>-0.062256</td>\n",
       "      <td>-0.202148</td>\n",
       "      <td>0.080566</td>\n",
       "      <td>0.021606</td>\n",
       "      <td>...</td>\n",
       "      <td>0.135742</td>\n",
       "      <td>0.109375</td>\n",
       "      <td>-0.121582</td>\n",
       "      <td>0.008545</td>\n",
       "      <td>-0.171875</td>\n",
       "      <td>0.086914</td>\n",
       "      <td>0.070312</td>\n",
       "      <td>0.003281</td>\n",
       "      <td>0.069336</td>\n",
       "      <td>0.056152</td>\n",
       "    </tr>\n",
       "    <tr>\n",
       "      <th>Australia</th>\n",
       "      <td>0.048828</td>\n",
       "      <td>-0.194336</td>\n",
       "      <td>-0.041504</td>\n",
       "      <td>0.084473</td>\n",
       "      <td>-0.114258</td>\n",
       "      <td>-0.208008</td>\n",
       "      <td>-0.164062</td>\n",
       "      <td>-0.269531</td>\n",
       "      <td>0.079102</td>\n",
       "      <td>0.275391</td>\n",
       "      <td>...</td>\n",
       "      <td>0.021118</td>\n",
       "      <td>0.171875</td>\n",
       "      <td>0.042236</td>\n",
       "      <td>0.221680</td>\n",
       "      <td>-0.239258</td>\n",
       "      <td>-0.106934</td>\n",
       "      <td>0.030884</td>\n",
       "      <td>0.006622</td>\n",
       "      <td>0.051270</td>\n",
       "      <td>-0.135742</td>\n",
       "    </tr>\n",
       "  </tbody>\n",
       "</table>\n",
       "<p>10 rows × 300 columns</p>\n",
       "</div>"
      ],
      "text/plain": [
       "                0         1         2         3         4         5    \\\n",
       "country   -0.080078  0.133789  0.143555  0.094727 -0.047363 -0.023560   \n",
       "city      -0.010071  0.057373  0.183594 -0.040039 -0.029785 -0.079102   \n",
       "China     -0.073242  0.135742  0.108887  0.083008 -0.127930 -0.227539   \n",
       "Iraq       0.191406  0.125000 -0.065430  0.060059 -0.285156 -0.102539   \n",
       "oil       -0.139648  0.062256 -0.279297  0.063965  0.044434 -0.154297   \n",
       "town       0.123535  0.159180  0.030029 -0.161133  0.015625  0.111816   \n",
       "Canada    -0.136719 -0.154297  0.269531  0.273438  0.086914 -0.076172   \n",
       "London    -0.267578  0.092773 -0.238281  0.115234 -0.006836  0.221680   \n",
       "England   -0.198242  0.115234  0.062500 -0.058350  0.226562  0.045898   \n",
       "Australia  0.048828 -0.194336 -0.041504  0.084473 -0.114258 -0.208008   \n",
       "\n",
       "                6         7         8         9    ...       290       291  \\\n",
       "country   -0.008545 -0.186523  0.045898 -0.081543  ... -0.145508  0.067383   \n",
       "city       0.071777  0.013306 -0.143555  0.011292  ...  0.024292 -0.168945   \n",
       "China      0.151367 -0.045654 -0.065430  0.034424  ...  0.140625  0.087402   \n",
       "Iraq       0.117188 -0.351562 -0.095215  0.200195  ... -0.100586 -0.077148   \n",
       "oil       -0.184570 -0.498047  0.047363  0.110840  ... -0.195312 -0.345703   \n",
       "town       0.039795 -0.196289 -0.039307  0.067871  ... -0.007935 -0.091797   \n",
       "Canada    -0.018677  0.006256  0.077637 -0.211914  ...  0.105469  0.030762   \n",
       "London    -0.251953 -0.055420  0.020020  0.149414  ... -0.008667 -0.008484   \n",
       "England   -0.062256 -0.202148  0.080566  0.021606  ...  0.135742  0.109375   \n",
       "Australia -0.164062 -0.269531  0.079102  0.275391  ...  0.021118  0.171875   \n",
       "\n",
       "                292       293       294       295       296       297  \\\n",
       "country   -0.244141 -0.077148  0.047607 -0.075195 -0.149414 -0.044189   \n",
       "city      -0.062988  0.117188 -0.020508  0.030273 -0.247070 -0.122559   \n",
       "China      0.152344  0.079590  0.006348 -0.037842 -0.183594  0.137695   \n",
       "Iraq      -0.123047  0.193359 -0.153320  0.089355 -0.173828 -0.054688   \n",
       "oil        0.217773 -0.091797  0.051025  0.061279  0.194336  0.204102   \n",
       "town      -0.265625  0.029297  0.089844 -0.049805 -0.202148 -0.079590   \n",
       "Canada    -0.039307  0.183594 -0.117676  0.191406  0.074219  0.020996   \n",
       "London    -0.053223  0.197266 -0.296875  0.064453  0.091797  0.058350   \n",
       "England   -0.121582  0.008545 -0.171875  0.086914  0.070312  0.003281   \n",
       "Australia  0.042236  0.221680 -0.239258 -0.106934  0.030884  0.006622   \n",
       "\n",
       "                298       299  \n",
       "country    0.097168  0.067383  \n",
       "city       0.076172 -0.234375  \n",
       "China      0.093750 -0.079590  \n",
       "Iraq       0.302734  0.105957  \n",
       "oil        0.235352 -0.051025  \n",
       "town       0.068848 -0.164062  \n",
       "Canada     0.285156 -0.257812  \n",
       "London     0.022583 -0.101074  \n",
       "England    0.069336  0.056152  \n",
       "Australia  0.051270 -0.135742  \n",
       "\n",
       "[10 rows x 300 columns]"
      ]
     },
     "execution_count": 58,
     "metadata": {},
     "output_type": "execute_result"
    }
   ],
   "source": [
    "embedding.head(10)"
   ]
  },
  {
   "cell_type": "code",
   "execution_count": 52,
   "id": "cdf8aa5f-2cef-4d4a-9439-8880a8c19bf6",
   "metadata": {},
   "outputs": [
    {
     "data": {
      "text/plain": [
       "'Spain'"
      ]
     },
     "execution_count": 52,
     "metadata": {},
     "output_type": "execute_result"
    }
   ],
   "source": [
    "find_closest_word(country)"
   ]
  },
  {
   "cell_type": "code",
   "execution_count": 59,
   "id": "2f9b4910-a9b3-4c04-b74b-40248afa2b57",
   "metadata": {},
   "outputs": [
    {
     "data": {
      "text/plain": [
       "'Spain'"
      ]
     },
     "execution_count": 59,
     "metadata": {},
     "output_type": "execute_result"
    }
   ],
   "source": [
    "#Predicting other Countries\n",
    "find_closest_word(vec('Italy') - vec('Rome') + vec('Madrid'))"
   ]
  },
  {
   "cell_type": "code",
   "execution_count": 61,
   "id": "759dfb7b-b653-4bde-80f8-abecf6d56b90",
   "metadata": {},
   "outputs": [
    {
     "name": "stdout",
     "output_type": "stream",
     "text": [
      "Germany\n",
      "China\n"
     ]
    }
   ],
   "source": [
    "print(find_closest_word(vec('Berlin') + capital))\n",
    "print(find_closest_word(vec('Beijing') + capital))"
   ]
  },
  {
   "cell_type": "code",
   "execution_count": 60,
   "id": "3bc0f49e-d59c-4813-9f22-fd1fc9e4279a",
   "metadata": {},
   "outputs": [
    {
     "name": "stdout",
     "output_type": "stream",
     "text": [
      "Lisbon\n"
     ]
    }
   ],
   "source": [
    "print(find_closest_word(vec('Lisbon') + capital))#not always work"
   ]
  },
  {
   "cell_type": "code",
   "execution_count": 63,
   "id": "948e82a2-c227-43d4-adfb-e45219dce113",
   "metadata": {},
   "outputs": [
    {
     "data": {
      "text/plain": [
       "'petroleum'"
      ]
     },
     "execution_count": 63,
     "metadata": {},
     "output_type": "execute_result"
    }
   ],
   "source": [
    "doc = \"Spain petroleum city king\"\n",
    "vdoc = [vec(x) for x in doc.split(\" \")]\n",
    "doc2vec = np.sum(vdoc, axis = 0)\n",
    "find_closest_word(doc2vec)"
   ]
  },
  {
   "cell_type": "code",
   "execution_count": null,
   "id": "99e2c0e3-5881-46d1-969c-2b47352cb04f",
   "metadata": {},
   "outputs": [],
   "source": [
    "#Another explanation about PCA"
   ]
  },
  {
   "cell_type": "code",
   "execution_count": 65,
   "id": "27fd57cd-eda9-497f-b902-b6a582f45e7b",
   "metadata": {},
   "outputs": [
    {
     "data": {
      "image/png": "[encoded data removed]",
      "text/plain": [
       "<Figure size 640x480 with 1 Axes>"
      ]
     },
     "metadata": {},
     "output_type": "display_data"
    }
   ],
   "source": [
    "np.random.seed(1)\n",
    "n = 1  # The amount of the correlation\n",
    "x = np.random.uniform(1,2,1000) # Generate 1000 samples from a uniform random variable\n",
    "y = x.copy() * n # Make y = n * x\n",
    "\n",
    "# PCA works better if the data is centered\n",
    "x = x - np.mean(x) # Center x. Remove its mean\n",
    "y = y - np.mean(y) # Center y. Remove its mean\n",
    "\n",
    "data = pd.DataFrame({'x': x, 'y': y}) # Create a data frame with x and y\n",
    "plt.scatter(data.x, data.y) # Plot the original correlated data in blue\n",
    "\n",
    "pca = PCA(n_components=2) # Instantiate a PCA. Choose to get 2 output variables\n",
    "\n",
    "# Create the transformation model for this data. Internally, it gets the rotation \n",
    "# matrix and the explained variance\n",
    "pcaTr = pca.fit(data)\n",
    "\n",
    "rotatedData = pcaTr.transform(data) # Transform the data base on the rotation matrix of pcaTr\n",
    "\n",
    "# # Create a data frame with the new variables. We call these new variables PC1 and PC2\n",
    "dataPCA = pd.DataFrame(data = rotatedData, columns = ['PC1', 'PC2']) \n",
    "\n",
    "# Plot the transformed data in orange\n",
    "plt.scatter(dataPCA.PC1, dataPCA.PC2)\n",
    "plt.show()"
   ]
  },
  {
   "cell_type": "code",
   "execution_count": 71,
   "id": "c397f967-dfcb-4129-a901-fe1a317eacc9",
   "metadata": {},
   "outputs": [
    {
     "data": {
      "text/html": [
       "<div>\n",
       "<style scoped>\n",
       "    .dataframe tbody tr th:only-of-type {\n",
       "        vertical-align: middle;\n",
       "    }\n",
       "\n",
       "    .dataframe tbody tr th {\n",
       "        vertical-align: top;\n",
       "    }\n",
       "\n",
       "    .dataframe thead th {\n",
       "        text-align: right;\n",
       "    }\n",
       "</style>\n",
       "<table border=\"1\" class=\"dataframe\">\n",
       "  <thead>\n",
       "    <tr style=\"text-align: right;\">\n",
       "      <th></th>\n",
       "      <th>PC1</th>\n",
       "      <th>PC2</th>\n",
       "    </tr>\n",
       "  </thead>\n",
       "  <tbody>\n",
       "    <tr>\n",
       "      <th>0</th>\n",
       "      <td>0.118204</td>\n",
       "      <td>1.812884e-18</td>\n",
       "    </tr>\n",
       "    <tr>\n",
       "      <th>1</th>\n",
       "      <td>-0.310731</td>\n",
       "      <td>1.190907e-17</td>\n",
       "    </tr>\n",
       "    <tr>\n",
       "      <th>2</th>\n",
       "      <td>0.707800</td>\n",
       "      <td>-2.039469e-17</td>\n",
       "    </tr>\n",
       "    <tr>\n",
       "      <th>3</th>\n",
       "      <td>0.280399</td>\n",
       "      <td>-1.132046e-17</td>\n",
       "    </tr>\n",
       "    <tr>\n",
       "      <th>4</th>\n",
       "      <td>0.500418</td>\n",
       "      <td>1.323530e-17</td>\n",
       "    </tr>\n",
       "    <tr>\n",
       "      <th>5</th>\n",
       "      <td>0.577375</td>\n",
       "      <td>1.312209e-17</td>\n",
       "    </tr>\n",
       "    <tr>\n",
       "      <th>6</th>\n",
       "      <td>0.444550</td>\n",
       "      <td>5.640476e-19</td>\n",
       "    </tr>\n",
       "    <tr>\n",
       "      <th>7</th>\n",
       "      <td>0.219265</td>\n",
       "      <td>-4.687675e-18</td>\n",
       "    </tr>\n",
       "    <tr>\n",
       "      <th>8</th>\n",
       "      <td>0.146848</td>\n",
       "      <td>-4.995834e-18</td>\n",
       "    </tr>\n",
       "    <tr>\n",
       "      <th>9</th>\n",
       "      <td>-0.054040</td>\n",
       "      <td>-8.604416e-19</td>\n",
       "    </tr>\n",
       "  </tbody>\n",
       "</table>\n",
       "</div>"
      ],
      "text/plain": [
       "        PC1           PC2\n",
       "0  0.118204  1.812884e-18\n",
       "1 -0.310731  1.190907e-17\n",
       "2  0.707800 -2.039469e-17\n",
       "3  0.280399 -1.132046e-17\n",
       "4  0.500418  1.323530e-17\n",
       "5  0.577375  1.312209e-17\n",
       "6  0.444550  5.640476e-19\n",
       "7  0.219265 -4.687675e-18\n",
       "8  0.146848 -4.995834e-18\n",
       "9 -0.054040 -8.604416e-19"
      ]
     },
     "execution_count": 71,
     "metadata": {},
     "output_type": "execute_result"
    }
   ],
   "source": [
    "dataPCA.head(10)"
   ]
  },
  {
   "cell_type": "code",
   "execution_count": 72,
   "id": "58e136e3-376f-4b10-b4a5-e47ae252fa4b",
   "metadata": {},
   "outputs": [
    {
     "name": "stdout",
     "output_type": "stream",
     "text": [
      "Eigenvectors or principal component: First row must be in the direction of [1, n]\n",
      "[[-0.70710678 -0.70710678]\n",
      " [ 0.70710678 -0.70710678]]\n",
      "\n",
      "Eigenvalues or explained variance\n",
      "[1.66465230e-01 2.08930963e-34]\n"
     ]
    }
   ],
   "source": [
    "print('Eigenvectors or principal component: First row must be in the direction of [1, n]')\n",
    "print(pcaTr.components_)\n",
    "\n",
    "print()\n",
    "print('Eigenvalues or explained variance')\n",
    "print(pcaTr.explained_variance_)"
   ]
  },
  {
   "cell_type": "code",
   "execution_count": 74,
   "id": "f1ead4f5-018f-44bd-b4cf-f9e7c488c082",
   "metadata": {},
   "outputs": [
    {
     "name": "stdout",
     "output_type": "stream",
     "text": [
      "angle:  45.0\n",
      "rotationMatrix\n",
      "[[ 0.70710678  0.70710678]\n",
      " [-0.70710678  0.70710678]]\n"
     ]
    },
    {
     "data": {
      "image/png": "[encoded data removed]",
      "text/plain": [
       "<Figure size 640x480 with 1 Axes>"
      ]
     },
     "metadata": {},
     "output_type": "display_data"
    }
   ],
   "source": [
    "# controlled dataset composed of 2 random variables with different variances and with a specific Covariance among them\n",
    "np.random.seed(100)\n",
    "\n",
    "std1 = 1     # The desired standard deviation of our first random variable\n",
    "std2 = 0.333 # The desired standard deviation of our second random variable\n",
    "\n",
    "x = np.random.normal(0, std1, 1000) # Get 1000 samples from x ~ N(0, std1)\n",
    "y = np.random.normal(0, std2, 1000)  # Get 1000 samples from y ~ N(0, std2)\n",
    "#y = y + np.random.normal(0,1,1000)*noiseLevel * np.sin(0.78)\n",
    "\n",
    "# PCA works better if the data is centered\n",
    "x = x - np.mean(x) # Center x \n",
    "y = y - np.mean(y) # Center y\n",
    "\n",
    "#Define a pair of dependent variables with a desired amount of covariance\n",
    "n = 1 # Magnitude of covariance. \n",
    "angle = np.arctan(1 / n) # Convert the covariance to and angle\n",
    "print('angle: ',  angle * 180 / math.pi)\n",
    "\n",
    "# Create a rotation matrix using the given angle\n",
    "rotationMatrix = np.array([[np.cos(angle), np.sin(angle)],\n",
    "                 [-np.sin(angle), np.cos(angle)]])\n",
    "\n",
    "\n",
    "print('rotationMatrix')\n",
    "print(rotationMatrix)\n",
    "\n",
    "xy = np.concatenate(([x] , [y]), axis=0).T # Create a matrix with columns x and y\n",
    "\n",
    "# Transform the data using the rotation matrix. It correlates the two variables\n",
    "data = np.dot(xy, rotationMatrix) # Return a nD array\n",
    "\n",
    "# Print the rotated data\n",
    "plt.scatter(data[:,0], data[:,1])\n",
    "plt.show()"
   ]
  },
  {
   "cell_type": "code",
   "execution_count": 75,
   "id": "901db1a0-385b-4a14-8811-21a68776c3e5",
   "metadata": {},
   "outputs": [
    {
     "name": "stdout",
     "output_type": "stream",
     "text": [
      "Eigenvectors or principal component: First row must be in the direction of [1, n]\n",
      "[[ 0.70827652  0.7059351 ]\n",
      " [-0.7059351   0.70827652]]\n",
      "\n",
      "Eigenvalues or explained variance\n",
      "[1.09488457 0.11243237]\n"
     ]
    },
    {
     "name": "stderr",
     "output_type": "stream",
     "text": [
      "/var/folders/4t/w05mrsdn0r9d85szm0g3kg740000gn/T/ipykernel_20016/1540591202.py:25: UserWarning: color is redundantly defined by the 'color' keyword argument and the fmt string \"k-\" (-> color='k'). The keyword argument will take precedence.\n",
      "  plt.plot([0, rotationMatrix[0][0] * std1 * 3], [0, rotationMatrix[0][1] * std1 * 3], 'k-', color='red')\n",
      "/var/folders/4t/w05mrsdn0r9d85szm0g3kg740000gn/T/ipykernel_20016/1540591202.py:27: UserWarning: color is redundantly defined by the 'color' keyword argument and the fmt string \"k-\" (-> color='k'). The keyword argument will take precedence.\n",
      "  plt.plot([0, rotationMatrix[1][0] * std2 * 3], [0, rotationMatrix[1][1] * std2 * 3], 'k-', color='green')\n"
     ]
    },
    {
     "data": {
      "image/png": "[encoded data removed]",
      "text/plain": [
       "<Figure size 640x480 with 1 Axes>"
      ]
     },
     "metadata": {},
     "output_type": "display_data"
    }
   ],
   "source": [
    "plt.scatter(data[:,0], data[:,1]) # Print the original data in blue\n",
    "\n",
    "# Apply PCA. In theory, the Eigenvector matrix must be the \n",
    "# inverse of the original rotationMatrix. \n",
    "pca = PCA(n_components=2)  # Instantiate a PCA. Choose to get 2 output variables\n",
    "\n",
    "# Create the transformation model for this data. Internally it gets the rotation \n",
    "# matrix and the explained variance\n",
    "pcaTr = pca.fit(data)\n",
    "\n",
    "# Create an array with the transformed data\n",
    "dataPCA = pcaTr.transform(data)\n",
    "\n",
    "print('Eigenvectors or principal component: First row must be in the direction of [1, n]')\n",
    "print(pcaTr.components_)\n",
    "\n",
    "print()\n",
    "print('Eigenvalues or explained variance')\n",
    "print(pcaTr.explained_variance_)\n",
    "\n",
    "# Print the rotated data\n",
    "plt.scatter(dataPCA[:,0], dataPCA[:,1])\n",
    "\n",
    "# Plot the first component axe. Use the explained variance to scale the vector\n",
    "plt.plot([0, rotationMatrix[0][0] * std1 * 3], [0, rotationMatrix[0][1] * std1 * 3], 'k-', color='red')\n",
    "# Plot the second component axe. Use the explained variance to scale the vector\n",
    "plt.plot([0, rotationMatrix[1][0] * std2 * 3], [0, rotationMatrix[1][1] * std2 * 3], 'k-', color='green')\n",
    "\n",
    "plt.show()\n",
    "# explained Variance is approximately [1,0.333∗0.333]=[𝑠𝑡𝑑12,𝑠𝑡𝑑22] the parameters of our original random variables x and y"
   ]
  }
 ],
 "metadata": {
  "kernelspec": {
   "display_name": "Python 3 (ipykernel)",
   "language": "python",
   "name": "python3"
  },
  "language_info": {
   "codemirror_mode": {
    "name": "ipython",
    "version": 3
   },
   "file_extension": ".py",
   "mimetype": "text/x-python",
   "name": "python",
   "nbconvert_exporter": "python",
   "pygments_lexer": "ipython3",
   "version": "3.11.7"
  }
 },
 "nbformat": 4,
 "nbformat_minor": 5
}
