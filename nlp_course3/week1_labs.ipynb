{
 "cells": [
  {
   "cell_type": "code",
   "execution_count": null,
   "id": "a2ed246b-fdd0-4e35-8136-d2a20d9dc29f",
   "metadata": {},
   "outputs": [],
   "source": [
    "#four layers\n",
    "#dense; ReLU; embedding; mean"
   ]
  },
  {
   "cell_type": "code",
   "execution_count": 38,
   "id": "60e5a053-39a4-4170-82a8-4df24397ac43",
   "metadata": {},
   "outputs": [
    {
     "name": "stdout",
     "output_type": "stream",
     "text": [
      "Imports successful!\n"
     ]
    }
   ],
   "source": [
    "# To silence the TensorFlow warnings, you can use the following code before you import the TensorFlow library.\n",
    "import os\n",
    "os.environ['TF_CPP_MIN_LOG_LEVEL'] = '3'\n",
    "\n",
    "import numpy as np\n",
    "import tensorflow as tf\n",
    "from tensorflow.keras.preprocessing.text import Tokenizer\n",
    "from tensorflow.keras import layers\n",
    "from tensorflow.keras import losses\n",
    "import re\n",
    "import string\n",
    "import matplotlib.pyplot as plt\n",
    "from numpy import random\n",
    "from time import perf_counter\n",
    "\n",
    "print(\"Imports successful!\")"
   ]
  },
  {
   "cell_type": "code",
   "execution_count": 3,
   "id": "b774c89a-9d94-4a27-951d-3b3cb628b19d",
   "metadata": {},
   "outputs": [],
   "source": [
    "#print(tf.__version__)"
   ]
  },
  {
   "cell_type": "code",
   "execution_count": 4,
   "id": "f9965a33-af2a-4252-8b0a-4180ce650310",
   "metadata": {},
   "outputs": [
    {
     "name": "stdout",
     "output_type": "stream",
     "text": [
      "Random seed set to 42\n"
     ]
    }
   ],
   "source": [
    "# Select your favourite number for the random seed\n",
    "seed = 42\n",
    "\n",
    "# Sets the global random seed for numpy.\n",
    "np.random.seed(seed)\n",
    "# Sets the global random seed for TensorFlow.\n",
    "tf.random.set_seed(seed)\n",
    "\n",
    "print(f\"Random seed set to {seed}\")"
   ]
  },
  {
   "cell_type": "code",
   "execution_count": 5,
   "id": "d821c26d-8cce-4210-a2da-c5bbf5904d9b",
   "metadata": {},
   "outputs": [],
   "source": [
    "data_dir = './data/aclImdb'"
   ]
  },
  {
   "cell_type": "code",
   "execution_count": 6,
   "id": "df9bfddf-ce0a-4014-b34b-d5fbe15a5bc7",
   "metadata": {},
   "outputs": [
    {
     "name": "stdout",
     "output_type": "stream",
     "text": [
      "Found 5000 files belonging to 2 classes.\n",
      "Using 4000 files for training.\n",
      "Found 5000 files belonging to 2 classes.\n",
      "Using 1000 files for validation.\n",
      "Found 5000 files belonging to 2 classes.\n"
     ]
    }
   ],
   "source": [
    "# Here you have two main directories: one for train and one for test data.\n",
    "# You load files from each to create training and test datasets.\n",
    "seed = 42\n",
    "# Create the training set. Use 80% of the data and keep the remaining 20% for the validation.\n",
    "raw_training_set = tf.keras.utils.text_dataset_from_directory(\n",
    "    f'{data_dir}/train',\n",
    "    labels='inferred',\n",
    "    label_mode='int',\n",
    "    batch_size=32, \n",
    "    validation_split=0.2, \n",
    "    subset='training', \n",
    "    seed=seed\n",
    ")\n",
    "\n",
    "# Create the validation set. Use 20% of the data that was not used for training.\n",
    "raw_validation_set = tf.keras.utils.text_dataset_from_directory(\n",
    "    f'{data_dir}/train',\n",
    "    labels='inferred',\n",
    "    label_mode='int',\n",
    "    batch_size=32, \n",
    "    validation_split=0.2, \n",
    "    subset='validation', \n",
    "    seed=seed\n",
    ")\n",
    "\n",
    "# Create the test set.\n",
    "raw_test_set = tf.keras.utils.text_dataset_from_directory(\n",
    "    f'{data_dir}/test',\n",
    "    labels='inferred',\n",
    "    label_mode='int',\n",
    "    batch_size=32,\n",
    ")"
   ]
  },
  {
   "cell_type": "code",
   "execution_count": 7,
   "id": "973f636e-b39d-42e6-a579-2b90363122d9",
   "metadata": {},
   "outputs": [
    {
     "name": "stdout",
     "output_type": "stream",
     "text": [
      "Label 0 corresponds to neg\n",
      "Label 1 corresponds to pos\n"
     ]
    }
   ],
   "source": [
    "print(f\"Label 0 corresponds to {raw_training_set.class_names[0]}\")\n",
    "print(f\"Label 1 corresponds to {raw_training_set.class_names[1]}\")"
   ]
  },
  {
   "cell_type": "code",
   "execution_count": 8,
   "id": "81179b1f-8b1f-4be8-9ceb-7e6ede69220b",
   "metadata": {},
   "outputs": [
    {
     "name": "stdout",
     "output_type": "stream",
     "text": [
      "Review:\n",
      " b'This is a reunion, a team, and a great episode of Justice. From hesitation to resolution, Clark has made a important leap from a troubled teenager who was afraid of a controlled destiny, to a Superman who, like Green Arrow, sets aside his emotions to his few loved ones, ready to save the whole planet. This is not just a thrilling story about teamwork, loyalty, and friendship; this is also about deciding what\\'s more important in life, a lesson for Clark. I do not want the series to end, but I hope the ensuing episodes will strictly stick to what Justice shows without any \"rewind\" pushes and put a good end here of Smallville---and a wonderful beginning of Superman.<br /><br />In this episode, however, we should have seen more contrast between Lex and the Team. Nine stars should give it enough credit.'\n",
      "Label: 1\n",
      "\n",
      "Review:\n",
      " b'\"Hey Babu Riba\" is a film about a young woman, Mariana (nicknamed \"Esther\" after a famous American movie star), and four young men, Glenn, Sacha, Kicha, and Pop, all perhaps 15-17 years old in 1953 Belgrade, Yugoslavia. The five are committed friends and crazy about jazz, blue jeans, or anything American it seems.<br /><br />The very close relationship of the teenagers is poignant, and ultimately a sacrifice is willingly made to try to help one of the group who has fallen on unexpected difficulties. In the wake of changing communist politics, they go their separate ways and reunite in 1985 (the year before the film was made).<br /><br />I enjoyed the film with some reservations. The subtitles for one thing were difficult. Especially in the beginning, there were a number of dialogues which had no subtitles at all. Perhaps the conversational pace required it, but I couldn\\'t always both read the text and absorb the scene, which caused me to not always understand which character was involved. I watched the movie (a video from our public library) with a friend, and neither of us really understood part of the story about acquiring streptomycin for a sick relative.<br /><br />This Yugoslavian coming of age film effectively conveyed the teenagers\\' sense of invulnerability, idealism, and strong and loyal bonds to each other. There is a main flashforward, and it was intriguing, keeping me guessing until the end as to who these characters were vis-a-vis the 1953 cast, and what had actually happened.<br /><br />I would rate it 7 out of 10, and would like to see other films by the director, Jovan Acin (1941-1991).'\n",
      "Label: 1\n",
      "\n",
      "Review:\n",
      " b\"No message. No symbolism. No dark undercurrents.Just a wonderful melange of music, nostalgia and good fun put to-gether by people who obviously had a great time doing it. It's a refreshing antidote to some of the pretentious garbage being ground out by the studios. Of course ANYTHING with the incomparable Judi Dench is worth watching. And Cleo Laine's brilliant jazz singing is a bonus. This lady is in the same league as the late Ella. This goes on my movie shelf to be pulled out again anytime I feel the need for a warm experience and a hearty good natured chuckle. Just a wonderful film!\"\n",
      "Label: 1\n",
      "\n"
     ]
    }
   ],
   "source": [
    "# Take one batch from the dataset and print out the first three datapoints in the batch\n",
    "for text_batch, label_batch in raw_training_set.take(1):\n",
    "    for i in range(3):\n",
    "        print(f\"Review:\\n {text_batch.numpy()[i]}\")\n",
    "        print(f\"Label: {label_batch.numpy()[i]}\\n\")"
   ]
  },
  {
   "cell_type": "code",
   "execution_count": 9,
   "id": "1a4450a6-a6c0-4c6e-a437-93257a0e5f2a",
   "metadata": {},
   "outputs": [],
   "source": [
    "# Set the maximum number of words\n",
    "max_features = 10000\n",
    "\n",
    "# Define the custom standardization function\n",
    "def custom_standardization(input_data):\n",
    "    # Convert all text to lowercase\n",
    "    lowercase = tf.strings.lower(input_data)\n",
    "    # Remove HTML tags\n",
    "    stripped_html = tf.strings.regex_replace(lowercase, '<br />', ' ')\n",
    "    # Remove punctuation\n",
    "    replaced = tf.strings.regex_replace(\n",
    "        stripped_html,\n",
    "        '[%s]' % re.escape(string.punctuation),\n",
    "        ''\n",
    "    )\n",
    "    return replaced\n",
    "\n",
    "# Create a layer that you can use to convert text to vectors\n",
    "vectorize_layer = layers.TextVectorization(\n",
    "    standardize=custom_standardization,\n",
    "    max_tokens=max_features,\n",
    "    output_mode='int',\n",
    "    output_sequence_length=250)"
   ]
  },
  {
   "cell_type": "code",
   "execution_count": 10,
   "id": "a65e378c-e557-4968-bcef-41a7087496ef",
   "metadata": {},
   "outputs": [
    {
     "name": "stdout",
     "output_type": "stream",
     "text": [
      "Vocabulary size: 10000\n"
     ]
    }
   ],
   "source": [
    "# Build the vocabulary\n",
    "train_text = raw_training_set.map(lambda x, y: x)\n",
    "vectorize_layer.adapt(train_text)\n",
    "\n",
    "# Print out the vocabulary size\n",
    "print(f\"Vocabulary size: {len(vectorize_layer.get_vocabulary())}\")"
   ]
  },
  {
   "cell_type": "code",
   "execution_count": 11,
   "id": "4ee42dbc-d9bf-4aba-ab15-9a75eab1f5db",
   "metadata": {},
   "outputs": [
    {
     "name": "stdout",
     "output_type": "stream",
     "text": [
      "Review:\n",
      "b\"This movie is about a side of Ireland that Americans don't normally see, the narrow-minded religiously prejudiced side of the 'friendliest race in the world'. The movie, by the admission of the inhabitants of Fethard who are old enough to remember the events, is fairly accurate (though they insist that the film-makers invented some of the more violent scenes just to spice up the action).<br /><br />The movie was very unpopular in Ireland as it portrayed the Catholic church in a bad light, but the simple fact is that representatives of the Catholic church *did* organise vetoes of minorities (before Protestants it was the Jews).<br /><br />The film is a fascinating insight into the whole issue of religion in Ireland\"\n",
      "\n",
      "Label: pos\n",
      "\n",
      "Vectorized review\n",
      "(<tf.Tensor: shape=(1, 250), dtype=int64, numpy=\n",
      "array([[  10,   17,    7,   42,    3,  421,    5, 2801,   12, 1931,   87,\n",
      "        1709,   65,    2,    1,    1,    1,  421,    5,    2,    1, 1487,\n",
      "           8,    2,  185,    2,   17,   32,    2, 6940,    5,    2, 6172,\n",
      "           5,    1,   35,   24,  180,  181,    6,  352,    2,  638,    7,\n",
      "        1050, 2012,  148,   34, 7995,   12,    2,  850, 5067,   47,    5,\n",
      "           2,   50,  911,  132,   41,    6, 6499,   57,    2,  224,    2,\n",
      "          17,   13,   52,    1,    8, 2801,   14,    9,  898,    2, 3014,\n",
      "        1381,    8,    3,   81,  733,   18,    2,  631,  199,    7,   12,\n",
      "           1,    5,    2, 3014, 1381,  116,    1,    1,    5,    1,  147,\n",
      "           1,    9,   13,    2, 2977,    2,   19,    7,    3, 1248, 2255,\n",
      "          77,    2,  211, 2143,    5, 2238,    8, 2801,    0,    0,    0,\n",
      "           0,    0,    0,    0,    0,    0,    0,    0,    0,    0,    0,\n",
      "           0,    0,    0,    0,    0,    0,    0,    0,    0,    0,    0,\n",
      "           0,    0,    0,    0,    0,    0,    0,    0,    0,    0,    0,\n",
      "           0,    0,    0,    0,    0,    0,    0,    0,    0,    0,    0,\n",
      "           0,    0,    0,    0,    0,    0,    0,    0,    0,    0,    0,\n",
      "           0,    0,    0,    0,    0,    0,    0,    0,    0,    0,    0,\n",
      "           0,    0,    0,    0,    0,    0,    0,    0,    0,    0,    0,\n",
      "           0,    0,    0,    0,    0,    0,    0,    0,    0,    0,    0,\n",
      "           0,    0,    0,    0,    0,    0,    0,    0,    0,    0,    0,\n",
      "           0,    0,    0,    0,    0,    0,    0,    0,    0,    0,    0,\n",
      "           0,    0,    0,    0,    0,    0,    0,    0,    0,    0,    0,\n",
      "           0,    0,    0,    0,    0,    0,    0,    0]])>, <tf.Tensor: shape=(), dtype=int32, numpy=1>)\n"
     ]
    }
   ],
   "source": [
    "# Define the final function that you will use to vectorize the text.\n",
    "def vectorize_text(text, label):\n",
    "    text = tf.expand_dims(text, -1)\n",
    "    return vectorize_layer(text), label\n",
    "\n",
    "# Get one batch and select the first datapoint\n",
    "text_batch, label_batch = next(iter(raw_training_set))\n",
    "first_review, first_label = text_batch[0], label_batch[0]\n",
    "\n",
    "# Show the raw data\n",
    "print(f\"Review:\\n{first_review}\")\n",
    "print(f\"\\nLabel: {raw_training_set.class_names[first_label]}\")\n",
    "# Show the vectorized data\n",
    "print(f\"\\nVectorized review\\n{vectorize_text(first_review, first_label)}\")"
   ]
  },
  {
   "cell_type": "code",
   "execution_count": 12,
   "id": "33f80a77-f5c5-4d7d-9c93-47ce812168de",
   "metadata": {},
   "outputs": [],
   "source": [
    "#apply the vectorize function\n",
    "train_ds = raw_training_set.map(vectorize_text)\n",
    "val_ds = raw_validation_set.map(vectorize_text)\n",
    "test_ds = raw_test_set.map(vectorize_text)"
   ]
  },
  {
   "cell_type": "code",
   "execution_count": 13,
   "id": "586ccd80-5065-4aa7-aa34-7fc9bc21d8f5",
   "metadata": {},
   "outputs": [],
   "source": [
    "\n",
    "#.cache() keeps data in memory after it's loaded off disk. This will ensure the dataset does not become a bottleneck while training your model. If your dataset is too large to fit into memory, you can also use this method to create a performant on-disk cache, which is more efficient to read than many small files.\n",
    "\n",
    "#.prefetch() overlaps data preprocessing and model execution while training.\n",
    "AUTOTUNE = tf.data.AUTOTUNE\n",
    "\n",
    "train_ds = train_ds.cache().prefetch(buffer_size=AUTOTUNE)\n",
    "test_ds = test_ds.cache().prefetch(buffer_size=AUTOTUNE)"
   ]
  },
  {
   "cell_type": "code",
   "execution_count": 14,
   "id": "3808f015-c454-4a8a-94b9-63a330e6942a",
   "metadata": {},
   "outputs": [],
   "source": [
    "#Create a Sequential Model"
   ]
  },
  {
   "cell_type": "code",
   "execution_count": 15,
   "id": "8f1ceb79-63c4-4c26-8154-51162a91ae53",
   "metadata": {},
   "outputs": [
    {
     "data": {
      "text/html": [
       "<pre style=\"white-space:pre;overflow-x:auto;line-height:normal;font-family:Menlo,'DejaVu Sans Mono',consolas,'Courier New',monospace\"><span style=\"font-weight: bold\">Model: \"sequential\"</span>\n",
       "</pre>\n"
      ],
      "text/plain": [
       "\u001b[1mModel: \"sequential\"\u001b[0m\n"
      ]
     },
     "metadata": {},
     "output_type": "display_data"
    },
    {
     "data": {
      "text/html": [
       "<pre style=\"white-space:pre;overflow-x:auto;line-height:normal;font-family:Menlo,'DejaVu Sans Mono',consolas,'Courier New',monospace\">┏━━━━━━━━━━━━━━━━━━━━━━━━━━━━━━━━━┳━━━━━━━━━━━━━━━━━━━━━━━━┳━━━━━━━━━━━━━━━┓\n",
       "┃<span style=\"font-weight: bold\"> Layer (type)                    </span>┃<span style=\"font-weight: bold\"> Output Shape           </span>┃<span style=\"font-weight: bold\">       Param # </span>┃\n",
       "┡━━━━━━━━━━━━━━━━━━━━━━━━━━━━━━━━━╇━━━━━━━━━━━━━━━━━━━━━━━━╇━━━━━━━━━━━━━━━┩\n",
       "│ embedding (<span style=\"color: #0087ff; text-decoration-color: #0087ff\">Embedding</span>)           │ ?                      │   <span style=\"color: #00af00; text-decoration-color: #00af00\">0</span> (unbuilt) │\n",
       "├─────────────────────────────────┼────────────────────────┼───────────────┤\n",
       "│ global_average_pooling1d        │ ?                      │   <span style=\"color: #00af00; text-decoration-color: #00af00\">0</span> (unbuilt) │\n",
       "│ (<span style=\"color: #0087ff; text-decoration-color: #0087ff\">GlobalAveragePooling1D</span>)        │                        │               │\n",
       "├─────────────────────────────────┼────────────────────────┼───────────────┤\n",
       "│ dense (<span style=\"color: #0087ff; text-decoration-color: #0087ff\">Dense</span>)                   │ ?                      │   <span style=\"color: #00af00; text-decoration-color: #00af00\">0</span> (unbuilt) │\n",
       "└─────────────────────────────────┴────────────────────────┴───────────────┘\n",
       "</pre>\n"
      ],
      "text/plain": [
       "┏━━━━━━━━━━━━━━━━━━━━━━━━━━━━━━━━━┳━━━━━━━━━━━━━━━━━━━━━━━━┳━━━━━━━━━━━━━━━┓\n",
       "┃\u001b[1m \u001b[0m\u001b[1mLayer (type)                   \u001b[0m\u001b[1m \u001b[0m┃\u001b[1m \u001b[0m\u001b[1mOutput Shape          \u001b[0m\u001b[1m \u001b[0m┃\u001b[1m \u001b[0m\u001b[1m      Param #\u001b[0m\u001b[1m \u001b[0m┃\n",
       "┡━━━━━━━━━━━━━━━━━━━━━━━━━━━━━━━━━╇━━━━━━━━━━━━━━━━━━━━━━━━╇━━━━━━━━━━━━━━━┩\n",
       "│ embedding (\u001b[38;5;33mEmbedding\u001b[0m)           │ ?                      │   \u001b[38;5;34m0\u001b[0m (unbuilt) │\n",
       "├─────────────────────────────────┼────────────────────────┼───────────────┤\n",
       "│ global_average_pooling1d        │ ?                      │   \u001b[38;5;34m0\u001b[0m (unbuilt) │\n",
       "│ (\u001b[38;5;33mGlobalAveragePooling1D\u001b[0m)        │                        │               │\n",
       "├─────────────────────────────────┼────────────────────────┼───────────────┤\n",
       "│ dense (\u001b[38;5;33mDense\u001b[0m)                   │ ?                      │   \u001b[38;5;34m0\u001b[0m (unbuilt) │\n",
       "└─────────────────────────────────┴────────────────────────┴───────────────┘\n"
      ]
     },
     "metadata": {},
     "output_type": "display_data"
    },
    {
     "data": {
      "text/html": [
       "<pre style=\"white-space:pre;overflow-x:auto;line-height:normal;font-family:Menlo,'DejaVu Sans Mono',consolas,'Courier New',monospace\"><span style=\"font-weight: bold\"> Total params: </span><span style=\"color: #00af00; text-decoration-color: #00af00\">0</span> (0.00 B)\n",
       "</pre>\n"
      ],
      "text/plain": [
       "\u001b[1m Total params: \u001b[0m\u001b[38;5;34m0\u001b[0m (0.00 B)\n"
      ]
     },
     "metadata": {},
     "output_type": "display_data"
    },
    {
     "data": {
      "text/html": [
       "<pre style=\"white-space:pre;overflow-x:auto;line-height:normal;font-family:Menlo,'DejaVu Sans Mono',consolas,'Courier New',monospace\"><span style=\"font-weight: bold\"> Trainable params: </span><span style=\"color: #00af00; text-decoration-color: #00af00\">0</span> (0.00 B)\n",
       "</pre>\n"
      ],
      "text/plain": [
       "\u001b[1m Trainable params: \u001b[0m\u001b[38;5;34m0\u001b[0m (0.00 B)\n"
      ]
     },
     "metadata": {},
     "output_type": "display_data"
    },
    {
     "data": {
      "text/html": [
       "<pre style=\"white-space:pre;overflow-x:auto;line-height:normal;font-family:Menlo,'DejaVu Sans Mono',consolas,'Courier New',monospace\"><span style=\"font-weight: bold\"> Non-trainable params: </span><span style=\"color: #00af00; text-decoration-color: #00af00\">0</span> (0.00 B)\n",
       "</pre>\n"
      ],
      "text/plain": [
       "\u001b[1m Non-trainable params: \u001b[0m\u001b[38;5;34m0\u001b[0m (0.00 B)\n"
      ]
     },
     "metadata": {},
     "output_type": "display_data"
    }
   ],
   "source": [
    "embedding_dim = 16\n",
    "max_features = 10000\n",
    "\n",
    "# Create the model by calling tf.keras.Sequential, where the layers are given in a list.\n",
    "model_sequential = tf.keras.Sequential([\n",
    "    layers.Embedding(max_features, embedding_dim),\n",
    "    layers.GlobalAveragePooling1D(),\n",
    "    layers.Dense(1, activation='sigmoid')\n",
    "])\n",
    "\n",
    "# Print out the summary of the model\n",
    "model_sequential.summary()"
   ]
  },
  {
   "cell_type": "code",
   "execution_count": 16,
   "id": "0a24fefe-090e-4b5a-8525-36e93b5be18e",
   "metadata": {},
   "outputs": [],
   "source": [
    "model_sequential.compile(loss=losses.BinaryCrossentropy(),\n",
    "              optimizer='adam',\n",
    "              metrics=['accuracy'])"
   ]
  },
  {
   "cell_type": "code",
   "execution_count": null,
   "id": "de89ae80-0ab2-41e1-bfd5-d9606ebd008d",
   "metadata": {},
   "outputs": [],
   "source": []
  },
  {
   "cell_type": "code",
   "execution_count": 17,
   "id": "dd88ac35-73eb-40d9-bc11-e9bf39384b9e",
   "metadata": {},
   "outputs": [
    {
     "data": {
      "text/html": [
       "<pre style=\"white-space:pre;overflow-x:auto;line-height:normal;font-family:Menlo,'DejaVu Sans Mono',consolas,'Courier New',monospace\"><span style=\"font-weight: bold\">Model: \"functional\"</span>\n",
       "</pre>\n"
      ],
      "text/plain": [
       "\u001b[1mModel: \"functional\"\u001b[0m\n"
      ]
     },
     "metadata": {},
     "output_type": "display_data"
    },
    {
     "data": {
      "text/html": [
       "<pre style=\"white-space:pre;overflow-x:auto;line-height:normal;font-family:Menlo,'DejaVu Sans Mono',consolas,'Courier New',monospace\">┏━━━━━━━━━━━━━━━━━━━━━━━━━━━━━━━━━┳━━━━━━━━━━━━━━━━━━━━━━━━┳━━━━━━━━━━━━━━━┓\n",
       "┃<span style=\"font-weight: bold\"> Layer (type)                    </span>┃<span style=\"font-weight: bold\"> Output Shape           </span>┃<span style=\"font-weight: bold\">       Param # </span>┃\n",
       "┡━━━━━━━━━━━━━━━━━━━━━━━━━━━━━━━━━╇━━━━━━━━━━━━━━━━━━━━━━━━╇━━━━━━━━━━━━━━━┩\n",
       "│ input_layer (<span style=\"color: #0087ff; text-decoration-color: #0087ff\">InputLayer</span>)        │ (<span style=\"color: #00d7ff; text-decoration-color: #00d7ff\">None</span>, <span style=\"color: #00d7ff; text-decoration-color: #00d7ff\">None</span>)           │             <span style=\"color: #00af00; text-decoration-color: #00af00\">0</span> │\n",
       "├─────────────────────────────────┼────────────────────────┼───────────────┤\n",
       "│ embedding_1 (<span style=\"color: #0087ff; text-decoration-color: #0087ff\">Embedding</span>)         │ (<span style=\"color: #00d7ff; text-decoration-color: #00d7ff\">None</span>, <span style=\"color: #00d7ff; text-decoration-color: #00d7ff\">None</span>, <span style=\"color: #00af00; text-decoration-color: #00af00\">16</span>)       │       <span style=\"color: #00af00; text-decoration-color: #00af00\">160,000</span> │\n",
       "├─────────────────────────────────┼────────────────────────┼───────────────┤\n",
       "│ global_average_pooling1d_1      │ (<span style=\"color: #00d7ff; text-decoration-color: #00d7ff\">None</span>, <span style=\"color: #00af00; text-decoration-color: #00af00\">16</span>)             │             <span style=\"color: #00af00; text-decoration-color: #00af00\">0</span> │\n",
       "│ (<span style=\"color: #0087ff; text-decoration-color: #0087ff\">GlobalAveragePooling1D</span>)        │                        │               │\n",
       "├─────────────────────────────────┼────────────────────────┼───────────────┤\n",
       "│ dense_1 (<span style=\"color: #0087ff; text-decoration-color: #0087ff\">Dense</span>)                 │ (<span style=\"color: #00d7ff; text-decoration-color: #00d7ff\">None</span>, <span style=\"color: #00af00; text-decoration-color: #00af00\">1</span>)              │            <span style=\"color: #00af00; text-decoration-color: #00af00\">17</span> │\n",
       "└─────────────────────────────────┴────────────────────────┴───────────────┘\n",
       "</pre>\n"
      ],
      "text/plain": [
       "┏━━━━━━━━━━━━━━━━━━━━━━━━━━━━━━━━━┳━━━━━━━━━━━━━━━━━━━━━━━━┳━━━━━━━━━━━━━━━┓\n",
       "┃\u001b[1m \u001b[0m\u001b[1mLayer (type)                   \u001b[0m\u001b[1m \u001b[0m┃\u001b[1m \u001b[0m\u001b[1mOutput Shape          \u001b[0m\u001b[1m \u001b[0m┃\u001b[1m \u001b[0m\u001b[1m      Param #\u001b[0m\u001b[1m \u001b[0m┃\n",
       "┡━━━━━━━━━━━━━━━━━━━━━━━━━━━━━━━━━╇━━━━━━━━━━━━━━━━━━━━━━━━╇━━━━━━━━━━━━━━━┩\n",
       "│ input_layer (\u001b[38;5;33mInputLayer\u001b[0m)        │ (\u001b[38;5;45mNone\u001b[0m, \u001b[38;5;45mNone\u001b[0m)           │             \u001b[38;5;34m0\u001b[0m │\n",
       "├─────────────────────────────────┼────────────────────────┼───────────────┤\n",
       "│ embedding_1 (\u001b[38;5;33mEmbedding\u001b[0m)         │ (\u001b[38;5;45mNone\u001b[0m, \u001b[38;5;45mNone\u001b[0m, \u001b[38;5;34m16\u001b[0m)       │       \u001b[38;5;34m160,000\u001b[0m │\n",
       "├─────────────────────────────────┼────────────────────────┼───────────────┤\n",
       "│ global_average_pooling1d_1      │ (\u001b[38;5;45mNone\u001b[0m, \u001b[38;5;34m16\u001b[0m)             │             \u001b[38;5;34m0\u001b[0m │\n",
       "│ (\u001b[38;5;33mGlobalAveragePooling1D\u001b[0m)        │                        │               │\n",
       "├─────────────────────────────────┼────────────────────────┼───────────────┤\n",
       "│ dense_1 (\u001b[38;5;33mDense\u001b[0m)                 │ (\u001b[38;5;45mNone\u001b[0m, \u001b[38;5;34m1\u001b[0m)              │            \u001b[38;5;34m17\u001b[0m │\n",
       "└─────────────────────────────────┴────────────────────────┴───────────────┘\n"
      ]
     },
     "metadata": {},
     "output_type": "display_data"
    },
    {
     "data": {
      "text/html": [
       "<pre style=\"white-space:pre;overflow-x:auto;line-height:normal;font-family:Menlo,'DejaVu Sans Mono',consolas,'Courier New',monospace\"><span style=\"font-weight: bold\"> Total params: </span><span style=\"color: #00af00; text-decoration-color: #00af00\">160,017</span> (625.07 KB)\n",
       "</pre>\n"
      ],
      "text/plain": [
       "\u001b[1m Total params: \u001b[0m\u001b[38;5;34m160,017\u001b[0m (625.07 KB)\n"
      ]
     },
     "metadata": {},
     "output_type": "display_data"
    },
    {
     "data": {
      "text/html": [
       "<pre style=\"white-space:pre;overflow-x:auto;line-height:normal;font-family:Menlo,'DejaVu Sans Mono',consolas,'Courier New',monospace\"><span style=\"font-weight: bold\"> Trainable params: </span><span style=\"color: #00af00; text-decoration-color: #00af00\">160,017</span> (625.07 KB)\n",
       "</pre>\n"
      ],
      "text/plain": [
       "\u001b[1m Trainable params: \u001b[0m\u001b[38;5;34m160,017\u001b[0m (625.07 KB)\n"
      ]
     },
     "metadata": {},
     "output_type": "display_data"
    },
    {
     "data": {
      "text/html": [
       "<pre style=\"white-space:pre;overflow-x:auto;line-height:normal;font-family:Menlo,'DejaVu Sans Mono',consolas,'Courier New',monospace\"><span style=\"font-weight: bold\"> Non-trainable params: </span><span style=\"color: #00af00; text-decoration-color: #00af00\">0</span> (0.00 B)\n",
       "</pre>\n"
      ],
      "text/plain": [
       "\u001b[1m Non-trainable params: \u001b[0m\u001b[38;5;34m0\u001b[0m (0.00 B)\n"
      ]
     },
     "metadata": {},
     "output_type": "display_data"
    }
   ],
   "source": [
    "# Define the inputs\n",
    "inputs = tf.keras.Input(shape=(None,))\n",
    "\n",
    "# Define the first layer\n",
    "embedding = layers.Embedding(max_features, embedding_dim)\n",
    "# Call the first layer with inputs as the parameter\n",
    "x = embedding(inputs)\n",
    "\n",
    "# Define the second layer\n",
    "pooling = layers.GlobalAveragePooling1D()\n",
    "# Call the first layer with the output of the previous layer as the parameter\n",
    "x = pooling(x)\n",
    "\n",
    "# Define and call in the same line. (Same thing used two lines of code above\n",
    "# for other layers. You can use any option you prefer.)\n",
    "outputs = layers.Dense(1, activation='sigmoid')(x)\n",
    "#The two-line alternative to the one layer would be:\n",
    "# dense = layers.Dense(1, activation='sigmoid')\n",
    "# x = dense(x)\n",
    "\n",
    "\n",
    "# Create the model\n",
    "model_functional = tf.keras.Model(inputs=inputs, outputs=outputs)\n",
    "\n",
    "# Print out the summary of the model\n",
    "model_functional.summary()"
   ]
  },
  {
   "cell_type": "code",
   "execution_count": 18,
   "id": "9a3c052b-86c0-43a2-aeb7-5862cb83a147",
   "metadata": {},
   "outputs": [],
   "source": [
    "model_functional.compile(loss=losses.BinaryCrossentropy(),\n",
    "              optimizer='adam',\n",
    "              metrics=['accuracy'])"
   ]
  },
  {
   "cell_type": "code",
   "execution_count": 19,
   "id": "f30cc12e-6052-4397-9213-9f31112d1c88",
   "metadata": {},
   "outputs": [],
   "source": [
    "# Select which model you want to use and train. the results should be the same\n",
    "model = model_functional # model = model_sequential"
   ]
  },
  {
   "cell_type": "code",
   "execution_count": 20,
   "id": "04361f6a-219c-4a26-827d-185307608902",
   "metadata": {},
   "outputs": [
    {
     "name": "stdout",
     "output_type": "stream",
     "text": [
      "Epoch 1/25\n",
      "125/125 - 1s - 6ms/step - accuracy: 0.5555 - loss: 0.6897 - val_accuracy: 0.5820 - val_loss: 0.6843\n",
      "Epoch 2/25\n",
      "125/125 - 0s - 2ms/step - accuracy: 0.6240 - loss: 0.6772 - val_accuracy: 0.6490 - val_loss: 0.6700\n",
      "Epoch 3/25\n",
      "125/125 - 0s - 2ms/step - accuracy: 0.6835 - loss: 0.6573 - val_accuracy: 0.6940 - val_loss: 0.6475\n",
      "Epoch 4/25\n",
      "125/125 - 0s - 2ms/step - accuracy: 0.7225 - loss: 0.6284 - val_accuracy: 0.7170 - val_loss: 0.6195\n",
      "Epoch 5/25\n",
      "125/125 - 0s - 2ms/step - accuracy: 0.7510 - loss: 0.5935 - val_accuracy: 0.7460 - val_loss: 0.5886\n",
      "Epoch 6/25\n",
      "125/125 - 0s - 2ms/step - accuracy: 0.7800 - loss: 0.5558 - val_accuracy: 0.7700 - val_loss: 0.5578\n",
      "Epoch 7/25\n",
      "125/125 - 0s - 2ms/step - accuracy: 0.8102 - loss: 0.5181 - val_accuracy: 0.7920 - val_loss: 0.5293\n",
      "Epoch 8/25\n",
      "125/125 - 0s - 2ms/step - accuracy: 0.8378 - loss: 0.4822 - val_accuracy: 0.8050 - val_loss: 0.5036\n",
      "Epoch 9/25\n",
      "125/125 - 0s - 2ms/step - accuracy: 0.8570 - loss: 0.4491 - val_accuracy: 0.8110 - val_loss: 0.4811\n",
      "Epoch 10/25\n",
      "125/125 - 0s - 2ms/step - accuracy: 0.8687 - loss: 0.4190 - val_accuracy: 0.8220 - val_loss: 0.4615\n",
      "Epoch 11/25\n",
      "125/125 - 0s - 2ms/step - accuracy: 0.8795 - loss: 0.3918 - val_accuracy: 0.8300 - val_loss: 0.4446\n",
      "Epoch 12/25\n",
      "125/125 - 0s - 2ms/step - accuracy: 0.8875 - loss: 0.3673 - val_accuracy: 0.8360 - val_loss: 0.4298\n",
      "Epoch 13/25\n",
      "125/125 - 0s - 2ms/step - accuracy: 0.8965 - loss: 0.3451 - val_accuracy: 0.8390 - val_loss: 0.4170\n",
      "Epoch 14/25\n",
      "125/125 - 0s - 2ms/step - accuracy: 0.9028 - loss: 0.3249 - val_accuracy: 0.8430 - val_loss: 0.4059\n",
      "Epoch 15/25\n",
      "125/125 - 0s - 2ms/step - accuracy: 0.9060 - loss: 0.3064 - val_accuracy: 0.8420 - val_loss: 0.3962\n",
      "Epoch 16/25\n",
      "125/125 - 0s - 2ms/step - accuracy: 0.9115 - loss: 0.2894 - val_accuracy: 0.8440 - val_loss: 0.3878\n",
      "Epoch 17/25\n",
      "125/125 - 0s - 2ms/step - accuracy: 0.9202 - loss: 0.2736 - val_accuracy: 0.8490 - val_loss: 0.3804\n",
      "Epoch 18/25\n",
      "125/125 - 0s - 2ms/step - accuracy: 0.9273 - loss: 0.2589 - val_accuracy: 0.8530 - val_loss: 0.3739\n",
      "Epoch 19/25\n",
      "125/125 - 0s - 2ms/step - accuracy: 0.9335 - loss: 0.2452 - val_accuracy: 0.8560 - val_loss: 0.3683\n",
      "Epoch 20/25\n",
      "125/125 - 0s - 2ms/step - accuracy: 0.9390 - loss: 0.2324 - val_accuracy: 0.8590 - val_loss: 0.3633\n",
      "Epoch 21/25\n",
      "125/125 - 0s - 2ms/step - accuracy: 0.9435 - loss: 0.2203 - val_accuracy: 0.8560 - val_loss: 0.3590\n",
      "Epoch 22/25\n",
      "125/125 - 0s - 2ms/step - accuracy: 0.9480 - loss: 0.2090 - val_accuracy: 0.8580 - val_loss: 0.3552\n",
      "Epoch 23/25\n",
      "125/125 - 0s - 2ms/step - accuracy: 0.9535 - loss: 0.1983 - val_accuracy: 0.8610 - val_loss: 0.3519\n",
      "Epoch 24/25\n",
      "125/125 - 0s - 2ms/step - accuracy: 0.9557 - loss: 0.1881 - val_accuracy: 0.8580 - val_loss: 0.3491\n",
      "Epoch 25/25\n",
      "125/125 - 0s - 2ms/step - accuracy: 0.9590 - loss: 0.1785 - val_accuracy: 0.8560 - val_loss: 0.3467\n"
     ]
    }
   ],
   "source": [
    "epochs = 25\n",
    "history = model.fit(\n",
    "    train_ds,\n",
    "    validation_data=val_ds,\n",
    "    epochs=epochs,\n",
    "    verbose=2\n",
    ")"
   ]
  },
  {
   "cell_type": "code",
   "execution_count": 21,
   "id": "ea8685fc-1e1e-496a-bf8c-8b40d387d32d",
   "metadata": {},
   "outputs": [
    {
     "name": "stdout",
     "output_type": "stream",
     "text": [
      "\u001b[1m157/157\u001b[0m \u001b[32m━━━━━━━━━━━━━━━━━━━━\u001b[0m\u001b[37m\u001b[0m \u001b[1m0s\u001b[0m 2ms/step - accuracy: 0.8400 - loss: 0.3725\n",
      "Loss: 0.36844152212142944\n",
      "Accuracy: 0.8416000008583069\n"
     ]
    }
   ],
   "source": [
    "loss, accuracy = model.evaluate(test_ds)\n",
    "\n",
    "print(f\"Loss: {loss}\")\n",
    "print(f\"Accuracy: {accuracy}\")"
   ]
  },
  {
   "cell_type": "code",
   "execution_count": 22,
   "id": "6776e1ff-6c83-4b07-9adf-8a0a7c485cb0",
   "metadata": {},
   "outputs": [
    {
     "data": {
      "image/png": "[encoded data removed]",
      "text/plain": [
       "<Figure size 640x480 with 1 Axes>"
      ]
     },
     "metadata": {},
     "output_type": "display_data"
    },
    {
     "data": {
      "image/png": "[encoded data removed]",
      "text/plain": [
       "<Figure size 640x480 with 1 Axes>"
      ]
     },
     "metadata": {},
     "output_type": "display_data"
    }
   ],
   "source": [
    "def plot_metrics(history, metric):\n",
    "    plt.plot(history.history[metric])\n",
    "    plt.plot(history.history[f'val_{metric}'])\n",
    "    plt.xlabel(\"Epochs\")\n",
    "    plt.ylabel(metric.title())\n",
    "    plt.legend([metric, f'val_{metric}'])\n",
    "    plt.show()\n",
    "    \n",
    "plot_metrics(history, \"accuracy\")\n",
    "plot_metrics(history, \"loss\")"
   ]
  },
  {
   "cell_type": "code",
   "execution_count": 23,
   "id": "ae74ff8d-8d5c-466d-9300-374a8335b499",
   "metadata": {},
   "outputs": [],
   "source": [
    "#######Predict on Your Own Data\n",
    "# Make a new sequential model using the vectorization layer and the model you just trained.\n",
    "export_model = tf.keras.Sequential([\n",
    "  vectorize_layer,\n",
    "  model]\n",
    ")\n",
    "\n",
    "# Compile the model\n",
    "export_model.compile(\n",
    "    loss=losses.BinaryCrossentropy(from_logits=False), optimizer=\"adam\", metrics=['accuracy']\n",
    ")"
   ]
  },
  {
   "cell_type": "code",
   "execution_count": 25,
   "id": "a0b575f0-3fe0-4d66-88e0-d1137303316c",
   "metadata": {},
   "outputs": [
    {
     "name": "stdout",
     "output_type": "stream",
     "text": [
      "Result: 0.548,   Label: 1,   Review: this movie was very, very good\n",
      "Result: 0.456,   Label: 0,   Review: quite ok\n",
      "Result: 0.304,   Label: 0,   Review: the movie was not bad\n",
      "Result: 0.349,   Label: 0,   Review: bad\n",
      "Result: 0.308,   Label: 0,   Review: negative disappointed bad scary\n",
      "Result: 0.359,   Label: 0,   Review: this movie was stupid\n"
     ]
    }
   ],
   "source": [
    "examples = ['this movie was very, very good', 'quite ok', 'the movie was not bad', 'bad', 'negative disappointed bad scary', 'this movie was stupid']\n",
    "\n",
    "examples_tensor = tf.convert_to_tensor(examples, dtype=tf.string)  # Convert list to TensorFlow tensor of strings\n",
    "\n",
    "results = export_model.predict(examples_tensor, verbose=False)\n",
    "\n",
    "for result, example in zip(results, examples):\n",
    "    print(f'Result: {result[0]:.3f},   Label: {int(np.round(result[0]))},   Review: {example}')"
   ]
  },
  {
   "cell_type": "code",
   "execution_count": null,
   "id": "7e63cc5b-eb46-4f50-a67e-6df8d27e331d",
   "metadata": {},
   "outputs": [],
   "source": [
    "#Hidden State Activation "
   ]
  },
  {
   "cell_type": "code",
   "execution_count": 32,
   "id": "6f2c0e48-ec7a-49f6-a857-4f9691eb3d85",
   "metadata": {},
   "outputs": [
    {
     "name": "stdout",
     "output_type": "stream",
     "text": [
      "-- Data --\n",
      "\n",
      "w_hh :\n",
      "[[1 1]\n",
      " [1 1]\n",
      " [1 1]]\n",
      "w_hh shape : (3, 2) \n",
      "\n",
      "w_hx :\n",
      "[[9 9 9]\n",
      " [9 9 9]\n",
      " [9 9 9]]\n",
      "w_hx shape : (3, 3) \n",
      "\n",
      "-- Joining --\n",
      "\n",
      "option 1 : concatenate\n",
      "\n",
      "w_h :\n",
      "[[1 1 9 9 9]\n",
      " [1 1 9 9 9]\n",
      " [1 1 9 9 9]]\n",
      "w_h shape : (3, 5) \n",
      "\n",
      "option 2 : hstack\n",
      "\n",
      "w_h :\n",
      "[[1 1 9 9 9]\n",
      " [1 1 9 9 9]\n",
      " [1 1 9 9 9]]\n",
      "w_h shape : (3, 5)\n"
     ]
    }
   ],
   "source": [
    "# Create some dummy data\n",
    "\n",
    "w_hh = np.full((3, 2), 1)  # illustration purposes only, returns an array of size 3x2 filled with all 1s\n",
    "w_hx = np.full((3, 3), 9)  # illustration purposes only, returns an array of size 3x3 filled with all 9s\n",
    "\n",
    "\n",
    "### START CODE HERE ###\n",
    "# Try using some random initializations, though it will obfuscate the join. eg: uncomment these lines\n",
    "# w_hh = np.random.standard_normal((3,2))\n",
    "# w_hx = np.random.standard_normal((3,3))\n",
    "### END CODE HERE ###\n",
    "#col concate\n",
    "print(\"-- Data --\\n\")\n",
    "print(\"w_hh :\")\n",
    "print(w_hh)\n",
    "print(\"w_hh shape :\", w_hh.shape, \"\\n\")\n",
    "print(\"w_hx :\")\n",
    "print(w_hx)\n",
    "print(\"w_hx shape :\", w_hx.shape, \"\\n\")\n",
    "\n",
    "# Joining the arrays\n",
    "print(\"-- Joining --\\n\")\n",
    "# Option 1: concatenate - horizontal\n",
    "w_h1 = np.concatenate((w_hh, w_hx), axis=1)\n",
    "print(\"option 1 : concatenate\\n\")\n",
    "print(\"w_h :\")\n",
    "print(w_h1)\n",
    "print(\"w_h shape :\", w_h1.shape, \"\\n\")\n",
    "\n",
    "# Option 2: hstack\n",
    "w_h2 = np.hstack((w_hh, w_hx))\n",
    "print(\"option 2 : hstack\\n\")\n",
    "print(\"w_h :\")\n",
    "print(w_h2)\n",
    "print(\"w_h shape :\", w_h2.shape)"
   ]
  },
  {
   "cell_type": "code",
   "execution_count": 31,
   "id": "2c830704-46cf-4b2e-bf69-7f60b3fef9c6",
   "metadata": {},
   "outputs": [
    {
     "name": "stdout",
     "output_type": "stream",
     "text": [
      "-- Data --\n",
      "\n",
      "h_t_prev :\n",
      "[[1]\n",
      " [1]]\n",
      "h_t_prev shape : (2, 1) \n",
      "\n",
      "x_t :\n",
      "[[9]\n",
      " [9]\n",
      " [9]]\n",
      "x_t shape : (3, 1) \n",
      "\n",
      "-- Joining --\n",
      "\n",
      "option 1 : concatenate\n",
      "\n",
      "ax_1 :\n",
      "[[1]\n",
      " [1]\n",
      " [9]\n",
      " [9]\n",
      " [9]]\n",
      "ax_1 shape : (5, 1) \n",
      "\n",
      "option 2 : vstack\n",
      "\n",
      "ax_2 :\n",
      "[[1]\n",
      " [1]\n",
      " [9]\n",
      " [9]\n",
      " [9]]\n",
      "ax_2 shape : (5, 1)\n"
     ]
    }
   ],
   "source": [
    "# Create some more dummy data\n",
    "h_t_prev = np.full((2, 1), 1)  # illustration purposes only, returns an array of size 2x1 filled with all 1s\n",
    "x_t = np.full((3, 1), 9)       # illustration purposes only, returns an array of size 3x1 filled with all 9s\n",
    "\n",
    "# Try using some random initializations, though it will obfuscate the join. eg: uncomment these lines\n",
    "#row concate\n",
    "### START CODE HERE ###\n",
    "# h_t_prev = np.random.standard_normal((2,1))\n",
    "# x_t = np.random.standard_normal((3,1))\n",
    "### END CODE HERE ###\n",
    "\n",
    "print(\"-- Data --\\n\")\n",
    "print(\"h_t_prev :\")\n",
    "print(h_t_prev)\n",
    "print(\"h_t_prev shape :\", h_t_prev.shape, \"\\n\")\n",
    "print(\"x_t :\")\n",
    "print(x_t)\n",
    "print(\"x_t shape :\", x_t.shape, \"\\n\")\n",
    "\n",
    "# Joining the arrays\n",
    "print(\"-- Joining --\\n\")\n",
    "\n",
    "# Option 1: concatenate - vertical\n",
    "ax_1 = np.concatenate(\n",
    "    (h_t_prev, x_t), axis=0\n",
    ")  # note the difference in axis parameter vs earlier\n",
    "print(\"option 1 : concatenate\\n\")\n",
    "print(\"ax_1 :\")\n",
    "print(ax_1)\n",
    "print(\"ax_1 shape :\", ax_1.shape, \"\\n\")\n",
    "\n",
    "# Option 2: vstack\n",
    "ax_2 = np.vstack((h_t_prev, x_t))\n",
    "print(\"option 2 : vstack\\n\")\n",
    "print(\"ax_2 :\")\n",
    "print(ax_2)\n",
    "print(\"ax_2 shape :\", ax_2.shape)"
   ]
  },
  {
   "cell_type": "code",
   "execution_count": 37,
   "id": "24f7b7ae-5011-46d4-b808-a1d007e8e4c7",
   "metadata": {},
   "outputs": [
    {
     "name": "stdout",
     "output_type": "stream",
     "text": [
      "-- Results --\n",
      "\n",
      "Formula 1\n",
      "Term1:\n",
      " [[1 1 9 9 9]\n",
      " [1 1 9 9 9]\n",
      " [1 1 9 9 9]]\n",
      "Term2:\n",
      " [[1]\n",
      " [1]\n",
      " [9]\n",
      " [9]\n",
      " [9]]\n",
      "Output:\n",
      "[[245]\n",
      " [245]\n",
      " [245]]\n",
      "\n",
      "Formula 2\n",
      "Term1:\n",
      " [[2]\n",
      " [2]\n",
      " [2]]\n",
      "Term2:\n",
      " [[243]\n",
      " [243]\n",
      " [243]]\n",
      "\n",
      "Output:\n",
      "[[245]\n",
      " [245]\n",
      " [245]] \n",
      "\n",
      "-- Verify --\n",
      "Results are the same : True\n"
     ]
    }
   ],
   "source": [
    "# Data\n",
    "\n",
    "w_hh = np.full((3, 2), 1)  # returns an array of size 3x2 filled with all 1s\n",
    "w_hx = np.full((3, 3), 9)  # returns an array of size 3x3 filled with all 9s\n",
    "h_t_prev = np.full((2, 1), 1)  # returns an array of size 2x1 filled with all 1s\n",
    "x_t = np.full((3, 1), 9)       # returns an array of size 3x1 filled with all 9s\n",
    "\n",
    "\n",
    "# If you want to randomize the values, uncomment the next 4 lines\n",
    "\n",
    "# w_hh = np.random.standard_normal((3,2))\n",
    "# w_hx = np.random.standard_normal((3,3))\n",
    "# h_t_prev = np.random.standard_normal((2,1))\n",
    "# x_t = np.random.standard_normal((3,1))\n",
    "\n",
    "# Results\n",
    "print(\"-- Results --\")\n",
    "# Formula 1\n",
    "stack_1 = np.hstack((w_hh, w_hx))\n",
    "stack_2 = np.vstack((h_t_prev, x_t))\n",
    "\n",
    "print(\"\\nFormula 1\")\n",
    "print(\"Term1:\\n\",stack_1)\n",
    "print(\"Term2:\\n\",stack_2)\n",
    "formula_1 = np.matmul(np.hstack((w_hh, w_hx)), np.vstack((h_t_prev, x_t))) #ℎ<𝑡>=𝑔(𝑊ℎ[ℎ<𝑡−1>,𝑥<𝑡>]+𝑏ℎ)\n",
    "print(\"Output:\")\n",
    "print(formula_1)\n",
    "\n",
    "# Formula 2\n",
    "mul_1 = np.matmul(w_hh, h_t_prev)\n",
    "mul_2 = np.matmul(w_hx, x_t)\n",
    "print(\"\\nFormula 2\")\n",
    "print(\"Term1:\\n\",mul_1)\n",
    "print(\"Term2:\\n\",mul_2)\n",
    "\n",
    "formula_2 = np.matmul(w_hh, h_t_prev) + np.matmul(w_hx, x_t) #ℎ<𝑡>=𝑔(𝑊ℎℎℎ<𝑡−1>+𝑊ℎ𝑥𝑥<𝑡>+𝑏ℎ)\n",
    "print(\"\\nOutput:\")\n",
    "print(formula_2, \"\\n\")\n",
    "\n",
    "# Verification \n",
    "# np.allclose - to check if two arrays are elementwise equal upto certain tolerance, here  \n",
    "# https://numpy.org/doc/stable/reference/generated/numpy.allclose.html\n",
    "\n",
    "print(\"-- Verify --\")\n",
    "print(\"Results are the same :\", np.allclose(formula_1, formula_2))\n",
    "\n",
    "### START CODE HERE ###\n",
    "# # Try adding a sigmoid activation function and bias term as a final check\n",
    "# # Activation\n",
    "# def sigmoid(x):\n",
    "#     return 1 / (1 + np.exp(-x))\n",
    "\n",
    "# # Bias and check\n",
    "# b = np.random.standard_normal((formula_1.shape[0],1))\n",
    "# print(\"Formula 1 Output:\\n\",sigmoid(formula_1+b))\n",
    "# print(\"Formula 2 Output:\\n\",sigmoid(formula_2+b))\n",
    "\n",
    "# all_close = np.allclose(sigmoid(formula_1+b), sigmoid(formula_2+b))\n",
    "# print(\"Results after activation are the same :\",all_close)\n",
    "### END CODE HERE ###"
   ]
  },
  {
   "cell_type": "code",
   "execution_count": 36,
   "id": "733852f3-46a3-4427-86f5-cf4d47464c95",
   "metadata": {},
   "outputs": [],
   "source": [
    "#Formula 1:  ℎ<𝑡>=𝑔(𝑊ℎ[ℎ<𝑡−1>,𝑥<𝑡>]+𝑏ℎ)\n",
    " \n",
    "\n",
    "#Formula 2:  ℎ<𝑡>=𝑔(𝑊ℎℎℎ<𝑡−1>+𝑊ℎ𝑥𝑥<𝑡>+𝑏ℎ)\n",
    " \n"
   ]
  },
  {
   "cell_type": "code",
   "execution_count": 45,
   "id": "fcbf7839-8e76-4a98-bec6-7820b0a179ad",
   "metadata": {},
   "outputs": [],
   "source": [
    "#########Forward method\n",
    "def sigmoid(x): # Sigmoid function\n",
    "    return 1.0 / (1.0 + np.exp(-x))"
   ]
  },
  {
   "cell_type": "code",
   "execution_count": 46,
   "id": "0f531ac0-3980-4a78-ab6e-b0735362199a",
   "metadata": {},
   "outputs": [],
   "source": [
    "random.seed(10)                 # Random seed, so your results match ours\n",
    "emb = 128                       # Embedding size\n",
    "T = 256                         # Length of sequence\n",
    "h_dim = 16                      # Hidden state dimension\n",
    "h_0 = np.zeros((h_dim, 1))      # Initial hidden state\n",
    "\n",
    "# Random initialization of weights (w1, w2, w3) and biases (b1, b2, b3)\n",
    "w1 = random.standard_normal((h_dim, emb + h_dim))\n",
    "w2 = random.standard_normal((h_dim, emb + h_dim))\n",
    "w3 = random.standard_normal((h_dim, emb + h_dim))\n",
    "b1 = random.standard_normal((h_dim, 1))\n",
    "b2 = random.standard_normal((h_dim, 1))\n",
    "b3 = random.standard_normal((h_dim, 1))\n",
    "# Random initialization of input X\n",
    "# Note that you add the third dimension (1) to achieve the batch representation.\n",
    "X = random.standard_normal((T, emb, 1))\n",
    "\n",
    "# Define the lists of weights as you will need them for the two different layers\n",
    "weights_vanilla = [w1, b1]\n",
    "weights_GRU = [w1.copy(), w2, w3, b1.copy(), b2, b3]"
   ]
  },
  {
   "cell_type": "code",
   "execution_count": 47,
   "id": "253ce556-a579-4c38-8071-9e984665a861",
   "metadata": {},
   "outputs": [],
   "source": [
    "# forward method for vanilla RNN\n",
    "def forward_V_RNN(inputs, weights): # Forward propagation for a a single vanilla RNN cell\n",
    "    x, h_t = inputs\n",
    "\n",
    "    # weights.\n",
    "    wh, bh = weights\n",
    "\n",
    "    # new hidden state\n",
    "    h_t = np.dot(wh, np.concatenate([h_t, x])) + bh\n",
    "    h_t = sigmoid(h_t)\n",
    "    \n",
    "    # We avoid implementation of y for clarity\n",
    "    y = h_t\n",
    "    \n",
    "    return y, h_t"
   ]
  },
  {
   "cell_type": "code",
   "execution_count": 48,
   "id": "6beb29a3-3bd0-40e3-a8ee-b4b02c6ada9f",
   "metadata": {},
   "outputs": [],
   "source": [
    "# forward method for GRUs\n",
    "def forward_GRU(inputs, weights): # Forward propagation for a single GRU cell\n",
    "    x, h_t = inputs\n",
    "\n",
    "    # weights.\n",
    "    wu, wr, wc, bu, br, bc = weights\n",
    "\n",
    "    # Update gate\n",
    "    u = np.dot(wu, np.concatenate([h_t, x])) + bu\n",
    "    u = sigmoid(u)\n",
    "    \n",
    "    # Relevance gate\n",
    "    r = np.dot(wr, np.concatenate([h_t, x])) + br\n",
    "    r = sigmoid(r)\n",
    "    \n",
    "    # Candidate hidden state \n",
    "    c = np.dot(wc, np.concatenate([r * h_t, x])) + bc\n",
    "    c = np.tanh(c)\n",
    "    \n",
    "    # New Hidden state h_t\n",
    "    h_t = u * c + (1 - u) * h_t\n",
    "    \n",
    "    # We avoid implementation of y for clarity\n",
    "    y = h_t\n",
    "    \n",
    "    return y, h_t"
   ]
  },
  {
   "cell_type": "code",
   "execution_count": 49,
   "id": "d9f390ca-5299-4ec1-b8d1-a32667c978d7",
   "metadata": {},
   "outputs": [
    {
     "data": {
      "text/plain": [
       "array([[ 9.77779014e-01],\n",
       "       [-9.97986240e-01],\n",
       "       [-5.19958083e-01],\n",
       "       [-9.99999886e-01],\n",
       "       [-9.99707004e-01],\n",
       "       [-3.02197037e-04],\n",
       "       [-9.58733503e-01],\n",
       "       [ 2.10804828e-02],\n",
       "       [ 9.77365398e-05],\n",
       "       [ 9.99833090e-01],\n",
       "       [ 1.63200940e-08],\n",
       "       [ 8.51874303e-01],\n",
       "       [ 5.21399924e-02],\n",
       "       [ 2.15495959e-02],\n",
       "       [ 9.99878828e-01],\n",
       "       [ 9.77165472e-01]])"
      ]
     },
     "execution_count": 49,
     "metadata": {},
     "output_type": "execute_result"
    }
   ],
   "source": [
    "forward_GRU([X[1], h_0], weights_GRU)[0]"
   ]
  },
  {
   "cell_type": "code",
   "execution_count": null,
   "id": "8747ee82-7067-4f3d-902f-0973564ff9c3",
   "metadata": {},
   "outputs": [],
   "source": [
    "#scan function, allow to use GPUs and compute in parallel "
   ]
  },
  {
   "cell_type": "code",
   "execution_count": 50,
   "id": "176990bc-36fb-4a61-b506-9b25ba83bd2d",
   "metadata": {},
   "outputs": [],
   "source": [
    "def scan(fn, elems, weights, h_0): # Forward propagation for RNNs\n",
    "    h_t = h_0\n",
    "    ys = []\n",
    "    \n",
    "    for x in elems:\n",
    "        y, h_t = fn([x, h_t], weights)\n",
    "        ys.append(y)\n",
    "        \n",
    "    return ys, h_t"
   ]
  },
  {
   "cell_type": "code",
   "execution_count": 51,
   "id": "605776f9-bd59-4ff6-928e-f72df76a2a0d",
   "metadata": {},
   "outputs": [
    {
     "name": "stdout",
     "output_type": "stream",
     "text": [
      "Length of ys: 256\n",
      "Shape of each y within ys: (16, 1)\n",
      "Shape of h_T: (16, 1)\n"
     ]
    }
   ],
   "source": [
    "ys, h_T = scan(forward_V_RNN, X, weights_vanilla, h_0)\n",
    "\n",
    "print(f\"Length of ys: {len(ys)}\")\n",
    "print(f\"Shape of each y within ys: {ys[0].shape}\")\n",
    "print(f\"Shape of h_T: {h_T.shape}\")"
   ]
  },
  {
   "cell_type": "code",
   "execution_count": null,
   "id": "3a5a0641-81e6-426e-8b32-9da4a05817c7",
   "metadata": {},
   "outputs": [],
   "source": [
    "#Comparison between vanilla RNNs and GRUs\n",
    "#small training set"
   ]
  },
  {
   "cell_type": "code",
   "execution_count": 58,
   "id": "ffa39c31-655b-44f9-9cb2-f74b800da658",
   "metadata": {},
   "outputs": [
    {
     "name": "stdout",
     "output_type": "stream",
     "text": [
      "It took 7.53ms to run the forward method for the vanilla RNN.\n"
     ]
    }
   ],
   "source": [
    "# vanilla RNNs\n",
    "tic = perf_counter()\n",
    "ys, h_T = scan(forward_V_RNN, X, weights_vanilla, h_0)\n",
    "toc = perf_counter()\n",
    "RNN_time=(toc-tic)*1000\n",
    "print (f\"It took {RNN_time:.2f}ms to run the forward method for the vanilla RNN.\")"
   ]
  },
  {
   "cell_type": "code",
   "execution_count": 57,
   "id": "3efdd081-f08f-46e9-a434-28f1a641f929",
   "metadata": {},
   "outputs": [
    {
     "name": "stdout",
     "output_type": "stream",
     "text": [
      "It took 10.22ms to run the forward method for the GRU.\n"
     ]
    }
   ],
   "source": [
    "# GRUs\n",
    "tic = perf_counter()\n",
    "ys, h_T = scan(forward_GRU, X, weights_GRU, h_0)\n",
    "toc = perf_counter()\n",
    "GRU_time=(toc-tic)*1000\n",
    "print (f\"It took {GRU_time:.2f}ms to run the forward method for the GRU.\")"
   ]
  },
  {
   "cell_type": "code",
   "execution_count": null,
   "id": "6fa422ca-c59c-4930-aefc-c62fade7528c",
   "metadata": {},
   "outputs": [],
   "source": [
    "#GRUs take more time to compute"
   ]
  },
  {
   "cell_type": "code",
   "execution_count": null,
   "id": "2c3a6ad9-8a31-449b-8e9d-6414e1fd4808",
   "metadata": {},
   "outputs": [],
   "source": [
    "#create a GRU model in tensorflow"
   ]
  },
  {
   "cell_type": "code",
   "execution_count": 59,
   "id": "1c9c2737-1ccd-4b35-a0b8-2ae03caadd4e",
   "metadata": {},
   "outputs": [],
   "source": [
    "model_GRU = tf.keras.Sequential([\n",
    "    tf.keras.layers.GRU(256, return_sequences=True, name='GRU_1_returns_seq'),\n",
    "    tf.keras.layers.GRU(128, return_sequences=True, name='GRU_2_returns_seq'),\n",
    "    tf.keras.layers.GRU(64, name='GRU_3_returns_last_only'),\n",
    "    tf.keras.layers.Dense(10)\n",
    "])"
   ]
  },
  {
   "cell_type": "code",
   "execution_count": 60,
   "id": "746ae7ed-fec1-44f7-ba65-3e641fd87729",
   "metadata": {},
   "outputs": [
    {
     "data": {
      "text/html": [
       "<pre style=\"white-space:pre;overflow-x:auto;line-height:normal;font-family:Menlo,'DejaVu Sans Mono',consolas,'Courier New',monospace\"><span style=\"font-weight: bold\">Model: \"sequential_2\"</span>\n",
       "</pre>\n"
      ],
      "text/plain": [
       "\u001b[1mModel: \"sequential_2\"\u001b[0m\n"
      ]
     },
     "metadata": {},
     "output_type": "display_data"
    },
    {
     "data": {
      "text/html": [
       "<pre style=\"white-space:pre;overflow-x:auto;line-height:normal;font-family:Menlo,'DejaVu Sans Mono',consolas,'Courier New',monospace\">┏━━━━━━━━━━━━━━━━━━━━━━━━━━━━━━━━━┳━━━━━━━━━━━━━━━━━━━━━━━━┳━━━━━━━━━━━━━━━┓\n",
       "┃<span style=\"font-weight: bold\"> Layer (type)                    </span>┃<span style=\"font-weight: bold\"> Output Shape           </span>┃<span style=\"font-weight: bold\">       Param # </span>┃\n",
       "┡━━━━━━━━━━━━━━━━━━━━━━━━━━━━━━━━━╇━━━━━━━━━━━━━━━━━━━━━━━━╇━━━━━━━━━━━━━━━┩\n",
       "│ GRU_1_returns_seq (<span style=\"color: #0087ff; text-decoration-color: #0087ff\">GRU</span>)         │ ?                      │   <span style=\"color: #00af00; text-decoration-color: #00af00\">0</span> (unbuilt) │\n",
       "├─────────────────────────────────┼────────────────────────┼───────────────┤\n",
       "│ GRU_2_returns_seq (<span style=\"color: #0087ff; text-decoration-color: #0087ff\">GRU</span>)         │ ?                      │   <span style=\"color: #00af00; text-decoration-color: #00af00\">0</span> (unbuilt) │\n",
       "├─────────────────────────────────┼────────────────────────┼───────────────┤\n",
       "│ GRU_3_returns_last_only (<span style=\"color: #0087ff; text-decoration-color: #0087ff\">GRU</span>)   │ ?                      │   <span style=\"color: #00af00; text-decoration-color: #00af00\">0</span> (unbuilt) │\n",
       "├─────────────────────────────────┼────────────────────────┼───────────────┤\n",
       "│ dense_2 (<span style=\"color: #0087ff; text-decoration-color: #0087ff\">Dense</span>)                 │ ?                      │   <span style=\"color: #00af00; text-decoration-color: #00af00\">0</span> (unbuilt) │\n",
       "└─────────────────────────────────┴────────────────────────┴───────────────┘\n",
       "</pre>\n"
      ],
      "text/plain": [
       "┏━━━━━━━━━━━━━━━━━━━━━━━━━━━━━━━━━┳━━━━━━━━━━━━━━━━━━━━━━━━┳━━━━━━━━━━━━━━━┓\n",
       "┃\u001b[1m \u001b[0m\u001b[1mLayer (type)                   \u001b[0m\u001b[1m \u001b[0m┃\u001b[1m \u001b[0m\u001b[1mOutput Shape          \u001b[0m\u001b[1m \u001b[0m┃\u001b[1m \u001b[0m\u001b[1m      Param #\u001b[0m\u001b[1m \u001b[0m┃\n",
       "┡━━━━━━━━━━━━━━━━━━━━━━━━━━━━━━━━━╇━━━━━━━━━━━━━━━━━━━━━━━━╇━━━━━━━━━━━━━━━┩\n",
       "│ GRU_1_returns_seq (\u001b[38;5;33mGRU\u001b[0m)         │ ?                      │   \u001b[38;5;34m0\u001b[0m (unbuilt) │\n",
       "├─────────────────────────────────┼────────────────────────┼───────────────┤\n",
       "│ GRU_2_returns_seq (\u001b[38;5;33mGRU\u001b[0m)         │ ?                      │   \u001b[38;5;34m0\u001b[0m (unbuilt) │\n",
       "├─────────────────────────────────┼────────────────────────┼───────────────┤\n",
       "│ GRU_3_returns_last_only (\u001b[38;5;33mGRU\u001b[0m)   │ ?                      │   \u001b[38;5;34m0\u001b[0m (unbuilt) │\n",
       "├─────────────────────────────────┼────────────────────────┼───────────────┤\n",
       "│ dense_2 (\u001b[38;5;33mDense\u001b[0m)                 │ ?                      │   \u001b[38;5;34m0\u001b[0m (unbuilt) │\n",
       "└─────────────────────────────────┴────────────────────────┴───────────────┘\n"
      ]
     },
     "metadata": {},
     "output_type": "display_data"
    },
    {
     "data": {
      "text/html": [
       "<pre style=\"white-space:pre;overflow-x:auto;line-height:normal;font-family:Menlo,'DejaVu Sans Mono',consolas,'Courier New',monospace\"><span style=\"font-weight: bold\"> Total params: </span><span style=\"color: #00af00; text-decoration-color: #00af00\">0</span> (0.00 B)\n",
       "</pre>\n"
      ],
      "text/plain": [
       "\u001b[1m Total params: \u001b[0m\u001b[38;5;34m0\u001b[0m (0.00 B)\n"
      ]
     },
     "metadata": {},
     "output_type": "display_data"
    },
    {
     "data": {
      "text/html": [
       "<pre style=\"white-space:pre;overflow-x:auto;line-height:normal;font-family:Menlo,'DejaVu Sans Mono',consolas,'Courier New',monospace\"><span style=\"font-weight: bold\"> Trainable params: </span><span style=\"color: #00af00; text-decoration-color: #00af00\">0</span> (0.00 B)\n",
       "</pre>\n"
      ],
      "text/plain": [
       "\u001b[1m Trainable params: \u001b[0m\u001b[38;5;34m0\u001b[0m (0.00 B)\n"
      ]
     },
     "metadata": {},
     "output_type": "display_data"
    },
    {
     "data": {
      "text/html": [
       "<pre style=\"white-space:pre;overflow-x:auto;line-height:normal;font-family:Menlo,'DejaVu Sans Mono',consolas,'Courier New',monospace\"><span style=\"font-weight: bold\"> Non-trainable params: </span><span style=\"color: #00af00; text-decoration-color: #00af00\">0</span> (0.00 B)\n",
       "</pre>\n"
      ],
      "text/plain": [
       "\u001b[1m Non-trainable params: \u001b[0m\u001b[38;5;34m0\u001b[0m (0.00 B)\n"
      ]
     },
     "metadata": {},
     "output_type": "display_data"
    }
   ],
   "source": [
    "# This line should fail\n",
    "try:\n",
    "    model_GRU.summary()\n",
    "except Exception as e:\n",
    "    print(e)"
   ]
  },
  {
   "cell_type": "code",
   "execution_count": 61,
   "id": "0c2c4f44-4f20-43d0-8b0a-4ea30028b558",
   "metadata": {},
   "outputs": [
    {
     "data": {
      "text/html": [
       "<pre style=\"white-space:pre;overflow-x:auto;line-height:normal;font-family:Menlo,'DejaVu Sans Mono',consolas,'Courier New',monospace\"><span style=\"font-weight: bold\">Model: \"sequential_2\"</span>\n",
       "</pre>\n"
      ],
      "text/plain": [
       "\u001b[1mModel: \"sequential_2\"\u001b[0m\n"
      ]
     },
     "metadata": {},
     "output_type": "display_data"
    },
    {
     "data": {
      "text/html": [
       "<pre style=\"white-space:pre;overflow-x:auto;line-height:normal;font-family:Menlo,'DejaVu Sans Mono',consolas,'Courier New',monospace\">┏━━━━━━━━━━━━━━━━━━━━━━━━━━━━━━━━━┳━━━━━━━━━━━━━━━━━━━━━━━━┳━━━━━━━━━━━━━━━┓\n",
       "┃<span style=\"font-weight: bold\"> Layer (type)                    </span>┃<span style=\"font-weight: bold\"> Output Shape           </span>┃<span style=\"font-weight: bold\">       Param # </span>┃\n",
       "┡━━━━━━━━━━━━━━━━━━━━━━━━━━━━━━━━━╇━━━━━━━━━━━━━━━━━━━━━━━━╇━━━━━━━━━━━━━━━┩\n",
       "│ GRU_1_returns_seq (<span style=\"color: #0087ff; text-decoration-color: #0087ff\">GRU</span>)         │ (<span style=\"color: #00af00; text-decoration-color: #00af00\">60</span>, <span style=\"color: #00af00; text-decoration-color: #00af00\">50</span>, <span style=\"color: #00af00; text-decoration-color: #00af00\">256</span>)          │       <span style=\"color: #00af00; text-decoration-color: #00af00\">228,864</span> │\n",
       "├─────────────────────────────────┼────────────────────────┼───────────────┤\n",
       "│ GRU_2_returns_seq (<span style=\"color: #0087ff; text-decoration-color: #0087ff\">GRU</span>)         │ (<span style=\"color: #00af00; text-decoration-color: #00af00\">60</span>, <span style=\"color: #00af00; text-decoration-color: #00af00\">50</span>, <span style=\"color: #00af00; text-decoration-color: #00af00\">128</span>)          │       <span style=\"color: #00af00; text-decoration-color: #00af00\">148,224</span> │\n",
       "├─────────────────────────────────┼────────────────────────┼───────────────┤\n",
       "│ GRU_3_returns_last_only (<span style=\"color: #0087ff; text-decoration-color: #0087ff\">GRU</span>)   │ (<span style=\"color: #00af00; text-decoration-color: #00af00\">60</span>, <span style=\"color: #00af00; text-decoration-color: #00af00\">64</span>)               │        <span style=\"color: #00af00; text-decoration-color: #00af00\">37,248</span> │\n",
       "├─────────────────────────────────┼────────────────────────┼───────────────┤\n",
       "│ dense_2 (<span style=\"color: #0087ff; text-decoration-color: #0087ff\">Dense</span>)                 │ (<span style=\"color: #00af00; text-decoration-color: #00af00\">60</span>, <span style=\"color: #00af00; text-decoration-color: #00af00\">10</span>)               │           <span style=\"color: #00af00; text-decoration-color: #00af00\">650</span> │\n",
       "└─────────────────────────────────┴────────────────────────┴───────────────┘\n",
       "</pre>\n"
      ],
      "text/plain": [
       "┏━━━━━━━━━━━━━━━━━━━━━━━━━━━━━━━━━┳━━━━━━━━━━━━━━━━━━━━━━━━┳━━━━━━━━━━━━━━━┓\n",
       "┃\u001b[1m \u001b[0m\u001b[1mLayer (type)                   \u001b[0m\u001b[1m \u001b[0m┃\u001b[1m \u001b[0m\u001b[1mOutput Shape          \u001b[0m\u001b[1m \u001b[0m┃\u001b[1m \u001b[0m\u001b[1m      Param #\u001b[0m\u001b[1m \u001b[0m┃\n",
       "┡━━━━━━━━━━━━━━━━━━━━━━━━━━━━━━━━━╇━━━━━━━━━━━━━━━━━━━━━━━━╇━━━━━━━━━━━━━━━┩\n",
       "│ GRU_1_returns_seq (\u001b[38;5;33mGRU\u001b[0m)         │ (\u001b[38;5;34m60\u001b[0m, \u001b[38;5;34m50\u001b[0m, \u001b[38;5;34m256\u001b[0m)          │       \u001b[38;5;34m228,864\u001b[0m │\n",
       "├─────────────────────────────────┼────────────────────────┼───────────────┤\n",
       "│ GRU_2_returns_seq (\u001b[38;5;33mGRU\u001b[0m)         │ (\u001b[38;5;34m60\u001b[0m, \u001b[38;5;34m50\u001b[0m, \u001b[38;5;34m128\u001b[0m)          │       \u001b[38;5;34m148,224\u001b[0m │\n",
       "├─────────────────────────────────┼────────────────────────┼───────────────┤\n",
       "│ GRU_3_returns_last_only (\u001b[38;5;33mGRU\u001b[0m)   │ (\u001b[38;5;34m60\u001b[0m, \u001b[38;5;34m64\u001b[0m)               │        \u001b[38;5;34m37,248\u001b[0m │\n",
       "├─────────────────────────────────┼────────────────────────┼───────────────┤\n",
       "│ dense_2 (\u001b[38;5;33mDense\u001b[0m)                 │ (\u001b[38;5;34m60\u001b[0m, \u001b[38;5;34m10\u001b[0m)               │           \u001b[38;5;34m650\u001b[0m │\n",
       "└─────────────────────────────────┴────────────────────────┴───────────────┘\n"
      ]
     },
     "metadata": {},
     "output_type": "display_data"
    },
    {
     "data": {
      "text/html": [
       "<pre style=\"white-space:pre;overflow-x:auto;line-height:normal;font-family:Menlo,'DejaVu Sans Mono',consolas,'Courier New',monospace\"><span style=\"font-weight: bold\"> Total params: </span><span style=\"color: #00af00; text-decoration-color: #00af00\">414,986</span> (1.58 MB)\n",
       "</pre>\n"
      ],
      "text/plain": [
       "\u001b[1m Total params: \u001b[0m\u001b[38;5;34m414,986\u001b[0m (1.58 MB)\n"
      ]
     },
     "metadata": {},
     "output_type": "display_data"
    },
    {
     "data": {
      "text/html": [
       "<pre style=\"white-space:pre;overflow-x:auto;line-height:normal;font-family:Menlo,'DejaVu Sans Mono',consolas,'Courier New',monospace\"><span style=\"font-weight: bold\"> Trainable params: </span><span style=\"color: #00af00; text-decoration-color: #00af00\">414,986</span> (1.58 MB)\n",
       "</pre>\n"
      ],
      "text/plain": [
       "\u001b[1m Trainable params: \u001b[0m\u001b[38;5;34m414,986\u001b[0m (1.58 MB)\n"
      ]
     },
     "metadata": {},
     "output_type": "display_data"
    },
    {
     "data": {
      "text/html": [
       "<pre style=\"white-space:pre;overflow-x:auto;line-height:normal;font-family:Menlo,'DejaVu Sans Mono',consolas,'Courier New',monospace\"><span style=\"font-weight: bold\"> Non-trainable params: </span><span style=\"color: #00af00; text-decoration-color: #00af00\">0</span> (0.00 B)\n",
       "</pre>\n"
      ],
      "text/plain": [
       "\u001b[1m Non-trainable params: \u001b[0m\u001b[38;5;34m0\u001b[0m (0.00 B)\n"
      ]
     },
     "metadata": {},
     "output_type": "display_data"
    }
   ],
   "source": [
    "# Remember these three numbers and follow them further through the notebook\n",
    "batch_size = 60\n",
    "sequence_length = 50\n",
    "word_vector_length = 40\n",
    "\n",
    "input_data = tf.random.normal([batch_size, sequence_length, word_vector_length])\n",
    "\n",
    "# Pass the data through the network\n",
    "prediction = model_GRU(input_data)\n",
    "\n",
    "# Show the summary of the model\n",
    "model_GRU.summary()"
   ]
  },
  {
   "cell_type": "code",
   "execution_count": 64,
   "id": "71940e28-1bf2-4919-989e-664434022499",
   "metadata": {},
   "outputs": [
    {
     "name": "stdout",
     "output_type": "stream",
     "text": [
      "Exception encountered when calling GRUCell.call().\n",
      "\n",
      "\u001b[1m{{function_node __wrapped__MatMul_device_/job:localhost/replica:0/task:0/device:CPU:0}} Matrix size-incompatible: In[0]: [60,44], In[1]: [40,768] [Op:MatMul] name: \u001b[0m\n",
      "\n",
      "Arguments received by GRUCell.call():\n",
      "  • inputs=tf.Tensor(shape=(60, 44), dtype=float32)\n",
      "  • states=('tf.Tensor(shape=(60, 256), dtype=float32)',)\n",
      "  • training=False\n"
     ]
    }
   ],
   "source": [
    "# Define some data with a different length of word vectors\n",
    "#fail because Remember how the layers are constructed: they know what length of vectors to expect \n",
    "#and they have their weight matrices defined to accommodate for it. However if you change the length of the word vector,\n",
    "#it cannot be multiplied by an incompatible matrix \n",
    "new_word_vector_length = 44  # Before it was 40\n",
    "# Keep the batch_size = 60 and sequence_length = 50 as originally\n",
    "input_data_1 = tf.random.normal([batch_size, sequence_length, new_word_vector_length])\n",
    "\n",
    "# Pass the data through the network. This should Fail (if you ran all the cells above)\n",
    "try:\n",
    "    prediction = model_GRU(input_data_1)\n",
    "except Exception as e:\n",
    "    print(e)"
   ]
  },
  {
   "cell_type": "code",
   "execution_count": 65,
   "id": "24c4a6ed-0941-48b0-a33a-14989354a6a2",
   "metadata": {},
   "outputs": [
    {
     "data": {
      "text/html": [
       "<pre style=\"white-space:pre;overflow-x:auto;line-height:normal;font-family:Menlo,'DejaVu Sans Mono',consolas,'Courier New',monospace\"><span style=\"font-weight: bold\">Model: \"sequential_2\"</span>\n",
       "</pre>\n"
      ],
      "text/plain": [
       "\u001b[1mModel: \"sequential_2\"\u001b[0m\n"
      ]
     },
     "metadata": {},
     "output_type": "display_data"
    },
    {
     "data": {
      "text/html": [
       "<pre style=\"white-space:pre;overflow-x:auto;line-height:normal;font-family:Menlo,'DejaVu Sans Mono',consolas,'Courier New',monospace\">┏━━━━━━━━━━━━━━━━━━━━━━━━━━━━━━━━━┳━━━━━━━━━━━━━━━━━━━━━━━━┳━━━━━━━━━━━━━━━┓\n",
       "┃<span style=\"font-weight: bold\"> Layer (type)                    </span>┃<span style=\"font-weight: bold\"> Output Shape           </span>┃<span style=\"font-weight: bold\">       Param # </span>┃\n",
       "┡━━━━━━━━━━━━━━━━━━━━━━━━━━━━━━━━━╇━━━━━━━━━━━━━━━━━━━━━━━━╇━━━━━━━━━━━━━━━┩\n",
       "│ GRU_1_returns_seq (<span style=\"color: #0087ff; text-decoration-color: #0087ff\">GRU</span>)         │ (<span style=\"color: #00af00; text-decoration-color: #00af00\">60</span>, <span style=\"color: #00af00; text-decoration-color: #00af00\">50</span>, <span style=\"color: #00af00; text-decoration-color: #00af00\">256</span>)          │       <span style=\"color: #00af00; text-decoration-color: #00af00\">228,864</span> │\n",
       "├─────────────────────────────────┼────────────────────────┼───────────────┤\n",
       "│ GRU_2_returns_seq (<span style=\"color: #0087ff; text-decoration-color: #0087ff\">GRU</span>)         │ (<span style=\"color: #00af00; text-decoration-color: #00af00\">60</span>, <span style=\"color: #00af00; text-decoration-color: #00af00\">50</span>, <span style=\"color: #00af00; text-decoration-color: #00af00\">128</span>)          │       <span style=\"color: #00af00; text-decoration-color: #00af00\">148,224</span> │\n",
       "├─────────────────────────────────┼────────────────────────┼───────────────┤\n",
       "│ GRU_3_returns_last_only (<span style=\"color: #0087ff; text-decoration-color: #0087ff\">GRU</span>)   │ (<span style=\"color: #00af00; text-decoration-color: #00af00\">60</span>, <span style=\"color: #00af00; text-decoration-color: #00af00\">64</span>)               │        <span style=\"color: #00af00; text-decoration-color: #00af00\">37,248</span> │\n",
       "├─────────────────────────────────┼────────────────────────┼───────────────┤\n",
       "│ dense_2 (<span style=\"color: #0087ff; text-decoration-color: #0087ff\">Dense</span>)                 │ (<span style=\"color: #00af00; text-decoration-color: #00af00\">60</span>, <span style=\"color: #00af00; text-decoration-color: #00af00\">10</span>)               │           <span style=\"color: #00af00; text-decoration-color: #00af00\">650</span> │\n",
       "└─────────────────────────────────┴────────────────────────┴───────────────┘\n",
       "</pre>\n"
      ],
      "text/plain": [
       "┏━━━━━━━━━━━━━━━━━━━━━━━━━━━━━━━━━┳━━━━━━━━━━━━━━━━━━━━━━━━┳━━━━━━━━━━━━━━━┓\n",
       "┃\u001b[1m \u001b[0m\u001b[1mLayer (type)                   \u001b[0m\u001b[1m \u001b[0m┃\u001b[1m \u001b[0m\u001b[1mOutput Shape          \u001b[0m\u001b[1m \u001b[0m┃\u001b[1m \u001b[0m\u001b[1m      Param #\u001b[0m\u001b[1m \u001b[0m┃\n",
       "┡━━━━━━━━━━━━━━━━━━━━━━━━━━━━━━━━━╇━━━━━━━━━━━━━━━━━━━━━━━━╇━━━━━━━━━━━━━━━┩\n",
       "│ GRU_1_returns_seq (\u001b[38;5;33mGRU\u001b[0m)         │ (\u001b[38;5;34m60\u001b[0m, \u001b[38;5;34m50\u001b[0m, \u001b[38;5;34m256\u001b[0m)          │       \u001b[38;5;34m228,864\u001b[0m │\n",
       "├─────────────────────────────────┼────────────────────────┼───────────────┤\n",
       "│ GRU_2_returns_seq (\u001b[38;5;33mGRU\u001b[0m)         │ (\u001b[38;5;34m60\u001b[0m, \u001b[38;5;34m50\u001b[0m, \u001b[38;5;34m128\u001b[0m)          │       \u001b[38;5;34m148,224\u001b[0m │\n",
       "├─────────────────────────────────┼────────────────────────┼───────────────┤\n",
       "│ GRU_3_returns_last_only (\u001b[38;5;33mGRU\u001b[0m)   │ (\u001b[38;5;34m60\u001b[0m, \u001b[38;5;34m64\u001b[0m)               │        \u001b[38;5;34m37,248\u001b[0m │\n",
       "├─────────────────────────────────┼────────────────────────┼───────────────┤\n",
       "│ dense_2 (\u001b[38;5;33mDense\u001b[0m)                 │ (\u001b[38;5;34m60\u001b[0m, \u001b[38;5;34m10\u001b[0m)               │           \u001b[38;5;34m650\u001b[0m │\n",
       "└─────────────────────────────────┴────────────────────────┴───────────────┘\n"
      ]
     },
     "metadata": {},
     "output_type": "display_data"
    },
    {
     "data": {
      "text/html": [
       "<pre style=\"white-space:pre;overflow-x:auto;line-height:normal;font-family:Menlo,'DejaVu Sans Mono',consolas,'Courier New',monospace\"><span style=\"font-weight: bold\"> Total params: </span><span style=\"color: #00af00; text-decoration-color: #00af00\">414,986</span> (1.58 MB)\n",
       "</pre>\n"
      ],
      "text/plain": [
       "\u001b[1m Total params: \u001b[0m\u001b[38;5;34m414,986\u001b[0m (1.58 MB)\n"
      ]
     },
     "metadata": {},
     "output_type": "display_data"
    },
    {
     "data": {
      "text/html": [
       "<pre style=\"white-space:pre;overflow-x:auto;line-height:normal;font-family:Menlo,'DejaVu Sans Mono',consolas,'Courier New',monospace\"><span style=\"font-weight: bold\"> Trainable params: </span><span style=\"color: #00af00; text-decoration-color: #00af00\">414,986</span> (1.58 MB)\n",
       "</pre>\n"
      ],
      "text/plain": [
       "\u001b[1m Trainable params: \u001b[0m\u001b[38;5;34m414,986\u001b[0m (1.58 MB)\n"
      ]
     },
     "metadata": {},
     "output_type": "display_data"
    },
    {
     "data": {
      "text/html": [
       "<pre style=\"white-space:pre;overflow-x:auto;line-height:normal;font-family:Menlo,'DejaVu Sans Mono',consolas,'Courier New',monospace\"><span style=\"font-weight: bold\"> Non-trainable params: </span><span style=\"color: #00af00; text-decoration-color: #00af00\">0</span> (0.00 B)\n",
       "</pre>\n"
      ],
      "text/plain": [
       "\u001b[1m Non-trainable params: \u001b[0m\u001b[38;5;34m0\u001b[0m (0.00 B)\n"
      ]
     },
     "metadata": {},
     "output_type": "display_data"
    }
   ],
   "source": [
    "#the neural network does not have any specific parameters (weights) associated with the length of the sequence\n",
    "# Define some data with a different length of the sequence\n",
    "new_sequence_length = 55  # Before it was 50\n",
    "# Keep the batch_size = 60 and word_vector_length = 40 as originally\n",
    "input_data_2 = tf.random.normal([batch_size, new_sequence_length, word_vector_length])\n",
    "\n",
    "# Pass the data through the network. This should Fail (if you ran all the cells above)\n",
    "prediction = model_GRU(input_data_2)\n",
    "\n",
    "model_GRU.summary()"
   ]
  },
  {
   "cell_type": "code",
   "execution_count": null,
   "id": "a4a1675d-b1d4-4b7f-91d7-5aca3e7973e6",
   "metadata": {},
   "outputs": [],
   "source": [
    "##How about batch_size, it's also flexible"
   ]
  },
  {
   "cell_type": "code",
   "execution_count": 66,
   "id": "6ad4fa96-72e9-444b-adad-b55199a1ff3b",
   "metadata": {},
   "outputs": [
    {
     "data": {
      "text/html": [
       "<pre style=\"white-space:pre;overflow-x:auto;line-height:normal;font-family:Menlo,'DejaVu Sans Mono',consolas,'Courier New',monospace\"><span style=\"font-weight: bold\">Model: \"sequential_2\"</span>\n",
       "</pre>\n"
      ],
      "text/plain": [
       "\u001b[1mModel: \"sequential_2\"\u001b[0m\n"
      ]
     },
     "metadata": {},
     "output_type": "display_data"
    },
    {
     "data": {
      "text/html": [
       "<pre style=\"white-space:pre;overflow-x:auto;line-height:normal;font-family:Menlo,'DejaVu Sans Mono',consolas,'Courier New',monospace\">┏━━━━━━━━━━━━━━━━━━━━━━━━━━━━━━━━━┳━━━━━━━━━━━━━━━━━━━━━━━━┳━━━━━━━━━━━━━━━┓\n",
       "┃<span style=\"font-weight: bold\"> Layer (type)                    </span>┃<span style=\"font-weight: bold\"> Output Shape           </span>┃<span style=\"font-weight: bold\">       Param # </span>┃\n",
       "┡━━━━━━━━━━━━━━━━━━━━━━━━━━━━━━━━━╇━━━━━━━━━━━━━━━━━━━━━━━━╇━━━━━━━━━━━━━━━┩\n",
       "│ GRU_1_returns_seq (<span style=\"color: #0087ff; text-decoration-color: #0087ff\">GRU</span>)         │ (<span style=\"color: #00af00; text-decoration-color: #00af00\">60</span>, <span style=\"color: #00af00; text-decoration-color: #00af00\">50</span>, <span style=\"color: #00af00; text-decoration-color: #00af00\">256</span>)          │       <span style=\"color: #00af00; text-decoration-color: #00af00\">228,864</span> │\n",
       "├─────────────────────────────────┼────────────────────────┼───────────────┤\n",
       "│ GRU_2_returns_seq (<span style=\"color: #0087ff; text-decoration-color: #0087ff\">GRU</span>)         │ (<span style=\"color: #00af00; text-decoration-color: #00af00\">60</span>, <span style=\"color: #00af00; text-decoration-color: #00af00\">50</span>, <span style=\"color: #00af00; text-decoration-color: #00af00\">128</span>)          │       <span style=\"color: #00af00; text-decoration-color: #00af00\">148,224</span> │\n",
       "├─────────────────────────────────┼────────────────────────┼───────────────┤\n",
       "│ GRU_3_returns_last_only (<span style=\"color: #0087ff; text-decoration-color: #0087ff\">GRU</span>)   │ (<span style=\"color: #00af00; text-decoration-color: #00af00\">60</span>, <span style=\"color: #00af00; text-decoration-color: #00af00\">64</span>)               │        <span style=\"color: #00af00; text-decoration-color: #00af00\">37,248</span> │\n",
       "├─────────────────────────────────┼────────────────────────┼───────────────┤\n",
       "│ dense_2 (<span style=\"color: #0087ff; text-decoration-color: #0087ff\">Dense</span>)                 │ (<span style=\"color: #00af00; text-decoration-color: #00af00\">60</span>, <span style=\"color: #00af00; text-decoration-color: #00af00\">10</span>)               │           <span style=\"color: #00af00; text-decoration-color: #00af00\">650</span> │\n",
       "└─────────────────────────────────┴────────────────────────┴───────────────┘\n",
       "</pre>\n"
      ],
      "text/plain": [
       "┏━━━━━━━━━━━━━━━━━━━━━━━━━━━━━━━━━┳━━━━━━━━━━━━━━━━━━━━━━━━┳━━━━━━━━━━━━━━━┓\n",
       "┃\u001b[1m \u001b[0m\u001b[1mLayer (type)                   \u001b[0m\u001b[1m \u001b[0m┃\u001b[1m \u001b[0m\u001b[1mOutput Shape          \u001b[0m\u001b[1m \u001b[0m┃\u001b[1m \u001b[0m\u001b[1m      Param #\u001b[0m\u001b[1m \u001b[0m┃\n",
       "┡━━━━━━━━━━━━━━━━━━━━━━━━━━━━━━━━━╇━━━━━━━━━━━━━━━━━━━━━━━━╇━━━━━━━━━━━━━━━┩\n",
       "│ GRU_1_returns_seq (\u001b[38;5;33mGRU\u001b[0m)         │ (\u001b[38;5;34m60\u001b[0m, \u001b[38;5;34m50\u001b[0m, \u001b[38;5;34m256\u001b[0m)          │       \u001b[38;5;34m228,864\u001b[0m │\n",
       "├─────────────────────────────────┼────────────────────────┼───────────────┤\n",
       "│ GRU_2_returns_seq (\u001b[38;5;33mGRU\u001b[0m)         │ (\u001b[38;5;34m60\u001b[0m, \u001b[38;5;34m50\u001b[0m, \u001b[38;5;34m128\u001b[0m)          │       \u001b[38;5;34m148,224\u001b[0m │\n",
       "├─────────────────────────────────┼────────────────────────┼───────────────┤\n",
       "│ GRU_3_returns_last_only (\u001b[38;5;33mGRU\u001b[0m)   │ (\u001b[38;5;34m60\u001b[0m, \u001b[38;5;34m64\u001b[0m)               │        \u001b[38;5;34m37,248\u001b[0m │\n",
       "├─────────────────────────────────┼────────────────────────┼───────────────┤\n",
       "│ dense_2 (\u001b[38;5;33mDense\u001b[0m)                 │ (\u001b[38;5;34m60\u001b[0m, \u001b[38;5;34m10\u001b[0m)               │           \u001b[38;5;34m650\u001b[0m │\n",
       "└─────────────────────────────────┴────────────────────────┴───────────────┘\n"
      ]
     },
     "metadata": {},
     "output_type": "display_data"
    },
    {
     "data": {
      "text/html": [
       "<pre style=\"white-space:pre;overflow-x:auto;line-height:normal;font-family:Menlo,'DejaVu Sans Mono',consolas,'Courier New',monospace\"><span style=\"font-weight: bold\"> Total params: </span><span style=\"color: #00af00; text-decoration-color: #00af00\">414,986</span> (1.58 MB)\n",
       "</pre>\n"
      ],
      "text/plain": [
       "\u001b[1m Total params: \u001b[0m\u001b[38;5;34m414,986\u001b[0m (1.58 MB)\n"
      ]
     },
     "metadata": {},
     "output_type": "display_data"
    },
    {
     "data": {
      "text/html": [
       "<pre style=\"white-space:pre;overflow-x:auto;line-height:normal;font-family:Menlo,'DejaVu Sans Mono',consolas,'Courier New',monospace\"><span style=\"font-weight: bold\"> Trainable params: </span><span style=\"color: #00af00; text-decoration-color: #00af00\">414,986</span> (1.58 MB)\n",
       "</pre>\n"
      ],
      "text/plain": [
       "\u001b[1m Trainable params: \u001b[0m\u001b[38;5;34m414,986\u001b[0m (1.58 MB)\n"
      ]
     },
     "metadata": {},
     "output_type": "display_data"
    },
    {
     "data": {
      "text/html": [
       "<pre style=\"white-space:pre;overflow-x:auto;line-height:normal;font-family:Menlo,'DejaVu Sans Mono',consolas,'Courier New',monospace\"><span style=\"font-weight: bold\"> Non-trainable params: </span><span style=\"color: #00af00; text-decoration-color: #00af00\">0</span> (0.00 B)\n",
       "</pre>\n"
      ],
      "text/plain": [
       "\u001b[1m Non-trainable params: \u001b[0m\u001b[38;5;34m0\u001b[0m (0.00 B)\n"
      ]
     },
     "metadata": {},
     "output_type": "display_data"
    }
   ],
   "source": [
    "# Define some data with a different batch size\n",
    "new_batch_size = 66  # Before it was 60\n",
    "# Keep the sequence_length = 50 and word_vector_length = 40 as originally\n",
    "input_data_3 = tf.random.normal([new_batch_size, sequence_length, word_vector_length])\n",
    "\n",
    "# Pass the data through the network. This should Fail (if you ran all the cells above)\n",
    "prediction = model_GRU(input_data_3)\n",
    "\n",
    "model_GRU.summary()"
   ]
  },
  {
   "cell_type": "code",
   "execution_count": null,
   "id": "dc4e3e73-6e71-40ab-9fee-f74260031739",
   "metadata": {},
   "outputs": [],
   "source": [
    "#Alternative: use model.build().\n",
    "\n",
    "#Rather than passing data through the model, you can also specify the size of the data in an array and pass it to model.build(). \n",
    "#This will build the model, taking into account the data shape. You can also pass None, where the data dimension may change."
   ]
  },
  {
   "cell_type": "code",
   "execution_count": 67,
   "id": "1d4a3f04-2b11-45fe-b9cd-e1f1df1d4f2e",
   "metadata": {},
   "outputs": [
    {
     "data": {
      "text/html": [
       "<pre style=\"white-space:pre;overflow-x:auto;line-height:normal;font-family:Menlo,'DejaVu Sans Mono',consolas,'Courier New',monospace\"><span style=\"font-weight: bold\">Model: \"sequential_3\"</span>\n",
       "</pre>\n"
      ],
      "text/plain": [
       "\u001b[1mModel: \"sequential_3\"\u001b[0m\n"
      ]
     },
     "metadata": {},
     "output_type": "display_data"
    },
    {
     "data": {
      "text/html": [
       "<pre style=\"white-space:pre;overflow-x:auto;line-height:normal;font-family:Menlo,'DejaVu Sans Mono',consolas,'Courier New',monospace\">┏━━━━━━━━━━━━━━━━━━━━━━━━━━━━━━━━━┳━━━━━━━━━━━━━━━━━━━━━━━━┳━━━━━━━━━━━━━━━┓\n",
       "┃<span style=\"font-weight: bold\"> Layer (type)                    </span>┃<span style=\"font-weight: bold\"> Output Shape           </span>┃<span style=\"font-weight: bold\">       Param # </span>┃\n",
       "┡━━━━━━━━━━━━━━━━━━━━━━━━━━━━━━━━━╇━━━━━━━━━━━━━━━━━━━━━━━━╇━━━━━━━━━━━━━━━┩\n",
       "│ GRU_1_returns_seq (<span style=\"color: #0087ff; text-decoration-color: #0087ff\">GRU</span>)         │ (<span style=\"color: #00d7ff; text-decoration-color: #00d7ff\">None</span>, <span style=\"color: #00d7ff; text-decoration-color: #00d7ff\">None</span>, <span style=\"color: #00af00; text-decoration-color: #00af00\">256</span>)      │       <span style=\"color: #00af00; text-decoration-color: #00af00\">228,864</span> │\n",
       "├─────────────────────────────────┼────────────────────────┼───────────────┤\n",
       "│ GRU_2_returns_seq (<span style=\"color: #0087ff; text-decoration-color: #0087ff\">GRU</span>)         │ (<span style=\"color: #00d7ff; text-decoration-color: #00d7ff\">None</span>, <span style=\"color: #00d7ff; text-decoration-color: #00d7ff\">None</span>, <span style=\"color: #00af00; text-decoration-color: #00af00\">128</span>)      │       <span style=\"color: #00af00; text-decoration-color: #00af00\">148,224</span> │\n",
       "├─────────────────────────────────┼────────────────────────┼───────────────┤\n",
       "│ GRU_3_returns_last_only (<span style=\"color: #0087ff; text-decoration-color: #0087ff\">GRU</span>)   │ (<span style=\"color: #00d7ff; text-decoration-color: #00d7ff\">None</span>, <span style=\"color: #00af00; text-decoration-color: #00af00\">64</span>)             │        <span style=\"color: #00af00; text-decoration-color: #00af00\">37,248</span> │\n",
       "├─────────────────────────────────┼────────────────────────┼───────────────┤\n",
       "│ dense_3 (<span style=\"color: #0087ff; text-decoration-color: #0087ff\">Dense</span>)                 │ (<span style=\"color: #00d7ff; text-decoration-color: #00d7ff\">None</span>, <span style=\"color: #00af00; text-decoration-color: #00af00\">10</span>)             │           <span style=\"color: #00af00; text-decoration-color: #00af00\">650</span> │\n",
       "└─────────────────────────────────┴────────────────────────┴───────────────┘\n",
       "</pre>\n"
      ],
      "text/plain": [
       "┏━━━━━━━━━━━━━━━━━━━━━━━━━━━━━━━━━┳━━━━━━━━━━━━━━━━━━━━━━━━┳━━━━━━━━━━━━━━━┓\n",
       "┃\u001b[1m \u001b[0m\u001b[1mLayer (type)                   \u001b[0m\u001b[1m \u001b[0m┃\u001b[1m \u001b[0m\u001b[1mOutput Shape          \u001b[0m\u001b[1m \u001b[0m┃\u001b[1m \u001b[0m\u001b[1m      Param #\u001b[0m\u001b[1m \u001b[0m┃\n",
       "┡━━━━━━━━━━━━━━━━━━━━━━━━━━━━━━━━━╇━━━━━━━━━━━━━━━━━━━━━━━━╇━━━━━━━━━━━━━━━┩\n",
       "│ GRU_1_returns_seq (\u001b[38;5;33mGRU\u001b[0m)         │ (\u001b[38;5;45mNone\u001b[0m, \u001b[38;5;45mNone\u001b[0m, \u001b[38;5;34m256\u001b[0m)      │       \u001b[38;5;34m228,864\u001b[0m │\n",
       "├─────────────────────────────────┼────────────────────────┼───────────────┤\n",
       "│ GRU_2_returns_seq (\u001b[38;5;33mGRU\u001b[0m)         │ (\u001b[38;5;45mNone\u001b[0m, \u001b[38;5;45mNone\u001b[0m, \u001b[38;5;34m128\u001b[0m)      │       \u001b[38;5;34m148,224\u001b[0m │\n",
       "├─────────────────────────────────┼────────────────────────┼───────────────┤\n",
       "│ GRU_3_returns_last_only (\u001b[38;5;33mGRU\u001b[0m)   │ (\u001b[38;5;45mNone\u001b[0m, \u001b[38;5;34m64\u001b[0m)             │        \u001b[38;5;34m37,248\u001b[0m │\n",
       "├─────────────────────────────────┼────────────────────────┼───────────────┤\n",
       "│ dense_3 (\u001b[38;5;33mDense\u001b[0m)                 │ (\u001b[38;5;45mNone\u001b[0m, \u001b[38;5;34m10\u001b[0m)             │           \u001b[38;5;34m650\u001b[0m │\n",
       "└─────────────────────────────────┴────────────────────────┴───────────────┘\n"
      ]
     },
     "metadata": {},
     "output_type": "display_data"
    },
    {
     "data": {
      "text/html": [
       "<pre style=\"white-space:pre;overflow-x:auto;line-height:normal;font-family:Menlo,'DejaVu Sans Mono',consolas,'Courier New',monospace\"><span style=\"font-weight: bold\"> Total params: </span><span style=\"color: #00af00; text-decoration-color: #00af00\">414,986</span> (1.58 MB)\n",
       "</pre>\n"
      ],
      "text/plain": [
       "\u001b[1m Total params: \u001b[0m\u001b[38;5;34m414,986\u001b[0m (1.58 MB)\n"
      ]
     },
     "metadata": {},
     "output_type": "display_data"
    },
    {
     "data": {
      "text/html": [
       "<pre style=\"white-space:pre;overflow-x:auto;line-height:normal;font-family:Menlo,'DejaVu Sans Mono',consolas,'Courier New',monospace\"><span style=\"font-weight: bold\"> Trainable params: </span><span style=\"color: #00af00; text-decoration-color: #00af00\">414,986</span> (1.58 MB)\n",
       "</pre>\n"
      ],
      "text/plain": [
       "\u001b[1m Trainable params: \u001b[0m\u001b[38;5;34m414,986\u001b[0m (1.58 MB)\n"
      ]
     },
     "metadata": {},
     "output_type": "display_data"
    },
    {
     "data": {
      "text/html": [
       "<pre style=\"white-space:pre;overflow-x:auto;line-height:normal;font-family:Menlo,'DejaVu Sans Mono',consolas,'Courier New',monospace\"><span style=\"font-weight: bold\"> Non-trainable params: </span><span style=\"color: #00af00; text-decoration-color: #00af00\">0</span> (0.00 B)\n",
       "</pre>\n"
      ],
      "text/plain": [
       "\u001b[1m Non-trainable params: \u001b[0m\u001b[38;5;34m0\u001b[0m (0.00 B)\n"
      ]
     },
     "metadata": {},
     "output_type": "display_data"
    }
   ],
   "source": [
    "model_GRU_2 = tf.keras.Sequential([\n",
    "    tf.keras.layers.GRU(256, return_sequences=True, name='GRU_1_returns_seq'),\n",
    "    tf.keras.layers.GRU(128, return_sequences=True, name='GRU_2_returns_seq'),\n",
    "    tf.keras.layers.GRU(64, name='GRU_3_returns_last_only'),\n",
    "    tf.keras.layers.Dense(10)\n",
    "])\n",
    "\n",
    "model_GRU_2.build([None, None, word_vector_length])\n",
    "\n",
    "model_GRU_2.summary()"
   ]
  },
  {
   "cell_type": "code",
   "execution_count": 69,
   "id": "cb71aa4d-6fc0-4446-b41f-8be05ae40acf",
   "metadata": {},
   "outputs": [
    {
     "name": "stdout",
     "output_type": "stream",
     "text": [
      "predictions has shape: (32, 64, 256)\n",
      "targets has shape: (32, 64)\n",
      "reshaped_targets has shape: (32, 64, 256)\n",
      "non_pad has shape: (32, 64)\n",
      "\n",
      "non_pad looks like this: \n",
      "\n",
      " [[1. 1. 1. ... 0. 0. 0.]\n",
      " [1. 1. 1. ... 0. 0. 0.]\n",
      " [1. 1. 1. ... 0. 0. 0.]\n",
      " ...\n",
      " [1. 1. 1. ... 0. 0. 0.]\n",
      " [1. 1. 1. ... 0. 0. 0.]\n",
      " [1. 1. 1. ... 0. 0. 0.]]\n"
     ]
    }
   ],
   "source": [
    "#Calculating perplexity\n",
    "# Setting random seeds\n",
    "np.random.seed(32)\n",
    "# Load from .npy files\n",
    "predictions = np.load('predictions.npy')\n",
    "targets = np.load('targets.npy')\n",
    "\n",
    "# Print shapes\n",
    "print(f'predictions has shape: {predictions.shape}')\n",
    "print(f'targets has shape: {targets.shape}')\n",
    "\n",
    "reshaped_targets = np.eye(predictions.shape[-1])[targets]   #predictions.shape[-1] will return the size of the last dimension of predictions.\n",
    "print(f'reshaped_targets has shape: {reshaped_targets.shape}')\n",
    "\n",
    "log_p = np.sum(predictions * reshaped_targets, axis= -1)\n",
    "\n",
    "#np.equal() and get a tensor with 1s in the positions of actual values and 0s\n",
    "non_pad = 1.0 - np.equal(targets, 0)\n",
    "print(f'non_pad has shape: {non_pad.shape}\\n')\n",
    "print(f'non_pad looks like this: \\n\\n {non_pad}')"
   ]
  },
  {
   "cell_type": "code",
   "execution_count": 70,
   "id": "92b61a69-1c27-4723-9549-2afaee25a387",
   "metadata": {},
   "outputs": [
    {
     "name": "stdout",
     "output_type": "stream",
     "text": [
      "real log probabilities still have shape: (32, 64)\n"
     ]
    }
   ],
   "source": [
    "#computing the product of the log probabilities and the non_pad tensor you remove the effect of padding on the metric:\n",
    "real_log_p = log_p * non_pad\n",
    "print(f'real log probabilities still have shape: {real_log_p.shape}')"
   ]
  },
  {
   "cell_type": "code",
   "execution_count": 71,
   "id": "1e47d42e-ed5b-4156-af51-60c98900e1c9",
   "metadata": {},
   "outputs": [
    {
     "name": "stdout",
     "output_type": "stream",
     "text": [
      "log probabilities before filtering padding: \n",
      "\n",
      " [[ -5.39654493  -1.03111839  -0.66916656 ... -22.37672997 -23.18770981\n",
      "  -21.84348297]\n",
      " [ -4.58577061  -1.13412857  -8.53803253 ... -20.15686035 -26.83709717\n",
      "  -23.57501984]\n",
      " [ -5.22238874  -1.28241444  -0.17312431 ... -21.328228   -19.85441208\n",
      "  -33.88444138]\n",
      " ...\n",
      " [ -5.39654493 -17.29168129  -4.36076593 ... -20.82580185 -21.06583786\n",
      "  -22.44311523]\n",
      " [ -5.93131638 -14.24741745  -0.26373291 ... -26.74324799 -18.38433075\n",
      "  -22.35527802]\n",
      " [ -5.67053604  -0.10595131   0.         ... -23.33252335 -28.08737564\n",
      "  -23.87880707]]\n",
      "\n",
      "log probabilities after filtering padding: \n",
      "\n",
      " [[ -5.39654493  -1.03111839  -0.66916656 ...  -0.          -0.\n",
      "   -0.        ]\n",
      " [ -4.58577061  -1.13412857  -8.53803253 ...  -0.          -0.\n",
      "   -0.        ]\n",
      " [ -5.22238874  -1.28241444  -0.17312431 ...  -0.          -0.\n",
      "   -0.        ]\n",
      " ...\n",
      " [ -5.39654493 -17.29168129  -4.36076593 ...  -0.          -0.\n",
      "   -0.        ]\n",
      " [ -5.93131638 -14.24741745  -0.26373291 ...  -0.          -0.\n",
      "   -0.        ]\n",
      " [ -5.67053604  -0.10595131   0.         ...  -0.          -0.\n",
      "   -0.        ]]\n"
     ]
    }
   ],
   "source": [
    "#check the effect of filtering out the padding by looking at the two log probabilities tensors:\n",
    "print(f'log probabilities before filtering padding: \\n\\n {log_p}\\n')\n",
    "print(f'log probabilities after filtering padding: \\n\\n {real_log_p}')"
   ]
  },
  {
   "cell_type": "code",
   "execution_count": 72,
   "id": "361cfb6e-7c01-4182-a546-73cff294e31a",
   "metadata": {},
   "outputs": [
    {
     "name": "stdout",
     "output_type": "stream",
     "text": [
      "The log perplexity and perplexity of the model are respectively: 2.6211854987065033 and 13.752016923578548\n"
     ]
    }
   ],
   "source": [
    "#sum the log probabilities in each sequence and divide by the number of non padding elements\n",
    "log_ppx = np.sum(real_log_p, axis=1) / np.sum(non_pad, axis=1)\n",
    "log_ppx = np.mean(-log_ppx)\n",
    "print(f'The log perplexity and perplexity of the model are respectively: {log_ppx} and {np.exp(log_ppx)}')"
   ]
  }
 ],
 "metadata": {
  "kernelspec": {
   "display_name": "Python 3 (ipykernel)",
   "language": "python",
   "name": "python3"
  },
  "language_info": {
   "codemirror_mode": {
    "name": "ipython",
    "version": 3
   },
   "file_extension": ".py",
   "mimetype": "text/x-python",
   "name": "python",
   "nbconvert_exporter": "python",
   "pygments_lexer": "ipython3",
   "version": "3.11.7"
  }
 },
 "nbformat": 4,
 "nbformat_minor": 5
}
