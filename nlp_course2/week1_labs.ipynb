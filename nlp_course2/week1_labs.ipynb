{
 "cells": [
  {
   "cell_type": "code",
   "execution_count": null,
   "id": "cb572239-41d6-47a0-9939-4260250e1775",
   "metadata": {},
   "outputs": [],
   "source": [
    "#1.identify\n",
    "#2.find strings n edit distance away:\n",
    "#3.filter candidates\n",
    "#4.calculate probability(choose the largest one)"
   ]
  },
  {
   "cell_type": "code",
   "execution_count": null,
   "id": "62c7cdee-6f32-4e05-b73c-cbe79cc5193c",
   "metadata": {},
   "outputs": [],
   "source": [
    "#############build the vocab to identify "
   ]
  },
  {
   "cell_type": "code",
   "execution_count": 16,
   "id": "0efd1e59-cf0b-4978-81d9-e13912b5b45e",
   "metadata": {},
   "outputs": [],
   "source": [
    "# imports\n",
    "import re # regular expression library; for tokenization of words\n",
    "from collections import Counter # collections library; counter: dict subclass for counting hashable objects\n",
    "import matplotlib.pyplot as plt # for data visualization"
   ]
  },
  {
   "cell_type": "code",
   "execution_count": 2,
   "id": "430745ed-4b40-4b35-862a-ae2473fd72dc",
   "metadata": {},
   "outputs": [
    {
     "name": "stdout",
     "output_type": "stream",
     "text": [
      "red pink pink blue blue yellow ORANGE BLUE BLUE PINK\n",
      "string length :  52\n"
     ]
    }
   ],
   "source": [
    "# the tiny corpus of text ! \n",
    "text = 'red pink pink blue blue yellow ORANGE BLUE BLUE PINK' # 🌈\n",
    "print(text)\n",
    "print('string length : ',len(text))"
   ]
  },
  {
   "cell_type": "code",
   "execution_count": 4,
   "id": "efe7c944-bb33-4b8b-9ee8-4fec2ce51993",
   "metadata": {},
   "outputs": [
    {
     "name": "stdout",
     "output_type": "stream",
     "text": [
      "red pink pink blue blue yellow orange blue blue pink\n",
      "['red', 'pink', 'pink', 'blue', 'blue', 'yellow', 'orange', 'blue', 'blue', 'pink']\n"
     ]
    }
   ],
   "source": [
    "#Preprocessing\n",
    "# convert all letters to lower case\n",
    "text_lowercase = text.lower()\n",
    "print(text_lowercase)\n",
    "# some regex to tokenize the string to words and return them in a list\n",
    "words = re.findall(r'\\w+', text_lowercase)\n",
    "print(words)"
   ]
  },
  {
   "cell_type": "code",
   "execution_count": 17,
   "id": "ea223bf5-8573-497f-9db0-b7f4fab1291a",
   "metadata": {},
   "outputs": [
    {
     "name": "stdout",
     "output_type": "stream",
     "text": [
      "{'red', 'orange', 'blue', 'pink', 'yellow'}\n",
      "count :  5\n"
     ]
    }
   ],
   "source": [
    "#Create Vocabulary\n",
    "vocab = set(words)\n",
    "print(vocab)\n",
    "print('count : ',len(vocab))"
   ]
  },
  {
   "cell_type": "code",
   "execution_count": 27,
   "id": "7092977d-0b62-4abc-8ecc-e23ca4856d84",
   "metadata": {},
   "outputs": [
    {
     "name": "stdout",
     "output_type": "stream",
     "text": [
      "Counter({'blue': 4, 'pink': 3, 'red': 1, 'yellow': 1, 'orange': 1})\n",
      "count :  5\n"
     ]
    }
   ],
   "source": [
    "count_a = Counter(words)\n",
    "print(count_a)\n",
    "print('count : ',len(count_a))"
   ]
  },
  {
   "cell_type": "code",
   "execution_count": 28,
   "id": "7fc1af26-c939-4c0e-9a9e-43a2f0dc2bcd",
   "metadata": {},
   "outputs": [
    {
     "data": {
      "image/png": "[encoded data removed]",
      "text/plain": [
       "<Figure size 640x480 with 1 Axes>"
      ]
     },
     "metadata": {},
     "output_type": "display_data"
    }
   ],
   "source": [
    "# bar chart of sorted word counts\n",
    "d = {'blue': count_a['blue'], 'pink': count_a['pink'], 'red': count_a['red'], 'yellow': count_a['yellow'], 'orange': count_a['orange']}\n",
    "plt.bar(range(len(d)), list(d.values()), align='center', color=d.keys())\n",
    "_ = plt.xticks(range(len(d)), list(d.keys()))"
   ]
  },
  {
   "cell_type": "code",
   "execution_count": 29,
   "id": "801b06ce-b9ba-49bf-9454-8c2fdb32198d",
   "metadata": {},
   "outputs": [
    {
     "name": "stdout",
     "output_type": "stream",
     "text": [
      "Counter({'blue': 4, 'pink': 3, 'purple': 2, 'red': 1, 'yellow': 1, 'orange': 1})\n"
     ]
    }
   ],
   "source": [
    "count_a.update(Counter({'purple': 2}))\n",
    "print(count_a)"
   ]
  },
  {
   "cell_type": "code",
   "execution_count": null,
   "id": "a326b521-a360-4fae-879a-8682c98f836f",
   "metadata": {},
   "outputs": [],
   "source": [
    "###############"
   ]
  },
  {
   "cell_type": "code",
   "execution_count": null,
   "id": "6a8781b9-96b7-42fe-af01-598565e6ba9b",
   "metadata": {},
   "outputs": [],
   "source": [
    "####################step2. edit strings\n",
    "#insert/delete/switch/replace"
   ]
  },
  {
   "cell_type": "code",
   "execution_count": 31,
   "id": "98429da1-ceb7-49fb-b95b-e0119233182e",
   "metadata": {},
   "outputs": [],
   "source": [
    "# data\n",
    "word = 'dearz' # 🦌"
   ]
  },
  {
   "cell_type": "code",
   "execution_count": 32,
   "id": "b01ca669-88b2-4ed5-8e92-5bd1b8c5dde9",
   "metadata": {},
   "outputs": [
    {
     "name": "stdout",
     "output_type": "stream",
     "text": [
      "['', 'dearz']\n",
      "['d', 'earz']\n",
      "['de', 'arz']\n",
      "['dea', 'rz']\n",
      "['dear', 'z']\n",
      "['dearz', '']\n"
     ]
    }
   ],
   "source": [
    "# splits with a loop\n",
    "splits_a = []\n",
    "for i in range(len(word)+1):\n",
    "    splits_a.append([word[:i],word[i:]])\n",
    "\n",
    "for i in splits_a:\n",
    "    print(i)"
   ]
  },
  {
   "cell_type": "code",
   "execution_count": 33,
   "id": "1b7d4afc-220d-4b94-88b3-552f29fa9de1",
   "metadata": {},
   "outputs": [
    {
     "name": "stdout",
     "output_type": "stream",
     "text": [
      "('', 'dearz')\n",
      "('d', 'earz')\n",
      "('de', 'arz')\n",
      "('dea', 'rz')\n",
      "('dear', 'z')\n",
      "('dearz', '')\n"
     ]
    }
   ],
   "source": [
    "# same splits, done using a list comprehension\n",
    "splits_b = [(word[:i], word[i:]) for i in range(len(word) + 1)]\n",
    "\n",
    "for i in splits_b:\n",
    "    print(i)"
   ]
  },
  {
   "cell_type": "code",
   "execution_count": 34,
   "id": "b4dfde7e-2590-48c4-9720-c69007dc7e90",
   "metadata": {},
   "outputs": [
    {
     "name": "stdout",
     "output_type": "stream",
     "text": [
      "word :  dearz\n",
      "earz  <-- delete  d\n",
      "darz  <-- delete  e\n",
      "derz  <-- delete  a\n",
      "deaz  <-- delete  r\n",
      "dear  <-- delete  z\n"
     ]
    }
   ],
   "source": [
    "#delete\n",
    "splits = splits_a\n",
    "deletes = []\n",
    "print('word : ', word)\n",
    "\n",
    "for L,R in splits:\n",
    "    if R:\n",
    "        print(L + R[1:], ' <-- delete ', R[0])"
   ]
  },
  {
   "cell_type": "code",
   "execution_count": 37,
   "id": "13fbf8dc-cb97-4690-8ecd-161252251d3a",
   "metadata": {},
   "outputs": [
    {
     "name": "stdout",
     "output_type": "stream",
     "text": [
      "word :  dearz\n",
      "first item from the splits list :  ['de', 'arz']\n",
      "L :  de\n",
      "R :  arz\n",
      "*** now implicit delete by excluding the leading letter ***\n",
      "L + R[1:] :  derz  <-- delete  a\n"
     ]
    }
   ],
   "source": [
    "# breaking it down\n",
    "print('word : ', word)\n",
    "one_split = splits[2]\n",
    "print('first item from the splits list : ', one_split)\n",
    "L = one_split[0]\n",
    "R = one_split[1]\n",
    "print('L : ', L)\n",
    "print('R : ', R)\n",
    "print('*** now implicit delete by excluding the leading letter ***')\n",
    "print('L + R[1:] : ',L + R[1:], ' <-- delete ', R[0])"
   ]
  },
  {
   "cell_type": "code",
   "execution_count": null,
   "id": "d77350a2-6107-4579-82d9-a667b4897c70",
   "metadata": {},
   "outputs": [],
   "source": [
    "########always delete R[0] the first character of R"
   ]
  },
  {
   "cell_type": "code",
   "execution_count": 39,
   "id": "be569d22-8f98-44af-b4f1-36ba5d0e9134",
   "metadata": {},
   "outputs": [
    {
     "name": "stdout",
     "output_type": "stream",
     "text": [
      "['earz', 'darz', 'derz', 'deaz', 'dear']\n"
     ]
    }
   ],
   "source": [
    "# deletes with a list comprehension\n",
    "splits = splits_a\n",
    "deletes = [L + R[1:] for L, R in splits if R]\n",
    "print(deletes)"
   ]
  },
  {
   "cell_type": "code",
   "execution_count": 44,
   "id": "7a383254-373d-436d-b719-acc194f8c3ea",
   "metadata": {},
   "outputs": [
    {
     "name": "stdout",
     "output_type": "stream",
     "text": [
      "vocab :  ['dean', 'deer', 'dear', 'fries', 'and', 'coke']\n",
      "edits :  ['earz', 'darz', 'derz', 'deaz', 'dear']\n",
      "candidate words :  {'dear'}\n"
     ]
    }
   ],
   "source": [
    "vocab = ['dean','deer','dear','fries','and','coke']\n",
    "edits = list(deletes)\n",
    "\n",
    "print('vocab : ', vocab)\n",
    "print('edits : ', edits)\n",
    "\n",
    "candidates=set(vocab).intersection(edits)\n",
    "\n",
    "### START CODE HERE ###\n",
    "#candidates = ??  # hint: 'set.intersection'\n",
    "### END CODE HERE ###\n",
    "\n",
    "print('candidate words : ', candidates)"
   ]
  },
  {
   "cell_type": "code",
   "execution_count": null,
   "id": "7da85db7-8b71-4753-84c8-10c257e62757",
   "metadata": {},
   "outputs": [],
   "source": [
    "#####################################################"
   ]
  },
  {
   "cell_type": "code",
   "execution_count": null,
   "id": "24b41d5a-620d-42b1-9605-787061d4553a",
   "metadata": {},
   "outputs": [],
   "source": [
    "##############"
   ]
  }
 ],
 "metadata": {
  "kernelspec": {
   "display_name": "Python 3 (ipykernel)",
   "language": "python",
   "name": "python3"
  },
  "language_info": {
   "codemirror_mode": {
    "name": "ipython",
    "version": 3
   },
   "file_extension": ".py",
   "mimetype": "text/x-python",
   "name": "python",
   "nbconvert_exporter": "python",
   "pygments_lexer": "ipython3",
   "version": "3.11.7"
  }
 },
 "nbformat": 4,
 "nbformat_minor": 5
}
