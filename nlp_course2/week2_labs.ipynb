{
 "cells": [
  {
   "cell_type": "code",
   "execution_count": 25,
   "id": "e4af99b3-8f91-4191-8eae-2cd4bec6118f",
   "metadata": {},
   "outputs": [],
   "source": [
    "import string\n",
    "from collections import defaultdict\n",
    "import numpy as np\n",
    "import pandas as pd"
   ]
  },
  {
   "cell_type": "code",
   "execution_count": null,
   "id": "6d49e3f2-ee19-46f2-8cba-38b61d9746e4",
   "metadata": {},
   "outputs": [],
   "source": [
    "#load the data->from the data(get words,count freq,delete,sort) to get a vocabulary->Processing new text sources(apply assign_unk to label those not in vocab"
   ]
  },
  {
   "cell_type": "code",
   "execution_count": 2,
   "id": "4a6d8421-059e-4960-977d-1a499b97d399",
   "metadata": {},
   "outputs": [],
   "source": [
    "#Read Text Data\n",
    "with open(\"WSJ_02-21.pos\", 'r') as f:\n",
    "    lines = f.readlines()"
   ]
  },
  {
   "cell_type": "code",
   "execution_count": 3,
   "id": "f4e840a0-e246-41d7-aa60-10bbad7b1b81",
   "metadata": {},
   "outputs": [
    {
     "name": "stdout",
     "output_type": "stream",
     "text": [
      "\t\tWord \tTag\n",
      "\n",
      "line number 1: In\tIN\n",
      "\n",
      "line number 2: an\tDT\n",
      "\n",
      "line number 3: Oct.\tNNP\n",
      "\n",
      "line number 4: 19\tCD\n",
      "\n",
      "line number 5: review\tNN\n",
      "\n"
     ]
    }
   ],
   "source": [
    "# Print columns for reference\n",
    "print(\"\\t\\tWord\", \"\\tTag\\n\")\n",
    "\n",
    "# Print first five lines of the dataset\n",
    "for i in range(5):\n",
    "    print(f'line number {i+1}: {lines[i]}')"
   ]
  },
  {
   "cell_type": "code",
   "execution_count": 4,
   "id": "48f96d42-acd4-43ee-ac69-41b8c3a28e84",
   "metadata": {},
   "outputs": [
    {
     "data": {
      "text/plain": [
       "'In\\tIN\\n'"
      ]
     },
     "execution_count": 4,
     "metadata": {},
     "output_type": "execute_result"
    }
   ],
   "source": [
    "# Print first line (unformatted)\n",
    "lines[0]"
   ]
  },
  {
   "cell_type": "code",
   "execution_count": 6,
   "id": "41fc3947-bec1-44aa-be82-1b378f60b680",
   "metadata": {},
   "outputs": [],
   "source": [
    "#Creating a vocabulary\n",
    "# Get the words from each line in the dataset\n",
    "words = [line.split('\\t')[0] for line in lines]"
   ]
  },
  {
   "cell_type": "code",
   "execution_count": 12,
   "id": "1c87cf43-7c91-4700-aa37-6edcd191a3fa",
   "metadata": {},
   "outputs": [],
   "source": [
    "# Define defaultdict of type 'int'\n",
    "freq = defaultdict(int)#return the \"zero\" value of a type if you try to access a key that does not exist.\n",
    "\n",
    "# Count frequency of ocurrence for each word in the dataset\n",
    "for word in words:\n",
    "    freq[word] += 1"
   ]
  },
  {
   "cell_type": "code",
   "execution_count": 14,
   "id": "27a5a36f-12fc-4696-b3fe-138c3f7931c4",
   "metadata": {},
   "outputs": [],
   "source": [
    "#filter out words that appeared only once and also words that are just a newline character\n",
    "#Create the vocabulary by filtering the 'freq' dictionary\n",
    "vocab = [k for k, v in freq.items() if (v > 1 and k != '\\n')]"
   ]
  },
  {
   "cell_type": "code",
   "execution_count": 16,
   "id": "d12981b8-a0ee-4df8-8a2e-01a1e6cd0255",
   "metadata": {},
   "outputs": [
    {
     "name": "stdout",
     "output_type": "stream",
     "text": [
      "Early\n",
      "Earnings\n",
      "Earth\n",
      "Earthquake\n",
      "East\n"
     ]
    }
   ],
   "source": [
    "# Sort the vocabulary\n",
    "vocab.sort()\n",
    "\n",
    "# Print some random values of the vocabulary\n",
    "for i in range(4000, 4005):\n",
    "    print(vocab[i])"
   ]
  },
  {
   "cell_type": "code",
   "execution_count": null,
   "id": "fedff72d-7158-4c70-a9ec-5aa20909a988",
   "metadata": {},
   "outputs": [],
   "source": [
    "########Processing new text sources"
   ]
  },
  {
   "cell_type": "code",
   "execution_count": null,
   "id": "30241673-f400-47af-92e2-85ddd103f345",
   "metadata": {},
   "outputs": [],
   "source": [
    "#unknown word tokens\n",
    "#This function will do the following checks and return an appropriate token:\n",
    "\n",
    "#Check if the unknown word contains any character that is a digit\n",
    "#return --unk_digit--\n",
    "#Check if the unknown word contains any punctuation character\n",
    "#return --unk_punct--\n",
    "#Check if the unknown word contains any upper-case character\n",
    "#return --unk_upper--\n",
    "#Check if the unknown word ends with a suffix that could indicate it is a noun, verb, adjective or adverb\n",
    "#return --unk_noun--, --unk_verb--, --unk_adj--, --unk_adv-- respectively"
   ]
  },
  {
   "cell_type": "code",
   "execution_count": 23,
   "id": "5606f2eb-c024-448e-8b4a-5b3f7121a15b",
   "metadata": {},
   "outputs": [],
   "source": [
    "def assign_unk(word):\n",
    "    \"\"\"\n",
    "    Assign tokens to unknown words\n",
    "    \"\"\"\n",
    "    \n",
    "    # Punctuation characters\n",
    "    # Try printing them out in a new cell!\n",
    "    punct = set(string.punctuation)\n",
    "    \n",
    "    # Suffixes\n",
    "    noun_suffix = [\"action\", \"age\", \"ance\", \"cy\", \"dom\", \"ee\", \"ence\", \"er\", \"hood\", \"ion\", \"ism\", \"ist\", \"ity\", \"ling\", \"ment\", \"ness\", \"or\", \"ry\", \"scape\", \"ship\", \"ty\"]\n",
    "    verb_suffix = [\"ate\", \"ify\", \"ise\", \"ize\"]\n",
    "    adj_suffix = [\"able\", \"ese\", \"ful\", \"i\", \"ian\", \"ible\", \"ic\", \"ish\", \"ive\", \"less\", \"ly\", \"ous\"]\n",
    "    adv_suffix = [\"ward\", \"wards\", \"wise\"]\n",
    "\n",
    "    # Loop the characters in the word, check if any is a digit\n",
    "    if any(char.isdigit() for char in word):\n",
    "        return \"--unk_digit--\"\n",
    "\n",
    "    # Loop the characters in the word, check if any is a punctuation character\n",
    "    elif any(char in punct for char in word):\n",
    "        return \"--unk_punct--\"\n",
    "\n",
    "    # Loop the characters in the word, check if any is an upper case character\n",
    "    elif any(char.isupper() for char in word):\n",
    "        return \"--unk_upper--\"\n",
    "\n",
    "    # Check if word ends with any noun suffix\n",
    "    elif any(word.endswith(suffix) for suffix in noun_suffix):\n",
    "        return \"--unk_noun--\"\n",
    "\n",
    "    # Check if word ends with any verb suffix\n",
    "    elif any(word.endswith(suffix) for suffix in verb_suffix):\n",
    "        return \"--unk_verb--\"\n",
    "\n",
    "    # Check if word ends with any adjective suffix\n",
    "    elif any(word.endswith(suffix) for suffix in adj_suffix):\n",
    "        return \"--unk_adj--\"\n",
    "\n",
    "    # Check if word ends with any adverb suffix\n",
    "    elif any(word.endswith(suffix) for suffix in adv_suffix):\n",
    "        return \"--unk_adv--\"\n",
    "    \n",
    "    # If none of the previous criteria is met, return plain unknown\n",
    "    return \"--unk--\""
   ]
  },
  {
   "cell_type": "code",
   "execution_count": 20,
   "id": "812a8dc7-48d9-4550-936a-785f42fa32f5",
   "metadata": {},
   "outputs": [],
   "source": [
    "#Getting the correct tag for a word\n",
    "def get_word_tag(line, vocab):\n",
    "    # If line is empty return placeholders for word and tag\n",
    "    if not line.split():\n",
    "        word = \"--n--\"\n",
    "        tag = \"--s--\"\n",
    "    else:\n",
    "        # Split line to separate word and tag\n",
    "        word, tag = line.split()\n",
    "        # Check if word is not in vocabulary\n",
    "        if word not in vocab: \n",
    "            # Handle unknown word\n",
    "            tag = assign_unk(word)\n",
    "    return word, tag"
   ]
  },
  {
   "cell_type": "code",
   "execution_count": 21,
   "id": "4dd7125e-c7af-46da-9523-3e2971cd65e0",
   "metadata": {},
   "outputs": [
    {
     "data": {
      "text/plain": [
       "('In', 'IN')"
      ]
     },
     "execution_count": 21,
     "metadata": {},
     "output_type": "execute_result"
    }
   ],
   "source": [
    "get_word_tag('In\\tIN\\n', vocab)"
   ]
  },
  {
   "cell_type": "code",
   "execution_count": 24,
   "id": "34f99098-918a-4acd-bba6-ec89d6eee710",
   "metadata": {},
   "outputs": [
    {
     "data": {
      "text/plain": [
       "('scrutinize', '--unk_verb--')"
      ]
     },
     "execution_count": 24,
     "metadata": {},
     "output_type": "execute_result"
    }
   ],
   "source": [
    "get_word_tag('scrutinize\\tVB\\n', vocab)#This line includes a verb that is not present in the vocabulary"
   ]
  },
  {
   "cell_type": "code",
   "execution_count": null,
   "id": "f47ee026-63e6-48fe-8d35-9b364f16089d",
   "metadata": {},
   "outputs": [],
   "source": [
    "#################"
   ]
  },
  {
   "cell_type": "code",
   "execution_count": 27,
   "id": "5051e196-5178-46b3-bb1b-5ed797be7a38",
   "metadata": {},
   "outputs": [],
   "source": [
    "#toy model tags\n",
    "# Define tags for Adverb, Noun and To (the preposition) , respectively\n",
    "tags = ['RB', 'NN', 'TO']"
   ]
  },
  {
   "cell_type": "code",
   "execution_count": 28,
   "id": "d04d17cc-cbd7-47d7-9c2d-cd10229495fa",
   "metadata": {},
   "outputs": [],
   "source": [
    "# Define 'transition_counts' dictionary\n",
    "# Note: values are the same as the ones in the assignment\n",
    "transition_counts = {\n",
    "    ('NN', 'NN'): 16241,\n",
    "    ('RB', 'RB'): 2263,\n",
    "    ('TO', 'TO'): 2,\n",
    "    ('NN', 'TO'): 5256,\n",
    "    ('RB', 'TO'): 855,\n",
    "    ('TO', 'NN'): 734,\n",
    "    ('NN', 'RB'): 2431,\n",
    "    ('RB', 'NN'): 358,\n",
    "    ('TO', 'RB'): 200\n",
    "}"
   ]
  },
  {
   "cell_type": "code",
   "execution_count": 38,
   "id": "9aaff027-4e4d-4311-a5d3-b32c03b5fa3f",
   "metadata": {},
   "outputs": [
    {
     "data": {
      "text/plain": [
       "array([[1.6241e+04, 2.4310e+03, 5.2560e+03],\n",
       "       [3.5800e+02, 2.2630e+03, 8.5500e+02],\n",
       "       [7.3400e+02, 2.0000e+02, 2.0000e+00]])"
      ]
     },
     "execution_count": 38,
     "metadata": {},
     "output_type": "execute_result"
    }
   ],
   "source": [
    "#create transition matrix\n",
    "sorted_tags = sorted(tags)\n",
    "transition_matrix = np.zeros((len(tags), len(tags)))\n",
    "\n",
    "# Loop rows\n",
    "for i in range(len(tags)):\n",
    "    # Loop columns\n",
    "    for j in range(len(tags)):\n",
    "        # Define tag pair\n",
    "        tag_tuple = (sorted_tags[i], sorted_tags[j])\n",
    "        # Get frequency from transition_counts dict and assign to (i, j) position in the matrix\n",
    "        transition_matrix[i, j] = transition_counts.get(tag_tuple)\n",
    "\n",
    "# Print matrix\n",
    "transition_matrix"
   ]
  },
  {
   "cell_type": "code",
   "execution_count": 39,
   "id": "0d1745ff-120f-48c7-a4c9-71a727d0fddd",
   "metadata": {},
   "outputs": [],
   "source": [
    "# Define 'print_matrix' function\n",
    "def print_matrix(matrix):\n",
    "    print(pd.DataFrame(matrix, index=sorted_tags, columns=sorted_tags))"
   ]
  },
  {
   "cell_type": "code",
   "execution_count": 40,
   "id": "9dd04def-3518-4000-bb01-6965d2e832d5",
   "metadata": {},
   "outputs": [
    {
     "name": "stdout",
     "output_type": "stream",
     "text": [
      "         NN      RB      TO\n",
      "NN  16241.0  2431.0  5256.0\n",
      "RB    358.0  2263.0   855.0\n",
      "TO    734.0   200.0     2.0\n"
     ]
    }
   ],
   "source": [
    "print_matrix(transition_matrix)"
   ]
  },
  {
   "cell_type": "code",
   "execution_count": 44,
   "id": "41ee86b9-97fc-4046-b743-89c4b1097f48",
   "metadata": {},
   "outputs": [],
   "source": [
    "transition_matrix = transition_matrix/10"
   ]
  },
  {
   "cell_type": "code",
   "execution_count": null,
   "id": "b94884e6-e58e-46ec-b3d2-a5b67204e178",
   "metadata": {},
   "outputs": [],
   "source": [
    "#matrix manipulation"
   ]
  },
  {
   "cell_type": "code",
   "execution_count": 45,
   "id": "2585bb94-6456-4d41-aa4e-0b5b01d376bf",
   "metadata": {},
   "outputs": [
    {
     "data": {
      "text/plain": [
       "array([[2392.8],\n",
       "       [ 347.6],\n",
       "       [  93.6]])"
      ]
     },
     "execution_count": 45,
     "metadata": {},
     "output_type": "execute_result"
    }
   ],
   "source": [
    "# Compute sum of row for each row\n",
    "rows_sum = transition_matrix.sum(axis=1, keepdims=True)\n",
    "\n",
    "# Print sum of rows\n",
    "rows_sum"
   ]
  },
  {
   "cell_type": "code",
   "execution_count": 46,
   "id": "e7368a51-e1b1-490a-b430-066d674b5549",
   "metadata": {},
   "outputs": [
    {
     "name": "stdout",
     "output_type": "stream",
     "text": [
      "          NN        RB        TO\n",
      "NN  0.678745  0.101596  0.219659\n",
      "RB  0.102992  0.651036  0.245972\n",
      "TO  0.784188  0.213675  0.002137\n"
     ]
    }
   ],
   "source": [
    "# Normalize transition matrix\n",
    "transition_matrix = transition_matrix / rows_sum\n",
    "\n",
    "# Print normalized matrix\n",
    "print_matrix(transition_matrix)"
   ]
  },
  {
   "cell_type": "code",
   "execution_count": 47,
   "id": "61b0a19c-039a-40eb-88a7-58e7b04771aa",
   "metadata": {},
   "outputs": [],
   "source": [
    "#######alternative\n",
    "smoothed_matrix = np.zeros_like(transition_matrix)\n",
    "e = 0.001\n",
    "for i in range(len(tags)):\n",
    "    row_sum = np.sum(transition_matrix[i, :])  # every row's sum\n",
    "    for j in range(len(tags)):\n",
    "        smoothed_matrix[i, j] = (transition_matrix[i, j] + e) / (row_sum + len(tags) * e)\n"
   ]
  },
  {
   "cell_type": "code",
   "execution_count": 48,
   "id": "ae70a2d6-3251-4487-8cb6-0d72c8782cc7",
   "metadata": {},
   "outputs": [
    {
     "name": "stdout",
     "output_type": "stream",
     "text": [
      "          NN        RB        TO\n",
      "NN  0.677711  0.102290  0.219999\n",
      "RB  0.103681  0.650085  0.246234\n",
      "TO  0.782840  0.214033  0.003127\n"
     ]
    }
   ],
   "source": [
    "print_matrix(smoothed_matrix)"
   ]
  },
  {
   "cell_type": "code",
   "execution_count": 49,
   "id": "cecb54b0-8ad1-45a0-8968-1445d34c1d5f",
   "metadata": {},
   "outputs": [
    {
     "data": {
      "text/plain": [
       "array([[1.],\n",
       "       [1.],\n",
       "       [1.]])"
      ]
     },
     "execution_count": 49,
     "metadata": {},
     "output_type": "execute_result"
    }
   ],
   "source": [
    "transition_matrix.sum(axis=1, keepdims=True)"
   ]
  },
  {
   "cell_type": "code",
   "execution_count": 50,
   "id": "a998e9a2-170a-4e79-8eda-9ba40fb6be4b",
   "metadata": {},
   "outputs": [],
   "source": [
    "import math\n",
    "\n",
    "# Copy transition matrix for for-loop example\n",
    "t_matrix_for = np.copy(transition_matrix)\n",
    "\n",
    "# Copy transition matrix for numpy functions example\n",
    "t_matrix_np = np.copy(transition_matrix)"
   ]
  },
  {
   "cell_type": "code",
   "execution_count": 52,
   "id": "e7b262ee-8581-44be-9b30-24cf501e578e",
   "metadata": {},
   "outputs": [
    {
     "name": "stdout",
     "output_type": "stream",
     "text": [
      "          NN        RB        TO\n",
      "NN  8.458964  0.101596  0.219659\n",
      "RB  0.102992  6.502088  0.245972\n",
      "TO  0.784188  0.213675  4.541167\n"
     ]
    },
    {
     "name": "stderr",
     "output_type": "stream",
     "text": [
      "/var/folders/4t/w05mrsdn0r9d85szm0g3kg740000gn/T/ipykernel_73921/3399877994.py:3: DeprecationWarning: Conversion of an array with ndim > 0 to a scalar is deprecated, and will error in future. Ensure you extract a single element from your array before performing this operation. (Deprecated NumPy 1.25.)\n",
      "  t_matrix_for[i, i] =  t_matrix_for[i, i] + math.log(rows_sum[i])\n"
     ]
    }
   ],
   "source": [
    "# Loop values in the diagonal\n",
    "for i in range(len(tags)):\n",
    "    t_matrix_for[i, i] =  t_matrix_for[i, i] + math.log(rows_sum[i])\n",
    "\n",
    "# Print matrix\n",
    "print_matrix(t_matrix_for)"
   ]
  },
  {
   "cell_type": "code",
   "execution_count": 53,
   "id": "eab96ccd-c3e9-4e48-aa23-24b99e5bc3b4",
   "metadata": {},
   "outputs": [
    {
     "data": {
      "text/plain": [
       "(3,)"
      ]
     },
     "execution_count": 53,
     "metadata": {},
     "output_type": "execute_result"
    }
   ],
   "source": [
    "# Save diagonal in a numpy array\n",
    "d = np.diag(t_matrix_np)\n",
    "\n",
    "# Print shape of diagonal\n",
    "d.shape"
   ]
  },
  {
   "cell_type": "code",
   "execution_count": 54,
   "id": "1ccb8b28-99c5-45a7-aa01-97586011222c",
   "metadata": {},
   "outputs": [
    {
     "data": {
      "text/plain": [
       "(3, 1)"
      ]
     },
     "execution_count": 54,
     "metadata": {},
     "output_type": "execute_result"
    }
   ],
   "source": [
    "# Reshape diagonal numpy array\n",
    "d = np.reshape(d, (3,1))\n",
    "\n",
    "# Print shape of diagonal\n",
    "d.shape"
   ]
  },
  {
   "cell_type": "code",
   "execution_count": 55,
   "id": "3c90405e-e244-4423-b9dc-fbb6ad9fa139",
   "metadata": {},
   "outputs": [
    {
     "data": {
      "text/plain": [
       "array([[0.67874457],\n",
       "       [0.65103567],\n",
       "       [0.00213675]])"
      ]
     },
     "execution_count": 55,
     "metadata": {},
     "output_type": "execute_result"
    }
   ],
   "source": [
    "d#diagonal of the matrix"
   ]
  },
  {
   "cell_type": "code",
   "execution_count": 56,
   "id": "34f23107-3e2b-460d-a973-5672defda8da",
   "metadata": {},
   "outputs": [
    {
     "name": "stdout",
     "output_type": "stream",
     "text": [
      "          NN        RB        TO\n",
      "NN  8.458964  0.101596  0.219659\n",
      "RB  0.102992  6.502088  0.245972\n",
      "TO  0.784188  0.213675  4.541167\n"
     ]
    }
   ],
   "source": [
    "#by applying the math.log() function to the rows_sum array and adding the diagonal\n",
    "# Perform the vectorized operation\n",
    "d = d + np.vectorize(math.log)(rows_sum)\n",
    "\n",
    "# Use numpy's 'fill_diagonal' function to update the diagonal\n",
    "np.fill_diagonal(t_matrix_np, d)\n",
    "\n",
    "# Print the matrix\n",
    "print_matrix(t_matrix_np)"
   ]
  },
  {
   "cell_type": "code",
   "execution_count": 57,
   "id": "a895a924-a0c2-49ff-a478-e12cdd8c7161",
   "metadata": {},
   "outputs": [
    {
     "data": {
      "text/plain": [
       "array([[ True,  True,  True],\n",
       "       [ True,  True,  True],\n",
       "       [ True,  True,  True]])"
      ]
     },
     "execution_count": 57,
     "metadata": {},
     "output_type": "execute_result"
    }
   ],
   "source": [
    "# Check for equality\n",
    "t_matrix_for == t_matrix_np"
   ]
  }
 ],
 "metadata": {
  "kernelspec": {
   "display_name": "Python 3 (ipykernel)",
   "language": "python",
   "name": "python3"
  },
  "language_info": {
   "codemirror_mode": {
    "name": "ipython",
    "version": 3
   },
   "file_extension": ".py",
   "mimetype": "text/x-python",
   "name": "python",
   "nbconvert_exporter": "python",
   "pygments_lexer": "ipython3",
   "version": "3.11.7"
  }
 },
 "nbformat": 4,
 "nbformat_minor": 5
}
