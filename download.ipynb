{
 "cells": [
  {
   "cell_type": "code",
   "execution_count": 1,
   "id": "9b221cae-6fcd-4da0-b837-01779dab4b99",
   "metadata": {},
   "outputs": [],
   "source": [
    "from sec_api import QueryApi\n",
    "import sec_API_KEY#the .py file that store my api key\n",
    "from sec_api import RenderApi\n",
    "import os \n",
    "import multiprocessing\n",
    "api_key = sec_API_KEY.API_KEY\n",
    "queryApi = QueryApi(api_key)\n",
    "renderApi = RenderApi(api_key)"
   ]
  },
  {
   "cell_type": "code",
   "execution_count": 2,
   "id": "e6028280-c9b9-4953-b51a-024bf6f0f562",
   "metadata": {},
   "outputs": [],
   "source": [
    "def download_filing(url):\n",
    "  try:\n",
    "    filing = renderApi.get_filing(url)\n",
    "    # file_name example: 000156459019027952-msft-10k_20190630.htm\n",
    "    file_name = url.split(\"/\")[-2] + \"-\" + url.split(\"/\")[-1] \n",
    "    download_to = \"./filings/\" + file_name\n",
    "    with open(download_to, \"w\") as f:\n",
    "      f.write(filing)\n",
    "  except Exception as e:\n",
    "    print(\"Problem with {url}\".format(url=url))\n",
    "    print(e)"
   ]
  },
  {
   "cell_type": "code",
   "execution_count": 3,
   "id": "d24b3345-fb33-4a45-910a-0e3accb5e87b",
   "metadata": {},
   "outputs": [],
   "source": [
    "# load URLs from log file\n",
    "def load_urls():\n",
    "  log_file = open(\"filing_urls.txt\", \"r\")\n",
    "  urls = log_file.read().split(\"\\n\") # convert long string of URLs into a list \n",
    "  log_file.close()\n",
    "  return urls"
   ]
  },
  {
   "cell_type": "code",
   "execution_count": null,
   "id": "f3b21a8f-103c-4abf-b87e-e093fd363abe",
   "metadata": {},
   "outputs": [
    {
     "name": "stdout",
     "output_type": "stream",
     "text": [
      "Start downloading all filings\n",
      "17102 filing URLs loaded\n",
      "Problem with https://www.sec.gov/ix?doc=/Archives/edgar/data/883237/000088323724000025/vrts-20231231.htm\n",
      "HTTPSConnectionPool(host='archive.sec-api.iohttps', port=443): Max retries exceeded with url: /www.sec.gov/ix?doc=/Archives/edgar/data/883237/000088323724000025/vrts-20231231.htm?token=53a4bf458b32d966e096e2c3da65d833269e95f7b75d7250f23d62b6354f50f0 (Caused by NameResolutionError(\"<urllib3.connection.HTTPSConnection object at 0x10753a350>: Failed to resolve 'archive.sec-api.iohttps' ([Errno 8] nodename nor servname provided, or not known)\"))\n",
      "Problem with https://www.sec.gov/ix?doc=/Archives/edgar/data/1514416/000151441624000024/band-20231231.htm\n",
      "HTTPSConnectionPool(host='archive.sec-api.iohttps', port=443): Max retries exceeded with url: /www.sec.gov/ix?doc=/Archives/edgar/data/1514416/000151441624000024/band-20231231.htm?token=53a4bf458b32d966e096e2c3da65d833269e95f7b75d7250f23d62b6354f50f0 (Caused by NameResolutionError(\"<urllib3.connection.HTTPSConnection object at 0x10753bf10>: Failed to resolve 'archive.sec-api.iohttps' ([Errno 8] nodename nor servname provided, or not known)\"))\n",
      "Problem with https://www.sec.gov/ix?doc=/Archives/edgar/data/846901/000084690124000002/lbai-20231231.htm\n",
      "HTTPSConnectionPool(host='archive.sec-api.iohttps', port=443): Max retries exceeded with url: /www.sec.gov/ix?doc=/Archives/edgar/data/846901/000084690124000002/lbai-20231231.htm?token=53a4bf458b32d966e096e2c3da65d833269e95f7b75d7250f23d62b6354f50f0 (Caused by NameResolutionError(\"<urllib3.connection.HTTPSConnection object at 0x107512690>: Failed to resolve 'archive.sec-api.iohttps' ([Errno 8] nodename nor servname provided, or not known)\"))\n",
      "Problem with https://www.sec.gov/ix?doc=/Archives/edgar/data/1598428/000095017024022078/mtus-20231231.htm\n",
      "HTTPSConnectionPool(host='archive.sec-api.iohttps', port=443): Max retries exceeded with url: /www.sec.gov/ix?doc=/Archives/edgar/data/1598428/000095017024022078/mtus-20231231.htm?token=53a4bf458b32d966e096e2c3da65d833269e95f7b75d7250f23d62b6354f50f0 (Caused by NameResolutionError(\"<urllib3.connection.HTTPSConnection object at 0x10756e790>: Failed to resolve 'archive.sec-api.iohttps' ([Errno 8] nodename nor servname provided, or not known)\"))\n",
      "Problem with https://www.sec.gov/ix?doc=/Archives/edgar/data/1111485/000095017024022073/rxst-20231231.htm\n",
      "HTTPSConnectionPool(host='archive.sec-api.iohttps', port=443): Max retries exceeded with url: /www.sec.gov/ix?doc=/Archives/edgar/data/1111485/000095017024022073/rxst-20231231.htm?token=53a4bf458b32d966e096e2c3da65d833269e95f7b75d7250f23d62b6354f50f0 (Caused by NameResolutionError(\"<urllib3.connection.HTTPSConnection object at 0x10751da90>: Failed to resolve 'archive.sec-api.iohttps' ([Errno 8] nodename nor servname provided, or not known)\"))\n",
      "Problem with https://www.sec.gov/ix?doc=/Archives/edgar/data/1529864/000095017024019385/enva-20231231.htm\n",
      "HTTPSConnectionPool(host='archive.sec-api.iohttps', port=443): Max retries exceeded with url: /www.sec.gov/ix?doc=/Archives/edgar/data/1529864/000095017024019385/enva-20231231.htm?token=53a4bf458b32d966e096e2c3da65d833269e95f7b75d7250f23d62b6354f50f0 (Caused by NameResolutionError(\"<urllib3.connection.HTTPSConnection object at 0x1075fa650>: Failed to resolve 'archive.sec-api.iohttps' ([Errno 8] nodename nor servname provided, or not known)\"))\n",
      "Problem with https://www.sec.gov/ix?doc=/Archives/edgar/data/1749704/000174970424000016/agti-20231231.htm\n",
      "HTTPSConnectionPool(host='archive.sec-api.iohttps', port=443): Max retries exceeded with url: /www.sec.gov/ix?doc=/Archives/edgar/data/1749704/000174970424000016/agti-20231231.htm?token=53a4bf458b32d966e096e2c3da65d833269e95f7b75d7250f23d62b6354f50f0 (Caused by NameResolutionError(\"<urllib3.connection.HTTPSConnection object at 0x11112da90>: Failed to resolve 'archive.sec-api.iohttps' ([Errno 8] nodename nor servname provided, or not known)\"))\n",
      "Problem with https://www.sec.gov/ix?doc=/Archives/edgar/data/1484778/000148477824000035/tdup-20231231.htm\n",
      "HTTPSConnectionPool(host='archive.sec-api.iohttps', port=443): Max retries exceeded with url: /www.sec.gov/ix?doc=/Archives/edgar/data/1484778/000148477824000035/tdup-20231231.htm?token=53a4bf458b32d966e096e2c3da65d833269e95f7b75d7250f23d62b6354f50f0 (Caused by NameResolutionError(\"<urllib3.connection.HTTPSConnection object at 0x111141b90>: Failed to resolve 'archive.sec-api.iohttps' ([Errno 8] nodename nor servname provided, or not known)\"))\n",
      "Problem with https://www.sec.gov/ix?doc=/Archives/edgar/data/8063/000000806324000014/atro-20231231.htm\n",
      "HTTPSConnectionPool(host='archive.sec-api.iohttps', port=443): Max retries exceeded with url: /www.sec.gov/ix?doc=/Archives/edgar/data/8063/000000806324000014/atro-20231231.htm?token=53a4bf458b32d966e096e2c3da65d833269e95f7b75d7250f23d62b6354f50f0 (Caused by NameResolutionError(\"<urllib3.connection.HTTPSConnection object at 0x110fe7f50>: Failed to resolve 'archive.sec-api.iohttps' ([Errno 8] nodename nor servname provided, or not known)\"))\n",
      "Problem with https://www.sec.gov/ix?doc=/Archives/edgar/data/1575858/000149315223006277/form10-k.htm\n",
      "HTTPSConnectionPool(host='archive.sec-api.iohttps', port=443): Max retries exceeded with url: /www.sec.gov/ix?doc=/Archives/edgar/data/1575858/000149315223006277/form10-k.htm?token=53a4bf458b32d966e096e2c3da65d833269e95f7b75d7250f23d62b6354f50f0 (Caused by NameResolutionError(\"<urllib3.connection.HTTPSConnection object at 0x111667650>: Failed to resolve 'archive.sec-api.iohttps' ([Errno 8] nodename nor servname provided, or not known)\"))\n",
      "Problem with https://www.sec.gov/ix?doc=/Archives/edgar/data/1115055/000111505523000013/pnfp-20221231.htm\n",
      "HTTPSConnectionPool(host='archive.sec-api.iohttps', port=443): Max retries exceeded with url: /www.sec.gov/ix?doc=/Archives/edgar/data/1115055/000111505523000013/pnfp-20221231.htm?token=53a4bf458b32d966e096e2c3da65d833269e95f7b75d7250f23d62b6354f50f0 (Caused by NameResolutionError(\"<urllib3.connection.HTTPSConnection object at 0x111665a90>: Failed to resolve 'archive.sec-api.iohttps' ([Errno 8] nodename nor servname provided, or not known)\"))\n",
      "Problem with https://www.sec.gov/ix?doc=/Archives/edgar/data/51143/000155837023002376/ibm-20221231x10k.htm\n",
      "HTTPSConnectionPool(host='archive.sec-api.iohttps', port=443): Max retries exceeded with url: /www.sec.gov/ix?doc=/Archives/edgar/data/51143/000155837023002376/ibm-20221231x10k.htm?token=53a4bf458b32d966e096e2c3da65d833269e95f7b75d7250f23d62b6354f50f0 (Caused by NameResolutionError(\"<urllib3.connection.HTTPSConnection object at 0x11167c850>: Failed to resolve 'archive.sec-api.iohttps' ([Errno 8] nodename nor servname provided, or not known)\"))\n",
      "Problem with https://www.sec.gov/ix?doc=/Archives/edgar/data/1846576/000162828023005575/figs-20221231.htm\n",
      "HTTPSConnectionPool(host='archive.sec-api.iohttps', port=443): Max retries exceeded with url: /www.sec.gov/ix?doc=/Archives/edgar/data/1846576/000162828023005575/figs-20221231.htm?token=53a4bf458b32d966e096e2c3da65d833269e95f7b75d7250f23d62b6354f50f0 (Caused by NameResolutionError(\"<urllib3.connection.HTTPSConnection object at 0x11167f590>: Failed to resolve 'archive.sec-api.iohttps' ([Errno 8] nodename nor servname provided, or not known)\"))\n",
      "Problem with https://www.sec.gov/ix?doc=/Archives/edgar/data/828944/000162828023005573/wsfs-20221231.htm\n",
      "HTTPSConnectionPool(host='archive.sec-api.iohttps', port=443): Max retries exceeded with url: /www.sec.gov/ix?doc=/Archives/edgar/data/828944/000162828023005573/wsfs-20221231.htm?token=53a4bf458b32d966e096e2c3da65d833269e95f7b75d7250f23d62b6354f50f0 (Caused by NameResolutionError(\"<urllib3.connection.HTTPSConnection object at 0x111673410>: Failed to resolve 'archive.sec-api.iohttps' ([Errno 8] nodename nor servname provided, or not known)\"))\n",
      "Problem with https://www.sec.gov/ix?doc=/Archives/edgar/data/73124/000007312423000049/ntrs-20221231.htm\n",
      "HTTPSConnectionPool(host='archive.sec-api.iohttps', port=443): Max retries exceeded with url: /www.sec.gov/ix?doc=/Archives/edgar/data/73124/000007312423000049/ntrs-20221231.htm?token=53a4bf458b32d966e096e2c3da65d833269e95f7b75d7250f23d62b6354f50f0 (Caused by NameResolutionError(\"<urllib3.connection.HTTPSConnection object at 0x111681490>: Failed to resolve 'archive.sec-api.iohttps' ([Errno 8] nodename nor servname provided, or not known)\"))\n",
      "Problem with https://www.sec.gov/ix?doc=/Archives/edgar/data/1830043/000095017023005080/bmbl-20221231.htm\n",
      "HTTPSConnectionPool(host='archive.sec-api.iohttps', port=443): Max retries exceeded with url: /www.sec.gov/ix?doc=/Archives/edgar/data/1830043/000095017023005080/bmbl-20221231.htm?token=53a4bf458b32d966e096e2c3da65d833269e95f7b75d7250f23d62b6354f50f0 (Caused by NameResolutionError(\"<urllib3.connection.HTTPSConnection object at 0x111665dd0>: Failed to resolve 'archive.sec-api.iohttps' ([Errno 8] nodename nor servname provided, or not known)\"))\n",
      "Problem with https://www.sec.gov/ix?doc=/Archives/edgar/data/1023128/000102312823000053/lad-20221231.htm\n",
      "HTTPSConnectionPool(host='archive.sec-api.iohttps', port=443): Max retries exceeded with url: /www.sec.gov/ix?doc=/Archives/edgar/data/1023128/000102312823000053/lad-20221231.htm?token=53a4bf458b32d966e096e2c3da65d833269e95f7b75d7250f23d62b6354f50f0 (Caused by NameResolutionError(\"<urllib3.connection.HTTPSConnection object at 0x11173c510>: Failed to resolve 'archive.sec-api.iohttps' ([Errno 8] nodename nor servname provided, or not known)\"))\n"
     ]
    }
   ],
   "source": [
    "from concurrent.futures import ThreadPoolExecutor\n",
    "\n",
    "def download_all_filings():\n",
    "    print(\"Start downloading all filings\")\n",
    "    download_folder = \"./filings\"\n",
    "    if not os.path.isdir(download_folder):\n",
    "        os.makedirs(download_folder)\n",
    "    \n",
    "    urls = load_urls()  # Adjust this as needed\n",
    "    print(f\"{len(urls)} filing URLs loaded\")\n",
    "\n",
    "    with ThreadPoolExecutor(max_workers=9) as executor:\n",
    "        executor.map(download_filing, urls)\n",
    "\n",
    "    print(\"All filings downloaded\")\n",
    "\n",
    "download_all_filings()"
   ]
  }
 ],
 "metadata": {
  "kernelspec": {
   "display_name": "Python 3 (ipykernel)",
   "language": "python",
   "name": "python3"
  },
  "language_info": {
   "codemirror_mode": {
    "name": "ipython",
    "version": 3
   },
   "file_extension": ".py",
   "mimetype": "text/x-python",
   "name": "python",
   "nbconvert_exporter": "python",
   "pygments_lexer": "ipython3",
   "version": "3.11.7"
  }
 },
 "nbformat": 4,
 "nbformat_minor": 5
}
