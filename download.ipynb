{
 "cells": [
  {
   "cell_type": "code",
   "execution_count": 1,
   "id": "9b221cae-6fcd-4da0-b837-01779dab4b99",
   "metadata": {},
   "outputs": [],
   "source": [
    "from sec_api import QueryApi\n",
    "import sec_API_KEY#the .py file that store my api key\n",
    "from sec_api import RenderApi\n",
    "import os \n",
    "import multiprocessing\n",
    "api_key = sec_API_KEY.API_KEY\n",
    "queryApi = QueryApi(api_key)\n",
    "renderApi = RenderApi(api_key)"
   ]
  },
  {
   "cell_type": "code",
   "execution_count": 2,
   "id": "e6028280-c9b9-4953-b51a-024bf6f0f562",
   "metadata": {},
   "outputs": [],
   "source": [
    "def download_filing(url):\n",
    "  try:\n",
    "    filing = renderApi.get_filing(url)\n",
    "    # file_name example: 000156459019027952-msft-10k_20190630.htm\n",
    "    file_name = url.split(\"/\")[-2] + \"-\" + url.split(\"/\")[-1] \n",
    "    download_to = \"./filings/\" + file_name\n",
    "    with open(download_to, \"w\") as f:\n",
    "      f.write(filing)\n",
    "  except Exception as e:\n",
    "    print(\"Problem with {url}\".format(url=url))\n",
    "    print(e)"
   ]
  },
  {
   "cell_type": "code",
   "execution_count": 3,
   "id": "d24b3345-fb33-4a45-910a-0e3accb5e87b",
   "metadata": {},
   "outputs": [],
   "source": [
    "# load URLs from log file\n",
    "def load_urls():\n",
    "  log_file = open(\"filing_urls.txt\", \"r\")\n",
    "  urls = log_file.read().split(\"\\n\") # convert long string of URLs into a list \n",
    "  log_file.close()\n",
    "  return urls"
   ]
  },
  {
   "cell_type": "code",
   "execution_count": 4,
   "id": "f3b21a8f-103c-4abf-b87e-e093fd363abe",
   "metadata": {},
   "outputs": [
    {
     "name": "stdout",
     "output_type": "stream",
     "text": [
      "Start downloading all filings\n",
      "7839 filing URLs loaded\n",
      "Problem with https://www.sec.gov/ix?doc=/Archives/edgar/data/883237/000088323724000025/vrts-20231231.htm\n",
      "HTTPSConnectionPool(host='archive.sec-api.iohttps', port=443): Max retries exceeded with url: /www.sec.gov/ix?doc=/Archives/edgar/data/883237/000088323724000025/vrts-20231231.htm?token=53a4bf458b32d966e096e2c3da65d833269e95f7b75d7250f23d62b6354f50f0 (Caused by NameResolutionError(\"<urllib3.connection.HTTPSConnection object at 0x106e8e450>: Failed to resolve 'archive.sec-api.iohttps' ([Errno 8] nodename nor servname provided, or not known)\"))\n",
      "Problem with https://www.sec.gov/ix?doc=/Archives/edgar/data/1514416/000151441624000024/band-20231231.htm\n",
      "HTTPSConnectionPool(host='archive.sec-api.iohttps', port=443): Max retries exceeded with url: /www.sec.gov/ix?doc=/Archives/edgar/data/1514416/000151441624000024/band-20231231.htm?token=53a4bf458b32d966e096e2c3da65d833269e95f7b75d7250f23d62b6354f50f0 (Caused by NameResolutionError(\"<urllib3.connection.HTTPSConnection object at 0x106e8d250>: Failed to resolve 'archive.sec-api.iohttps' ([Errno 8] nodename nor servname provided, or not known)\"))\n",
      "Problem with https://www.sec.gov/ix?doc=/Archives/edgar/data/846901/000084690124000002/lbai-20231231.htm\n",
      "HTTPSConnectionPool(host='archive.sec-api.iohttps', port=443): Max retries exceeded with url: /www.sec.gov/ix?doc=/Archives/edgar/data/846901/000084690124000002/lbai-20231231.htm?token=53a4bf458b32d966e096e2c3da65d833269e95f7b75d7250f23d62b6354f50f0 (Caused by NameResolutionError(\"<urllib3.connection.HTTPSConnection object at 0x106e87250>: Failed to resolve 'archive.sec-api.iohttps' ([Errno 8] nodename nor servname provided, or not known)\"))\n",
      "Problem with https://www.sec.gov/ix?doc=/Archives/edgar/data/1598428/000095017024022078/mtus-20231231.htm\n",
      "HTTPSConnectionPool(host='archive.sec-api.iohttps', port=443): Max retries exceeded with url: /www.sec.gov/ix?doc=/Archives/edgar/data/1598428/000095017024022078/mtus-20231231.htm?token=53a4bf458b32d966e096e2c3da65d833269e95f7b75d7250f23d62b6354f50f0 (Caused by NameResolutionError(\"<urllib3.connection.HTTPSConnection object at 0x106e9dc50>: Failed to resolve 'archive.sec-api.iohttps' ([Errno 8] nodename nor servname provided, or not known)\"))\n",
      "Problem with https://www.sec.gov/ix?doc=/Archives/edgar/data/1111485/000095017024022073/rxst-20231231.htm\n",
      "HTTPSConnectionPool(host='archive.sec-api.iohttps', port=443): Max retries exceeded with url: /www.sec.gov/ix?doc=/Archives/edgar/data/1111485/000095017024022073/rxst-20231231.htm?token=53a4bf458b32d966e096e2c3da65d833269e95f7b75d7250f23d62b6354f50f0 (Caused by NameResolutionError(\"<urllib3.connection.HTTPSConnection object at 0x106e9d3d0>: Failed to resolve 'archive.sec-api.iohttps' ([Errno 8] nodename nor servname provided, or not known)\"))\n",
      "Problem with https://www.sec.gov/ix?doc=/Archives/edgar/data/1529864/000095017024019385/enva-20231231.htm\n",
      "HTTPSConnectionPool(host='archive.sec-api.iohttps', port=443): Max retries exceeded with url: /www.sec.gov/ix?doc=/Archives/edgar/data/1529864/000095017024019385/enva-20231231.htm?token=53a4bf458b32d966e096e2c3da65d833269e95f7b75d7250f23d62b6354f50f0 (Caused by NameResolutionError(\"<urllib3.connection.HTTPSConnection object at 0x106f70050>: Failed to resolve 'archive.sec-api.iohttps' ([Errno 8] nodename nor servname provided, or not known)\"))\n",
      "Problem with https://www.sec.gov/ix?doc=/Archives/edgar/data/1749704/000174970424000016/agti-20231231.htm\n",
      "HTTPSConnectionPool(host='archive.sec-api.iohttps', port=443): Max retries exceeded with url: /www.sec.gov/ix?doc=/Archives/edgar/data/1749704/000174970424000016/agti-20231231.htm?token=53a4bf458b32d966e096e2c3da65d833269e95f7b75d7250f23d62b6354f50f0 (Caused by NameResolutionError(\"<urllib3.connection.HTTPSConnection object at 0x107554c10>: Failed to resolve 'archive.sec-api.iohttps' ([Errno 8] nodename nor servname provided, or not known)\"))\n",
      "Problem with https://www.sec.gov/ix?doc=/Archives/edgar/data/1484778/000148477824000035/tdup-20231231.htm\n",
      "HTTPSConnectionPool(host='archive.sec-api.iohttps', port=443): Max retries exceeded with url: /www.sec.gov/ix?doc=/Archives/edgar/data/1484778/000148477824000035/tdup-20231231.htm?token=53a4bf458b32d966e096e2c3da65d833269e95f7b75d7250f23d62b6354f50f0 (Caused by NameResolutionError(\"<urllib3.connection.HTTPSConnection object at 0x10756dfd0>: Failed to resolve 'archive.sec-api.iohttps' ([Errno 8] nodename nor servname provided, or not known)\"))\n",
      "Problem with https://www.sec.gov/ix?doc=/Archives/edgar/data/8063/000000806324000014/atro-20231231.htm\n",
      "HTTPSConnectionPool(host='archive.sec-api.iohttps', port=443): Max retries exceeded with url: /www.sec.gov/ix?doc=/Archives/edgar/data/8063/000000806324000014/atro-20231231.htm?token=53a4bf458b32d966e096e2c3da65d833269e95f7b75d7250f23d62b6354f50f0 (Caused by NameResolutionError(\"<urllib3.connection.HTTPSConnection object at 0x10756e9d0>: Failed to resolve 'archive.sec-api.iohttps' ([Errno 8] nodename nor servname provided, or not known)\"))\n",
      "Problem with \n",
      "API error: 503 - <!DOCTYPE HTML PUBLIC \"-//W3C//DTD HTML 4.01 Transitional//EN\" \"http://www.w3.org/TR/html4/loose.dtd\">\n",
      "<HTML><HEAD><META HTTP-EQUIV=\"Content-Type\" CONTENT=\"text/html; charset=iso-8859-1\">\n",
      "<TITLE>ERROR: The request could not be satisfied</TITLE>\n",
      "</HEAD><BODY>\n",
      "<H1>503 ERROR</H1>\n",
      "<H2>The request could not be satisfied.</H2>\n",
      "<HR noshade size=\"1px\">\n",
      "The Lambda function associated with the CloudFront distribution is invalid or doesn't have the required permissions.\n",
      "We can't connect to the server for this app or website at this time. There might be too much traffic or a configuration error. Try again later, or contact the app or website owner.\n",
      "<BR clear=\"all\">\n",
      "If you provide content to customers through CloudFront, you can find steps to troubleshoot and help prevent this error by reviewing the CloudFront documentation.\n",
      "<BR clear=\"all\">\n",
      "<HR noshade size=\"1px\">\n",
      "<PRE>\n",
      "Generated by cloudfront (CloudFront)\n",
      "Request ID: Fq3G59O72pwP610Vp3h7TM0NyLgi9sakQl_gEHn9xpJxvDkmMw_hfw==\n",
      "</PRE>\n",
      "<ADDRESS>\n",
      "</ADDRESS>\n",
      "</BODY></HTML>\n",
      "All filings downloaded\n"
     ]
    }
   ],
   "source": [
    "from concurrent.futures import ThreadPoolExecutor\n",
    "\n",
    "def download_all_filings():\n",
    "    print(\"Start downloading all filings\")\n",
    "    download_folder = \"./filings\"\n",
    "    if not os.path.isdir(download_folder):\n",
    "        os.makedirs(download_folder)\n",
    "    \n",
    "    urls = load_urls()  # Adjust this as needed\n",
    "    print(f\"{len(urls)} filing URLs loaded\")\n",
    "\n",
    "    with ThreadPoolExecutor(max_workers= 1 ) as executor:\n",
    "        executor.map(download_filing, urls)\n",
    "\n",
    "    print(\"All filings downloaded\")\n",
    "\n",
    "download_all_filings()"
   ]
  },
  {
   "cell_type": "code",
   "execution_count": null,
   "id": "3e099db5-d2c5-47c1-bfe3-93309b38be28",
   "metadata": {},
   "outputs": [],
   "source": [
    "#manually download the 9 error links "
   ]
  }
 ],
 "metadata": {
  "kernelspec": {
   "display_name": "Python 3 (ipykernel)",
   "language": "python",
   "name": "python3"
  },
  "language_info": {
   "codemirror_mode": {
    "name": "ipython",
    "version": 3
   },
   "file_extension": ".py",
   "mimetype": "text/x-python",
   "name": "python",
   "nbconvert_exporter": "python",
   "pygments_lexer": "ipython3",
   "version": "3.11.7"
  }
 },
 "nbformat": 4,
 "nbformat_minor": 5
}
