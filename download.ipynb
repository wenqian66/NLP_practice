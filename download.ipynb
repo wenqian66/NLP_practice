{
 "cells": [
  {
   "cell_type": "code",
   "execution_count": 7,
   "id": "4a46d61b-c67b-49c6-968d-fc5962c6b712",
   "metadata": {},
   "outputs": [],
   "source": [
    "from sec_api import RenderApi\n",
    "import os\n",
    "import multiprocessing\n",
    "renderApi = RenderApi(api_key=\"\")"
   ]
  },
  {
   "cell_type": "code",
   "execution_count": 8,
   "id": "32a38645-5af5-428b-891b-520b107e8c42",
   "metadata": {},
   "outputs": [],
   "source": [
    "def download_filing(url):\n",
    "  try:\n",
    "    filing = renderApi.get_filing(url)\n",
    "    # file_name example: 000156459019027952-msft-10k_20190630.htm\n",
    "    file_name = url.split(\"/\")[-2] + \"-\" + url.split(\"/\")[-1] \n",
    "    download_to = \"./filings/\" + file_name\n",
    "    with open(download_to, \"w\") as f:\n",
    "      f.write(filing)\n",
    "  except Exception as e:\n",
    "    print(\"Problem with {url}\".format(url=url))\n",
    "    print(e)"
   ]
  },
  {
   "cell_type": "code",
   "execution_count": 4,
   "id": "894beea7-f49b-4e2b-81fa-8d349e31c7f0",
   "metadata": {},
   "outputs": [],
   "source": [
    "download_filing(\"https://www.sec.gov/Archives/edgar/data/1842138/000190359624000036/form10k_wrapspeed.htm\")"
   ]
  },
  {
   "cell_type": "code",
   "execution_count": 9,
   "id": "a3dd82b8-5f31-45f4-b403-26922014de05",
   "metadata": {},
   "outputs": [],
   "source": [
    "# load URLs from log file\n",
    "def load_urls():\n",
    "  log_file = open(\"filing_urls.txt\", \"r\")\n",
    "  urls = log_file.read().split(\"\\n\") # convert long string of URLs into a list \n",
    "  log_file.close()\n",
    "  return urls"
   ]
  },
  {
   "cell_type": "code",
   "execution_count": 27,
   "id": "27e8db8f-4c5e-4ee9-844f-949df0414c0a",
   "metadata": {},
   "outputs": [
    {
     "name": "stdout",
     "output_type": "stream",
     "text": [
      "['In', 'Out', 'RenderApi', '_', '_14', '__', '___', '__builtin__', '__builtins__', '__doc__', '__loader__', '__name__', '__package__', '__session__', '__spec__', '_dh', '_i', '_i1', '_i10', '_i11', '_i12', '_i13', '_i14', '_i15', '_i16', '_i17', '_i18', '_i19', '_i2', '_i20', '_i21', '_i22', '_i23', '_i24', '_i25', '_i26', '_i27', '_i3', '_i4', '_i5', '_i6', '_i7', '_i8', '_i9', '_ih', '_ii', '_iii', '_oh', 'download_all_filings', 'download_filing', 'exit', 'get_ipython', 'load_urls', 'multiprocessing', 'open', 'os', 'quit', 'renderApi', 'urls']\n"
     ]
    }
   ],
   "source": [
    "print(dir())"
   ]
  },
  {
   "cell_type": "code",
   "execution_count": 12,
   "id": "f41cb55e-9ccf-43d1-b21c-d42f752c0366",
   "metadata": {},
   "outputs": [
    {
     "name": "stdout",
     "output_type": "stream",
     "text": [
      "Start downloading all filings\n",
      "39 filing URLs loaded\n",
      "All filings downloaded\n"
     ]
    }
   ],
   "source": [
    "from concurrent.futures import ThreadPoolExecutor\n",
    "\n",
    "def download_all_filings():\n",
    "    print(\"Start downloading all filings\")\n",
    "    download_folder = \"./filings\"\n",
    "    if not os.path.isdir(download_folder):\n",
    "        os.makedirs(download_folder)\n",
    "    \n",
    "    urls = load_urls()[1:40]  # Adjust this as needed\n",
    "    print(f\"{len(urls)} filing URLs loaded\")\n",
    "\n",
    "    with ThreadPoolExecutor(max_workers=10) as executor:\n",
    "        executor.map(download_filing, urls)\n",
    "\n",
    "    print(\"All filings downloaded\")\n",
    "\n",
    "if __name__ == '__main__':\n",
    "    download_all_filings()"
   ]
  }
 ],
 "metadata": {
  "kernelspec": {
   "display_name": "Python 3 (ipykernel)",
   "language": "python",
   "name": "python3"
  },
  "language_info": {
   "codemirror_mode": {
    "name": "ipython",
    "version": 3
   },
   "file_extension": ".py",
   "mimetype": "text/x-python",
   "name": "python",
   "nbconvert_exporter": "python",
   "pygments_lexer": "ipython3",
   "version": "3.11.7"
  }
 },
 "nbformat": 4,
 "nbformat_minor": 5
}
